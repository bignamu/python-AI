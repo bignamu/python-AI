{
  "nbformat": 4,
  "nbformat_minor": 0,
  "metadata": {
    "colab": {
      "name": "Linear Regression.ipynb",
      "provenance": [],
      "collapsed_sections": [],
      "authorship_tag": "ABX9TyOw6WY2ekOpLK7Dvn9vIXVF",
      "include_colab_link": true
    },
    "kernelspec": {
      "name": "python3",
      "display_name": "Python 3"
    },
    "language_info": {
      "name": "python"
    }
  },
  "cells": [
    {
      "cell_type": "markdown",
      "metadata": {
        "id": "view-in-github",
        "colab_type": "text"
      },
      "source": [
        "<a href=\"https://colab.research.google.com/github/bignamu/python-AI/blob/main/Linear_Regression.ipynb\" target=\"_parent\"><img src=\"https://colab.research.google.com/assets/colab-badge.svg\" alt=\"Open In Colab\"/></a>"
      ]
    },
    {
      "cell_type": "code",
      "metadata": {
        "id": "5Cz4hvPaEVEk"
      },
      "source": [
        "X = list(range(10))\n",
        "Y = [1,1,2,4,5,7,8,9,9,10]"
      ],
      "execution_count": null,
      "outputs": []
    },
    {
      "cell_type": "code",
      "metadata": {
        "colab": {
          "base_uri": "https://localhost:8080/",
          "height": 283
        },
        "id": "R7NH6NoCEx_l",
        "outputId": "7e26c86a-572c-4e8a-80c6-28fa07f75f26"
      },
      "source": [
        "import matplotlib.pyplot as plt\n",
        "# plt.plot(X,Y)\n",
        "\n",
        "plt.grid(True)\n",
        "plt.style.use(\"ggplot\")\n",
        "plt.scatter(X,Y)"
      ],
      "execution_count": null,
      "outputs": [
        {
          "output_type": "execute_result",
          "data": {
            "text/plain": [
              "<matplotlib.collections.PathCollection at 0x7f803fcaad10>"
            ]
          },
          "metadata": {
            "tags": []
          },
          "execution_count": 2
        },
        {
          "output_type": "display_data",
          "data": {
            "image/png": "[encoded data removed]",
            "text/plain": [
              "<Figure size 432x288 with 1 Axes>"
            ]
          },
          "metadata": {
            "tags": [],
            "needs_background": "light"
          }
        }
      ]
    },
    {
      "cell_type": "code",
      "metadata": {
        "colab": {
          "base_uri": "https://localhost:8080/"
        },
        "id": "Ycd2QoDgE1Ez",
        "outputId": "fc71249d-fd62-4e4a-f3be-17c9611411b7"
      },
      "source": [
        "class H(): # H라는 template을 만드는 것\n",
        "\n",
        "  def __init__(self,w): # H의 내부에 w라는 변수에 input을 넣어 hypothesis를 만들겠다.\n",
        "    #메소드라고 부름 메소드의 첫번째 인자는 self를 넣어야한다 \n",
        "    self.w = w\n",
        "\n",
        "  def forward(self, x): #\n",
        "    return self.w * x\n",
        "\n",
        "def cost(h,X,Y):\n",
        "  error = 0\n",
        "  for i in range(len(X)):\n",
        "    error += (h.forward(X[i])-Y[i])**2\n",
        "  error = error / len(X)\n",
        "  return error\n",
        "\n",
        "h = H(4) # w값에 따라서 loss가 바뀌는가? loss = cost\n",
        "print(h.w)\n",
        "cost(h,X,Y)"
      ],
      "execution_count": null,
      "outputs": [
        {
          "output_type": "stream",
          "text": [
            "4\n"
          ],
          "name": "stdout"
        },
        {
          "output_type": "execute_result",
          "data": {
            "text/plain": [
              "222.2"
            ]
          },
          "metadata": {
            "tags": []
          },
          "execution_count": 3
        }
      ]
    },
    {
      "cell_type": "code",
      "metadata": {
        "colab": {
          "base_uri": "https://localhost:8080/",
          "height": 627
        },
        "id": "Oha1v-VlF0WC",
        "outputId": "d19f9909-6559-4a57-d615-93ffdb64fb45"
      },
      "source": [
        "\n",
        "list_w = []\n",
        "list_c = []\n",
        "for i in range(-100,100):\n",
        "  w = i * 0.1\n",
        "  h = H(w)\n",
        "  c = cost(h,X,Y)\n",
        "  list_w.append(w)\n",
        "  list_c.append(c)\n",
        "# print(list_w)\n",
        "# print(list_c)\n",
        "\n",
        "plt.figure(figsize=(10, 10))\n",
        "\n",
        "plt.xlabel('w')\n",
        "plt.ylabel('loss') \n",
        "plt.scatter(list_w,list_c,s=30) # 두 리스트의 길이가 맞아야함\n"
      ],
      "execution_count": null,
      "outputs": [
        {
          "output_type": "execute_result",
          "data": {
            "text/plain": [
              "<matplotlib.collections.PathCollection at 0x7f803f79f510>"
            ]
          },
          "metadata": {
            "tags": []
          },
          "execution_count": 4
        },
        {
          "output_type": "display_data",
          "data": {
            "image/png": "[encoded data removed]",
            "text/plain": [
              "<Figure size 720x720 with 1 Axes>"
            ]
          },
          "metadata": {
            "tags": []
          }
        }
      ]
    },
    {
      "cell_type": "code",
      "metadata": {
        "colab": {
          "base_uri": "https://localhost:8080/",
          "height": 634
        },
        "id": "PyM2TF4qG8H3",
        "outputId": "fd85f9d7-ea76-43d8-8d87-0cf0cbdb49d7"
      },
      "source": [
        "def cal_grad(w,cost):\n",
        "  h = H(w)\n",
        "  cost1 = cost(h,X,Y)\n",
        "  eps = 0.001\n",
        "  h = H(w+eps)\n",
        "  cost2 = cost(h,X,Y)\n",
        "  dcost = cost2 - cost1\n",
        "  dw = eps\n",
        "  grad = dcost / dw\n",
        "  return grad, (cost1+cost2)*0.5\n",
        "\n",
        "def cal_grad2(w,cost):\n",
        "  h = H(w)\n",
        "  grad = 0\n",
        "  for i in range(len(X)):\n",
        "    grad += 2 * (h.forward(X[i])-Y[i]) * X[i]\n",
        "  grad = grad / len(X)\n",
        "  c = cost(h,X,Y)\n",
        "  return grad, c\n",
        "\n",
        "w1 = 1.4\n",
        "w2 = 1.4\n",
        "lr = 0.1\n",
        "\n",
        "list_w1 = []\n",
        "list_c1 = []\n",
        "list_w2 = []\n",
        "list_c2 = []\n",
        "for i in range(100):\n",
        "  grad, mean_cost = cal_grad(w1,cost)\n",
        "  grad2, mean_cost2 = cal_grad2(w2,cost)\n",
        "  \n",
        "  w1 -= lr * grad\n",
        "  w2 -= lr * grad\n",
        "  list_w1.append(w1)\n",
        "  list_w2.append(w2)\n",
        "  list_c1.append(mean_cost)\n",
        "  list_c2.append(mean_cost2)\n",
        "  # print(w1,mean_cost,w2,mean_cost2)\n",
        "plt.figure(figsize=(10, 10))\n",
        "plt.scatter(list_w1,list_c1,c='red')\n",
        "plt.scatter(list_w2,list_c2,c='blue')"
      ],
      "execution_count": null,
      "outputs": [
        {
          "output_type": "execute_result",
          "data": {
            "text/plain": [
              "<matplotlib.collections.PathCollection at 0x7f803efee990>"
            ]
          },
          "metadata": {
            "tags": []
          },
          "execution_count": 11
        },
        {
          "output_type": "display_data",
          "data": {
            "image/png": "[encoded data removed]",
            "text/plain": [
              "<Figure size 720x720 with 1 Axes>"
            ]
          },
          "metadata": {
            "tags": []
          }
        }
      ]
    },
    {
      "cell_type": "code",
      "metadata": {
        "id": "iRUTqWkiMI0L"
      },
      "source": [
        ""
      ],
      "execution_count": null,
      "outputs": []
    }
  ]
}