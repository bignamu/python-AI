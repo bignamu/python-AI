{
  "nbformat": 4,
  "nbformat_minor": 0,
  "metadata": {
    "colab": {
      "name": "Untitled0.ipynb",
      "provenance": [],
      "collapsed_sections": [],
      "mount_file_id": "1ToDb0Kl5iKlXJ3s_N8DCDX6a1ws3zdLU",
      "authorship_tag": "ABX9TyNUm22mohTg7j4QgcaXcc+b",
      "include_colab_link": true
    },
    "kernelspec": {
      "name": "python3",
      "display_name": "Python 3"
    },
    "language_info": {
      "name": "python"
    }
  },
  "cells": [
    {
      "cell_type": "markdown",
      "metadata": {
        "id": "view-in-github",
        "colab_type": "text"
      },
      "source": [
        "<a href=\"https://colab.research.google.com/github/bignamu/python-AI/blob/main/Untitled0.ipynb\" target=\"_parent\"><img src=\"https://colab.research.google.com/assets/colab-badge.svg\" alt=\"Open In Colab\"/></a>"
      ]
    },
    {
      "cell_type": "markdown",
      "metadata": {
        "id": "DMzAnTOKHF98"
      },
      "source": [
        "## Numpy의 소개\n",
        "\n",
        "\n",
        "\n",
        "NumPy(Numerical Python)는 파이썬에서 과학적 계산을 위한 핵심 라이브러리이다. NumPy는 다차원 배열 객체와 배열과 함께 작동하는 도구들을 제공한다. 하지만 NumPy 자체로는 고수준의 데이터 분석 기능을 제공하지 않기 때문에 NumPy 배열과 배열 기반 컴퓨팅의 이해를 통해 pandas와 같은 도구를 좀 더 효율적으로 사용하는 것이 필요하다."
      ]
    },
    {
      "cell_type": "markdown",
      "metadata": {
        "id": "FoMKIcicKiky"
      },
      "source": [
        "## ndarray 생성"
      ]
    },
    {
      "cell_type": "code",
      "metadata": {
        "colab": {
          "base_uri": "https://localhost:8080/"
        },
        "id": "scUz8GmnKnHw",
        "outputId": "29429d3e-043d-4b7b-8109-de54499cd222"
      },
      "source": [
        "import numpy as np\n",
        "\n",
        "arr = np.array([1,2,3,4])\n",
        "print(arr)"
      ],
      "execution_count": null,
      "outputs": [
        {
          "output_type": "stream",
          "text": [
            "[1 2 3 4]\n"
          ],
          "name": "stdout"
        }
      ]
    },
    {
      "cell_type": "code",
      "metadata": {
        "colab": {
          "base_uri": "https://localhost:8080/"
        },
        "id": "oITgULbGKpjI",
        "outputId": "e8200dc4-1a10-43d0-c05d-3549531d6f45"
      },
      "source": [
        "np.zeros((3,3))"
      ],
      "execution_count": null,
      "outputs": [
        {
          "output_type": "execute_result",
          "data": {
            "text/plain": [
              "array([[0., 0., 0.],\n",
              "       [0., 0., 0.],\n",
              "       [0., 0., 0.]])"
            ]
          },
          "metadata": {
            "tags": []
          },
          "execution_count": 8
        }
      ]
    },
    {
      "cell_type": "code",
      "metadata": {
        "colab": {
          "base_uri": "https://localhost:8080/"
        },
        "id": "o5IbtvjoK1DH",
        "outputId": "98e670a5-8451-4a87-c781-1331a5b3ec84"
      },
      "source": [
        "np.ones((2,2))"
      ],
      "execution_count": null,
      "outputs": [
        {
          "output_type": "execute_result",
          "data": {
            "text/plain": [
              "array([[1., 1.],\n",
              "       [1., 1.]])"
            ]
          },
          "metadata": {
            "tags": []
          },
          "execution_count": 9
        }
      ]
    },
    {
      "cell_type": "code",
      "metadata": {
        "colab": {
          "base_uri": "https://localhost:8080/"
        },
        "id": "pJI00sy4MPVv",
        "outputId": "8f494ada-95f7-4367-eb35-fc68b39641ad"
      },
      "source": [
        "np.empty((4,4))"
      ],
      "execution_count": null,
      "outputs": [
        {
          "output_type": "execute_result",
          "data": {
            "text/plain": [
              "array([[0.00000000e+000, 1.03977794e-312, 1.01855798e-312,\n",
              "        9.54898106e-313],\n",
              "       [1.03977794e-312, 1.01855798e-312, 1.23075756e-312,\n",
              "        1.03977794e-312],\n",
              "       [1.12465777e-312, 9.76118064e-313, 1.20953760e-312,\n",
              "        1.16709769e-312],\n",
              "       [1.06099790e-312, 4.44659081e-322, 0.00000000e+000,\n",
              "        0.00000000e+000]])"
            ]
          },
          "metadata": {
            "tags": []
          },
          "execution_count": 11
        }
      ]
    },
    {
      "cell_type": "code",
      "metadata": {
        "colab": {
          "base_uri": "https://localhost:8080/"
        },
        "id": "JafpH9KuMhQM",
        "outputId": "9737b87f-121c-4ae8-e966-80443125e168"
      },
      "source": [
        "np.arange(10)"
      ],
      "execution_count": null,
      "outputs": [
        {
          "output_type": "execute_result",
          "data": {
            "text/plain": [
              "array([0, 1, 2, 3, 4, 5, 6, 7, 8, 9])"
            ]
          },
          "metadata": {
            "tags": []
          },
          "execution_count": 12
        }
      ]
    },
    {
      "cell_type": "code",
      "metadata": {
        "colab": {
          "base_uri": "https://localhost:8080/"
        },
        "id": "wD-1FR8HM0t0",
        "outputId": "96b4de13-078f-411f-a7a1-a9e00f116980"
      },
      "source": [
        "np.arange(-5,5,1)"
      ],
      "execution_count": null,
      "outputs": [
        {
          "output_type": "execute_result",
          "data": {
            "text/plain": [
              "array([-5, -4, -3, -2, -1,  0,  1,  2,  3,  4])"
            ]
          },
          "metadata": {
            "tags": []
          },
          "execution_count": 14
        }
      ]
    },
    {
      "cell_type": "markdown",
      "metadata": {
        "id": "wSe9phe2NGrS"
      },
      "source": [
        "## ndarray 배열의 모양 , 차수, 데이터 타입을 확인하는 방법"
      ]
    },
    {
      "cell_type": "code",
      "metadata": {
        "id": "LhpsdpOjNUQu"
      },
      "source": [
        "arr = np.array([[1,2,3],[4,5,6]])"
      ],
      "execution_count": null,
      "outputs": []
    },
    {
      "cell_type": "code",
      "metadata": {
        "colab": {
          "base_uri": "https://localhost:8080/"
        },
        "id": "wEFUTTQgNibi",
        "outputId": "2e1fc5dc-49dc-4211-ea87-4949ea21be62"
      },
      "source": [
        "print(arr)"
      ],
      "execution_count": null,
      "outputs": [
        {
          "output_type": "stream",
          "text": [
            "[[1 2 3]\n",
            " [4 5 6]]\n"
          ],
          "name": "stdout"
        }
      ]
    },
    {
      "cell_type": "code",
      "metadata": {
        "colab": {
          "base_uri": "https://localhost:8080/"
        },
        "id": "s3NNtfGpNqVg",
        "outputId": "a11b1852-64cb-4341-e12b-d1f199299025"
      },
      "source": [
        "arr.shape"
      ],
      "execution_count": null,
      "outputs": [
        {
          "output_type": "execute_result",
          "data": {
            "text/plain": [
              "(2, 3)"
            ]
          },
          "metadata": {
            "tags": []
          },
          "execution_count": 20
        }
      ]
    },
    {
      "cell_type": "code",
      "metadata": {
        "colab": {
          "base_uri": "https://localhost:8080/"
        },
        "id": "p8-7RcBYOODA",
        "outputId": "a0f9eb36-10b2-46cb-cb81-2860e75a7194"
      },
      "source": [
        "arr.ndim"
      ],
      "execution_count": null,
      "outputs": [
        {
          "output_type": "execute_result",
          "data": {
            "text/plain": [
              "2"
            ]
          },
          "metadata": {
            "tags": []
          },
          "execution_count": 21
        }
      ]
    },
    {
      "cell_type": "code",
      "metadata": {
        "colab": {
          "base_uri": "https://localhost:8080/"
        },
        "id": "ohnZeaOVOPqQ",
        "outputId": "41952eff-454f-4fc1-b101-4dda48bf83e0"
      },
      "source": [
        "arr.dtype"
      ],
      "execution_count": null,
      "outputs": [
        {
          "output_type": "execute_result",
          "data": {
            "text/plain": [
              "dtype('int64')"
            ]
          },
          "metadata": {
            "tags": []
          },
          "execution_count": 22
        }
      ]
    },
    {
      "cell_type": "markdown",
      "metadata": {
        "id": "yeHdoRZ2OjkB"
      },
      "source": [
        "## ndarray 배열의 타입 변환\n",
        "astype 함수를 사용해서 정수형 데이터 배열을 실수형 데이터 배열로 변환하기"
      ]
    },
    {
      "cell_type": "code",
      "metadata": {
        "id": "wIsjz4goOpdg"
      },
      "source": [
        "arr_int = np.array([1,2,3,4])"
      ],
      "execution_count": null,
      "outputs": []
    },
    {
      "cell_type": "code",
      "metadata": {
        "colab": {
          "base_uri": "https://localhost:8080/"
        },
        "id": "dlDvnbO1O5hj",
        "outputId": "6a57de46-c924-4729-bd38-4bb76628e20a"
      },
      "source": [
        "arr_int.dtype"
      ],
      "execution_count": null,
      "outputs": [
        {
          "output_type": "execute_result",
          "data": {
            "text/plain": [
              "dtype('int64')"
            ]
          },
          "metadata": {
            "tags": []
          },
          "execution_count": 25
        }
      ]
    },
    {
      "cell_type": "code",
      "metadata": {
        "id": "c1l_7LuTO6zA"
      },
      "source": [
        "arr_float = arr_int.astype(np.float64)"
      ],
      "execution_count": null,
      "outputs": []
    },
    {
      "cell_type": "code",
      "metadata": {
        "colab": {
          "base_uri": "https://localhost:8080/"
        },
        "id": "01aXZJt7PH9H",
        "outputId": "5309a5b7-6ea0-435b-ca71-c6660a92db55"
      },
      "source": [
        "arr_float.dtype"
      ],
      "execution_count": null,
      "outputs": [
        {
          "output_type": "execute_result",
          "data": {
            "text/plain": [
              "dtype('float64')"
            ]
          },
          "metadata": {
            "tags": []
          },
          "execution_count": 27
        }
      ]
    },
    {
      "cell_type": "code",
      "metadata": {
        "colab": {
          "base_uri": "https://localhost:8080/"
        },
        "id": "Itunj1AzPNNX",
        "outputId": "25cceeac-9124-4a44-df2e-ae05a0a8c4fd"
      },
      "source": [
        "print(arr_float)"
      ],
      "execution_count": null,
      "outputs": [
        {
          "output_type": "stream",
          "text": [
            "[1. 2. 3. 4.]\n"
          ],
          "name": "stdout"
        }
      ]
    },
    {
      "cell_type": "markdown",
      "metadata": {
        "id": "o-G6kq_uPQJ_"
      },
      "source": [
        "### 문자형 데이터 배열을 정수형 데이터 배열로 변환하기"
      ]
    },
    {
      "cell_type": "code",
      "metadata": {
        "id": "m4UNkbDwPmE9"
      },
      "source": [
        "arr_str = np.array(['1','2','3'])"
      ],
      "execution_count": null,
      "outputs": []
    },
    {
      "cell_type": "code",
      "metadata": {
        "colab": {
          "base_uri": "https://localhost:8080/"
        },
        "id": "f855HAaIPr8W",
        "outputId": "ea02d767-92be-4572-82e9-331017cb73d3"
      },
      "source": [
        "arr_str.dtype"
      ],
      "execution_count": null,
      "outputs": [
        {
          "output_type": "execute_result",
          "data": {
            "text/plain": [
              "dtype('<U1')"
            ]
          },
          "metadata": {
            "tags": []
          },
          "execution_count": 30
        }
      ]
    },
    {
      "cell_type": "code",
      "metadata": {
        "id": "ygh3C134P6ZO"
      },
      "source": [
        "arr_int = arr_str.astype(np.int64)"
      ],
      "execution_count": null,
      "outputs": []
    },
    {
      "cell_type": "code",
      "metadata": {
        "colab": {
          "base_uri": "https://localhost:8080/"
        },
        "id": "6NFOse6EP-nG",
        "outputId": "d6e6ead4-3310-4dbe-bfd8-457fd7e7efa1"
      },
      "source": [
        "arr_int.dtype"
      ],
      "execution_count": null,
      "outputs": [
        {
          "output_type": "execute_result",
          "data": {
            "text/plain": [
              "dtype('int64')"
            ]
          },
          "metadata": {
            "tags": []
          },
          "execution_count": 32
        }
      ]
    },
    {
      "cell_type": "markdown",
      "metadata": {
        "id": "SmtRqX_tQQ5N"
      },
      "source": [
        "![Built-in Python types, ndarray data types](images/numpy-1.png\n",
        ")"
      ]
    },
    {
      "cell_type": "markdown",
      "metadata": {
        "id": "MV0uEz0RQtCz"
      },
      "source": [
        "![Data Types](images/numpy-2.png)"
      ]
    },
    {
      "cell_type": "code",
      "metadata": {
        "id": "SJvhLWSHQvUH"
      },
      "source": [
        ""
      ],
      "execution_count": null,
      "outputs": []
    }
  ]
}