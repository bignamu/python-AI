{
  "nbformat": 4,
  "nbformat_minor": 0,
  "metadata": {
    "colab": {
      "name": "Matplotlib.ipynb",
      "provenance": [],
      "collapsed_sections": [],
      "authorship_tag": "ABX9TyOJEZ2aC0MtUK06PWyJ78m5",
      "include_colab_link": true
    },
    "kernelspec": {
      "name": "python3",
      "display_name": "Python 3"
    },
    "language_info": {
      "name": "python"
    }
  },
  "cells": [
    {
      "cell_type": "markdown",
      "metadata": {
        "id": "view-in-github",
        "colab_type": "text"
      },
      "source": [
        "<a href=\"https://colab.research.google.com/github/bignamu/python-AI/blob/main/Matplotlib.ipynb\" target=\"_parent\"><img src=\"https://colab.research.google.com/assets/colab-badge.svg\" alt=\"Open In Colab\"/></a>"
      ]
    },
    {
      "cell_type": "markdown",
      "metadata": {
        "id": "df1-kbFvS2ZF"
      },
      "source": [
        "# Matplotlib\n",
        "\n",
        "\n",
        "\n",
        "Matplotlib은 파이썬의 시각화 도구이다. Matplotlib은 NumPy 배열을 기반으로 만들어져 있으며 SciPy와 함께 사용하기 좋게 설게 되었다.\n",
        "다양한 운영체계와 그래픽 백엔드에서도 잘 동작한다."
      ]
    },
    {
      "cell_type": "code",
      "metadata": {
        "id": "JG5hl8VOjgMg"
      },
      "source": [
        "import matplotlib as mpl\n",
        "import matplotlib.pyplot as plt\n",
        "import pandas as pd"
      ],
      "execution_count": null,
      "outputs": []
    },
    {
      "cell_type": "markdown",
      "metadata": {
        "id": "n5pzjbJulpXL"
      },
      "source": [
        "#Style 적용하기"
      ]
    },
    {
      "cell_type": "code",
      "metadata": {
        "id": "hChn6GIWmfOH"
      },
      "source": [
        "plt.style.use('classic')"
      ],
      "execution_count": null,
      "outputs": []
    },
    {
      "cell_type": "markdown",
      "metadata": {
        "id": "0pJiCtbrmjtm"
      },
      "source": [
        "![mat-1](https://github.com/KoreaEva/AI/blob/master/HOL/04.Numpy,%20Pandas,%20Matplotlib/images/mat-1.png?raw=true)"
      ]
    },
    {
      "cell_type": "code",
      "metadata": {
        "id": "DKjgsfoUnBXn"
      },
      "source": [
        "import numpy as np"
      ],
      "execution_count": null,
      "outputs": []
    },
    {
      "cell_type": "markdown",
      "metadata": {
        "id": "nLOvTOeYnH79"
      },
      "source": [
        "linspace( ) 함수는 파이썬의 numpy 모듈에 포함된 함수로서 1차원의 배열 만들기, 그래프 그리기에서 수평축의 간격 만들기 등에 매우 편리하게 사용할 수 있는 함수입니다. 이름에서 알 수 있듯이 Linearly Spaced의 줄임말인 것으로 생각되며, 이 시리즈의 [P026]편에서 간단히 언급한 적이 있는 함수입니다.\n",
        "\n",
        "\n",
        "\n",
        "사용법은 numpy 모듈을 importing 한 후에 x=np.linspace(start, stop, num)과 같이 적으면 됩니다. start는 배열의 시작값, stop은 배열의 끝값이고, num은 start와 stop 사이를 몇 개의 일정한 간격으로 요소를 만들 것인지를 나타내는 것입니다. 만일 num을 생략하면 디폴트(Default)로 50개의 수열, 즉 1차원 배열을 만들어줍니다."
      ]
    },
    {
      "cell_type": "code",
      "metadata": {
        "id": "NJnVS7qunOIn"
      },
      "source": [
        "x = np.linspace(0,10,100)"
      ],
      "execution_count": null,
      "outputs": []
    },
    {
      "cell_type": "code",
      "metadata": {
        "colab": {
          "base_uri": "https://localhost:8080/"
        },
        "id": "nja7JPZjnsG9",
        "outputId": "a390e963-f1da-4557-c347-a5ee5e61f57e"
      },
      "source": [
        "x"
      ],
      "execution_count": null,
      "outputs": [
        {
          "output_type": "execute_result",
          "data": {
            "text/plain": [
              "array([ 0.        ,  0.1010101 ,  0.2020202 ,  0.3030303 ,  0.4040404 ,\n",
              "        0.50505051,  0.60606061,  0.70707071,  0.80808081,  0.90909091,\n",
              "        1.01010101,  1.11111111,  1.21212121,  1.31313131,  1.41414141,\n",
              "        1.51515152,  1.61616162,  1.71717172,  1.81818182,  1.91919192,\n",
              "        2.02020202,  2.12121212,  2.22222222,  2.32323232,  2.42424242,\n",
              "        2.52525253,  2.62626263,  2.72727273,  2.82828283,  2.92929293,\n",
              "        3.03030303,  3.13131313,  3.23232323,  3.33333333,  3.43434343,\n",
              "        3.53535354,  3.63636364,  3.73737374,  3.83838384,  3.93939394,\n",
              "        4.04040404,  4.14141414,  4.24242424,  4.34343434,  4.44444444,\n",
              "        4.54545455,  4.64646465,  4.74747475,  4.84848485,  4.94949495,\n",
              "        5.05050505,  5.15151515,  5.25252525,  5.35353535,  5.45454545,\n",
              "        5.55555556,  5.65656566,  5.75757576,  5.85858586,  5.95959596,\n",
              "        6.06060606,  6.16161616,  6.26262626,  6.36363636,  6.46464646,\n",
              "        6.56565657,  6.66666667,  6.76767677,  6.86868687,  6.96969697,\n",
              "        7.07070707,  7.17171717,  7.27272727,  7.37373737,  7.47474747,\n",
              "        7.57575758,  7.67676768,  7.77777778,  7.87878788,  7.97979798,\n",
              "        8.08080808,  8.18181818,  8.28282828,  8.38383838,  8.48484848,\n",
              "        8.58585859,  8.68686869,  8.78787879,  8.88888889,  8.98989899,\n",
              "        9.09090909,  9.19191919,  9.29292929,  9.39393939,  9.49494949,\n",
              "        9.5959596 ,  9.6969697 ,  9.7979798 ,  9.8989899 , 10.        ])"
            ]
          },
          "metadata": {
            "tags": []
          },
          "execution_count": 23
        }
      ]
    },
    {
      "cell_type": "code",
      "metadata": {
        "id": "wCAtVJRYnspc"
      },
      "source": [
        ""
      ],
      "execution_count": null,
      "outputs": []
    }
  ]
}