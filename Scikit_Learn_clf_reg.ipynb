{
  "nbformat": 4,
  "nbformat_minor": 0,
  "metadata": {
    "colab": {
      "name": "Scikit-Learn-clf-reg.ipynb",
      "provenance": [],
      "collapsed_sections": [],
      "mount_file_id": "1GWMcNYVNyyz2g8R46oZ-flClMWnuqR8u",
      "authorship_tag": "ABX9TyP2qYci8ZG1iFUNauocuGKL",
      "include_colab_link": true
    },
    "kernelspec": {
      "name": "python3",
      "display_name": "Python 3"
    },
    "language_info": {
      "name": "python"
    }
  },
  "cells": [
    {
      "cell_type": "markdown",
      "metadata": {
        "id": "view-in-github",
        "colab_type": "text"
      },
      "source": [
        "<a href=\"https://colab.research.google.com/github/bignamu/python-AI/blob/main/Scikit_Learn_clf_reg.ipynb\" target=\"_parent\"><img src=\"https://colab.research.google.com/assets/colab-badge.svg\" alt=\"Open In Colab\"/></a>"
      ]
    },
    {
      "cell_type": "code",
      "metadata": {
        "id": "MUBfvnOpd1l4"
      },
      "source": [
        "import numpy as np\n",
        "import pandas as pd\n",
        "import matplotlib.pyplot as plt\n",
        "import sklearn"
      ],
      "execution_count": null,
      "outputs": []
    },
    {
      "cell_type": "markdown",
      "metadata": {
        "id": "WhAyqKlChHpE"
      },
      "source": [
        "# Iris 꽃 분석"
      ]
    },
    {
      "cell_type": "code",
      "metadata": {
        "id": "3BMDdPosha1r"
      },
      "source": [
        "from sklearn.datasets import load_iris"
      ],
      "execution_count": null,
      "outputs": []
    },
    {
      "cell_type": "code",
      "metadata": {
        "id": "WOIgraZhh4qR"
      },
      "source": [
        "iris_dataset = load_iris()"
      ],
      "execution_count": null,
      "outputs": []
    },
    {
      "cell_type": "code",
      "metadata": {
        "colab": {
          "base_uri": "https://localhost:8080/"
        },
        "id": "HK9jt51HiS8A",
        "outputId": "c7358b08-01d1-4ea4-be01-60144e3d14fe"
      },
      "source": [
        "type(iris_dataset)"
      ],
      "execution_count": null,
      "outputs": [
        {
          "output_type": "execute_result",
          "data": {
            "text/plain": [
              "sklearn.utils.Bunch"
            ]
          },
          "metadata": {
            "tags": []
          },
          "execution_count": 4
        }
      ]
    },
    {
      "cell_type": "code",
      "metadata": {
        "colab": {
          "base_uri": "https://localhost:8080/"
        },
        "id": "umxen5khiUP4",
        "outputId": "a5c34f19-a835-4593-bdda-bfe44859dad0"
      },
      "source": [
        "iris_dataset.keys()"
      ],
      "execution_count": null,
      "outputs": [
        {
          "output_type": "execute_result",
          "data": {
            "text/plain": [
              "dict_keys(['data', 'target', 'target_names', 'DESCR', 'feature_names', 'filename'])"
            ]
          },
          "metadata": {
            "tags": []
          },
          "execution_count": 5
        }
      ]
    },
    {
      "cell_type": "code",
      "metadata": {
        "colab": {
          "base_uri": "https://localhost:8080/"
        },
        "id": "foIZlotZihCm",
        "outputId": "8e1b3951-5a54-4812-ecf6-3faaa190c78f"
      },
      "source": [
        "print(iris_dataset['DESCR'][:193])"
      ],
      "execution_count": null,
      "outputs": [
        {
          "output_type": "stream",
          "text": [
            ".. _iris_dataset:\n",
            "\n",
            "Iris plants dataset\n",
            "--------------------\n",
            "\n",
            "**Data Set Characteristics:**\n",
            "\n",
            "    :Number of Instances: 150 (50 in each of three classes)\n",
            "    :Number of Attributes: 4 numeric, pre\n"
          ],
          "name": "stdout"
        }
      ]
    },
    {
      "cell_type": "code",
      "metadata": {
        "colab": {
          "base_uri": "https://localhost:8080/"
        },
        "id": "virWLS97jGgm",
        "outputId": "af113976-7081-45d5-b755-6848c3e374f6"
      },
      "source": [
        "print('TargetName : ', iris_dataset['target_names'])"
      ],
      "execution_count": null,
      "outputs": [
        {
          "output_type": "stream",
          "text": [
            "TargetName :  ['setosa' 'versicolor' 'virginica']\n"
          ],
          "name": "stdout"
        }
      ]
    },
    {
      "cell_type": "code",
      "metadata": {
        "colab": {
          "base_uri": "https://localhost:8080/"
        },
        "id": "RwBJdjCHkbPD",
        "outputId": "8a75ef81-4f40-43e1-8f18-832f07153966"
      },
      "source": [
        "print('Features : \\n', iris_dataset['feature_names'])"
      ],
      "execution_count": null,
      "outputs": [
        {
          "output_type": "stream",
          "text": [
            "Features : \n",
            " ['sepal length (cm)', 'sepal width (cm)', 'petal length (cm)', 'petal width (cm)']\n"
          ],
          "name": "stdout"
        }
      ]
    },
    {
      "cell_type": "code",
      "metadata": {
        "colab": {
          "base_uri": "https://localhost:8080/"
        },
        "id": "Yirh3Diokm4q",
        "outputId": "5395761a-77f9-4a14-ce97-5fb1da492540"
      },
      "source": [
        "type(iris_dataset['data'])"
      ],
      "execution_count": null,
      "outputs": [
        {
          "output_type": "execute_result",
          "data": {
            "text/plain": [
              "numpy.ndarray"
            ]
          },
          "metadata": {
            "tags": []
          },
          "execution_count": 9
        }
      ]
    },
    {
      "cell_type": "code",
      "metadata": {
        "colab": {
          "base_uri": "https://localhost:8080/"
        },
        "id": "SWCVZBNUlmEp",
        "outputId": "d159bf47-d0f7-4a69-8cd9-1c9345ea047c"
      },
      "source": [
        "iris_dataset['data'].shape"
      ],
      "execution_count": null,
      "outputs": [
        {
          "output_type": "execute_result",
          "data": {
            "text/plain": [
              "(150, 4)"
            ]
          },
          "metadata": {
            "tags": []
          },
          "execution_count": 10
        }
      ]
    },
    {
      "cell_type": "code",
      "metadata": {
        "colab": {
          "base_uri": "https://localhost:8080/"
        },
        "id": "bcnzGJMmloYw",
        "outputId": "a23693e0-6f0f-4dde-925d-13a88821528c"
      },
      "source": [
        "print('Print five rows of data : \\n', iris_dataset['data'][:5])"
      ],
      "execution_count": null,
      "outputs": [
        {
          "output_type": "stream",
          "text": [
            "Print five rows of data : \n",
            " [[5.1 3.5 1.4 0.2]\n",
            " [4.9 3.  1.4 0.2]\n",
            " [4.7 3.2 1.3 0.2]\n",
            " [4.6 3.1 1.5 0.2]\n",
            " [5.  3.6 1.4 0.2]]\n"
          ],
          "name": "stdout"
        }
      ]
    },
    {
      "cell_type": "code",
      "metadata": {
        "colab": {
          "base_uri": "https://localhost:8080/"
        },
        "id": "lQgSRk6yluHR",
        "outputId": "1144f0fc-87f5-4170-ff31-7579db38742d"
      },
      "source": [
        "print('Shape of target : ', iris_dataset['target'].shape)"
      ],
      "execution_count": null,
      "outputs": [
        {
          "output_type": "stream",
          "text": [
            "Shape of target :  (150,)\n"
          ],
          "name": "stdout"
        }
      ]
    },
    {
      "cell_type": "code",
      "metadata": {
        "colab": {
          "base_uri": "https://localhost:8080/"
        },
        "id": "oGkriJi1mVxQ",
        "outputId": "abef03ad-43a4-4926-d0da-d470605fba4c"
      },
      "source": [
        "print('Target : \\n', iris_dataset['target'])"
      ],
      "execution_count": null,
      "outputs": [
        {
          "output_type": "stream",
          "text": [
            "Target : \n",
            " [0 0 0 0 0 0 0 0 0 0 0 0 0 0 0 0 0 0 0 0 0 0 0 0 0 0 0 0 0 0 0 0 0 0 0 0 0\n",
            " 0 0 0 0 0 0 0 0 0 0 0 0 0 1 1 1 1 1 1 1 1 1 1 1 1 1 1 1 1 1 1 1 1 1 1 1 1\n",
            " 1 1 1 1 1 1 1 1 1 1 1 1 1 1 1 1 1 1 1 1 1 1 1 1 1 1 2 2 2 2 2 2 2 2 2 2 2\n",
            " 2 2 2 2 2 2 2 2 2 2 2 2 2 2 2 2 2 2 2 2 2 2 2 2 2 2 2 2 2 2 2 2 2 2 2 2 2\n",
            " 2 2]\n"
          ],
          "name": "stdout"
        }
      ]
    },
    {
      "cell_type": "markdown",
      "metadata": {
        "id": "02j9TJ2tmokH"
      },
      "source": [
        "# Training and Testing Data"
      ]
    },
    {
      "cell_type": "code",
      "metadata": {
        "id": "cQAX3Deqqgsy"
      },
      "source": [
        "from sklearn.model_selection import train_test_split"
      ],
      "execution_count": null,
      "outputs": []
    },
    {
      "cell_type": "code",
      "metadata": {
        "id": "ZL8u4vfeqzUe"
      },
      "source": [
        "X_train, X_test, y_train, y_test = train_test_split(\n",
        "                                                    iris_dataset['data'],\n",
        "                                                    iris_dataset['target'],\n",
        "                                                    random_state=0\n",
        "                                                    )"
      ],
      "execution_count": null,
      "outputs": []
    },
    {
      "cell_type": "code",
      "metadata": {
        "colab": {
          "base_uri": "https://localhost:8080/"
        },
        "id": "QJwZPApLsF5z",
        "outputId": "8c1cfbcf-3351-4f01-aa8b-de3769866588"
      },
      "source": [
        "print('X_train shape ', X_train.shape)\n",
        "print('y_train shape ', y_train.shape)"
      ],
      "execution_count": null,
      "outputs": [
        {
          "output_type": "stream",
          "text": [
            "X_train shape  (112, 4)\n",
            "y_train shape  (112,)\n"
          ],
          "name": "stdout"
        }
      ]
    },
    {
      "cell_type": "code",
      "metadata": {
        "colab": {
          "base_uri": "https://localhost:8080/"
        },
        "id": "zx-6lKefsqLi",
        "outputId": "8a3d495e-1149-4540-e53b-1941927cbf4e"
      },
      "source": [
        "print('X_test shape ', X_test.shape)\n",
        "print('y_test shape ', y_test.shape)"
      ],
      "execution_count": null,
      "outputs": [
        {
          "output_type": "stream",
          "text": [
            "X_test shape  (38, 4)\n",
            "y_test shape  (38,)\n"
          ],
          "name": "stdout"
        }
      ]
    },
    {
      "cell_type": "markdown",
      "metadata": {
        "id": "ApasFza9tJww"
      },
      "source": [
        "#### Building Your First Model: k-Nearest Neighbors"
      ]
    },
    {
      "cell_type": "code",
      "metadata": {
        "id": "ULptA8KRtzbl"
      },
      "source": [
        "from sklearn.neighbors import KNeighborsClassifier\n",
        "knn = KNeighborsClassifier(n_neighbors=1)"
      ],
      "execution_count": null,
      "outputs": []
    },
    {
      "cell_type": "code",
      "metadata": {
        "colab": {
          "base_uri": "https://localhost:8080/"
        },
        "id": "53jp2PK_yJdY",
        "outputId": "eb005bc1-d209-4a03-d0be-527610877cc6"
      },
      "source": [
        "knn.fit(X_train,y_train)"
      ],
      "execution_count": null,
      "outputs": [
        {
          "output_type": "execute_result",
          "data": {
            "text/plain": [
              "KNeighborsClassifier(algorithm='auto', leaf_size=30, metric='minkowski',\n",
              "                     metric_params=None, n_jobs=None, n_neighbors=1, p=2,\n",
              "                     weights='uniform')"
            ]
          },
          "metadata": {
            "tags": []
          },
          "execution_count": 19
        }
      ]
    },
    {
      "cell_type": "markdown",
      "metadata": {
        "id": "yQsUTaPDySVG"
      },
      "source": [
        "###<li>Overfit 과대적합</li>\n",
        "###<li>Underfit 과소적합</li>"
      ]
    },
    {
      "cell_type": "markdown",
      "metadata": {
        "id": "Om9v6Wn2DrAO"
      },
      "source": [
        "## Making Prediction"
      ]
    },
    {
      "cell_type": "code",
      "metadata": {
        "id": "2oED6FvhD681"
      },
      "source": [
        "y_pred = knn.predict(X_test)"
      ],
      "execution_count": null,
      "outputs": []
    },
    {
      "cell_type": "code",
      "metadata": {
        "colab": {
          "base_uri": "https://localhost:8080/"
        },
        "id": "jJnH7AlCEyiW",
        "outputId": "9b329eee-ff04-453e-d3b1-831e4a6884a6"
      },
      "source": [
        "print('Test set predictions:\\n', y_pred)"
      ],
      "execution_count": null,
      "outputs": [
        {
          "output_type": "stream",
          "text": [
            "Test set predictions:\n",
            " [2 1 0 2 0 2 0 1 1 1 2 1 1 1 1 0 1 1 0 0 2 1 0 0 2 0 0 1 1 0 2 1 0 2 2 1 0\n",
            " 2]\n"
          ],
          "name": "stdout"
        }
      ]
    },
    {
      "cell_type": "code",
      "metadata": {
        "colab": {
          "base_uri": "https://localhost:8080/"
        },
        "id": "xQ02xhieFBQt",
        "outputId": "183216e3-c219-4b15-d696-033413807f36"
      },
      "source": [
        "print('Test set score : ',np.mean(y_pred == y_test))"
      ],
      "execution_count": null,
      "outputs": [
        {
          "output_type": "stream",
          "text": [
            "Test set score :  0.9736842105263158\n"
          ],
          "name": "stdout"
        }
      ]
    },
    {
      "cell_type": "code",
      "metadata": {
        "colab": {
          "base_uri": "https://localhost:8080/"
        },
        "id": "ZlWqgsHZGMT8",
        "outputId": "bd105b8f-2a42-43da-eeed-4b407ba754ec"
      },
      "source": [
        "X_new = np.array([[5,2.9,1,0.2]])\n",
        "print('X_new.shape :\\n', X_new.shape)"
      ],
      "execution_count": null,
      "outputs": [
        {
          "output_type": "stream",
          "text": [
            "X_new.shape :\n",
            " (1, 4)\n"
          ],
          "name": "stdout"
        }
      ]
    },
    {
      "cell_type": "code",
      "metadata": {
        "id": "885E4RsNHn3A"
      },
      "source": [
        "prediction = knn.predict(X_new)"
      ],
      "execution_count": null,
      "outputs": []
    },
    {
      "cell_type": "code",
      "metadata": {
        "colab": {
          "base_uri": "https://localhost:8080/"
        },
        "id": "xfJ1J2-lHyqH",
        "outputId": "f5257890-1cb1-422f-b8c7-44c9e7cb01f4"
      },
      "source": [
        "print('PredictionResult : \\n', prediction)\n",
        "print('PredicionTargetName : \\n', iris_dataset['target_names'][prediction])"
      ],
      "execution_count": null,
      "outputs": [
        {
          "output_type": "stream",
          "text": [
            "PredictionResult : \n",
            " [0]\n",
            "PredicionTargetName : \n",
            " ['setosa']\n"
          ],
          "name": "stdout"
        }
      ]
    },
    {
      "cell_type": "code",
      "metadata": {
        "id": "oF0Fugg9IvfH",
        "colab": {
          "base_uri": "https://localhost:8080/"
        },
        "outputId": "ab20c14d-2d90-4fad-aeda-488338c211ea"
      },
      "source": [
        "!pip install mglearn\n",
        "import mglearn"
      ],
      "execution_count": null,
      "outputs": [
        {
          "output_type": "stream",
          "text": [
            "Collecting mglearn\n",
            "\u001b[?25l  Downloading https://files.pythonhosted.org/packages/65/38/8aced26fce0b2ae82c3c87cd3b6105f38ca6d9d51704ecc44aa54473e6b9/mglearn-0.1.9.tar.gz (540kB)\n",
            "\r\u001b[K     |▋                               | 10kB 15.0MB/s eta 0:00:01\r\u001b[K     |█▏                              | 20kB 20.9MB/s eta 0:00:01\r\u001b[K     |█▉                              | 30kB 17.2MB/s eta 0:00:01\r\u001b[K     |██▍                             | 40kB 14.6MB/s eta 0:00:01\r\u001b[K     |███                             | 51kB 7.1MB/s eta 0:00:01\r\u001b[K     |███▋                            | 61kB 8.2MB/s eta 0:00:01\r\u001b[K     |████▎                           | 71kB 7.8MB/s eta 0:00:01\r\u001b[K     |████▉                           | 81kB 8.6MB/s eta 0:00:01\r\u001b[K     |█████▌                          | 92kB 9.2MB/s eta 0:00:01\r\u001b[K     |██████                          | 102kB 7.4MB/s eta 0:00:01\r\u001b[K     |██████▊                         | 112kB 7.4MB/s eta 0:00:01\r\u001b[K     |███████▎                        | 122kB 7.4MB/s eta 0:00:01\r\u001b[K     |███████▉                        | 133kB 7.4MB/s eta 0:00:01\r\u001b[K     |████████▌                       | 143kB 7.4MB/s eta 0:00:01\r\u001b[K     |█████████                       | 153kB 7.4MB/s eta 0:00:01\r\u001b[K     |█████████▊                      | 163kB 7.4MB/s eta 0:00:01\r\u001b[K     |██████████▎                     | 174kB 7.4MB/s eta 0:00:01\r\u001b[K     |███████████                     | 184kB 7.4MB/s eta 0:00:01\r\u001b[K     |███████████▌                    | 194kB 7.4MB/s eta 0:00:01\r\u001b[K     |████████████▏                   | 204kB 7.4MB/s eta 0:00:01\r\u001b[K     |████████████▊                   | 215kB 7.4MB/s eta 0:00:01\r\u001b[K     |█████████████▍                  | 225kB 7.4MB/s eta 0:00:01\r\u001b[K     |██████████████                  | 235kB 7.4MB/s eta 0:00:01\r\u001b[K     |██████████████▋                 | 245kB 7.4MB/s eta 0:00:01\r\u001b[K     |███████████████▏                | 256kB 7.4MB/s eta 0:00:01\r\u001b[K     |███████████████▊                | 266kB 7.4MB/s eta 0:00:01\r\u001b[K     |████████████████▍               | 276kB 7.4MB/s eta 0:00:01\r\u001b[K     |█████████████████               | 286kB 7.4MB/s eta 0:00:01\r\u001b[K     |█████████████████▋              | 296kB 7.4MB/s eta 0:00:01\r\u001b[K     |██████████████████▏             | 307kB 7.4MB/s eta 0:00:01\r\u001b[K     |██████████████████▉             | 317kB 7.4MB/s eta 0:00:01\r\u001b[K     |███████████████████▍            | 327kB 7.4MB/s eta 0:00:01\r\u001b[K     |████████████████████            | 337kB 7.4MB/s eta 0:00:01\r\u001b[K     |████████████████████▋           | 348kB 7.4MB/s eta 0:00:01\r\u001b[K     |█████████████████████▎          | 358kB 7.4MB/s eta 0:00:01\r\u001b[K     |█████████████████████▉          | 368kB 7.4MB/s eta 0:00:01\r\u001b[K     |██████████████████████▌         | 378kB 7.4MB/s eta 0:00:01\r\u001b[K     |███████████████████████         | 389kB 7.4MB/s eta 0:00:01\r\u001b[K     |███████████████████████▋        | 399kB 7.4MB/s eta 0:00:01\r\u001b[K     |████████████████████████▎       | 409kB 7.4MB/s eta 0:00:01\r\u001b[K     |████████████████████████▉       | 419kB 7.4MB/s eta 0:00:01\r\u001b[K     |█████████████████████████▌      | 430kB 7.4MB/s eta 0:00:01\r\u001b[K     |██████████████████████████      | 440kB 7.4MB/s eta 0:00:01\r\u001b[K     |██████████████████████████▊     | 450kB 7.4MB/s eta 0:00:01\r\u001b[K     |███████████████████████████▎    | 460kB 7.4MB/s eta 0:00:01\r\u001b[K     |████████████████████████████    | 471kB 7.4MB/s eta 0:00:01\r\u001b[K     |████████████████████████████▌   | 481kB 7.4MB/s eta 0:00:01\r\u001b[K     |█████████████████████████████▏  | 491kB 7.4MB/s eta 0:00:01\r\u001b[K     |█████████████████████████████▊  | 501kB 7.4MB/s eta 0:00:01\r\u001b[K     |██████████████████████████████▍ | 512kB 7.4MB/s eta 0:00:01\r\u001b[K     |███████████████████████████████ | 522kB 7.4MB/s eta 0:00:01\r\u001b[K     |███████████████████████████████▌| 532kB 7.4MB/s eta 0:00:01\r\u001b[K     |████████████████████████████████| 542kB 7.4MB/s \n",
            "\u001b[?25hRequirement already satisfied: numpy in /usr/local/lib/python3.7/dist-packages (from mglearn) (1.19.5)\n",
            "Requirement already satisfied: matplotlib in /usr/local/lib/python3.7/dist-packages (from mglearn) (3.2.2)\n",
            "Requirement already satisfied: scikit-learn in /usr/local/lib/python3.7/dist-packages (from mglearn) (0.22.2.post1)\n",
            "Requirement already satisfied: pandas in /usr/local/lib/python3.7/dist-packages (from mglearn) (1.1.5)\n",
            "Requirement already satisfied: pillow in /usr/local/lib/python3.7/dist-packages (from mglearn) (7.1.2)\n",
            "Requirement already satisfied: cycler in /usr/local/lib/python3.7/dist-packages (from mglearn) (0.10.0)\n",
            "Requirement already satisfied: imageio in /usr/local/lib/python3.7/dist-packages (from mglearn) (2.4.1)\n",
            "Requirement already satisfied: joblib in /usr/local/lib/python3.7/dist-packages (from mglearn) (1.0.1)\n",
            "Requirement already satisfied: python-dateutil>=2.1 in /usr/local/lib/python3.7/dist-packages (from matplotlib->mglearn) (2.8.1)\n",
            "Requirement already satisfied: pyparsing!=2.0.4,!=2.1.2,!=2.1.6,>=2.0.1 in /usr/local/lib/python3.7/dist-packages (from matplotlib->mglearn) (2.4.7)\n",
            "Requirement already satisfied: kiwisolver>=1.0.1 in /usr/local/lib/python3.7/dist-packages (from matplotlib->mglearn) (1.3.1)\n",
            "Requirement already satisfied: scipy>=0.17.0 in /usr/local/lib/python3.7/dist-packages (from scikit-learn->mglearn) (1.4.1)\n",
            "Requirement already satisfied: pytz>=2017.2 in /usr/local/lib/python3.7/dist-packages (from pandas->mglearn) (2018.9)\n",
            "Requirement already satisfied: six in /usr/local/lib/python3.7/dist-packages (from cycler->mglearn) (1.15.0)\n",
            "Building wheels for collected packages: mglearn\n",
            "  Building wheel for mglearn (setup.py) ... \u001b[?25l\u001b[?25hdone\n",
            "  Created wheel for mglearn: filename=mglearn-0.1.9-py2.py3-none-any.whl size=582638 sha256=4fdd957597dc815c2204211fb8717778607505ed8fad0f3b22c074aae7c1b57f\n",
            "  Stored in directory: /root/.cache/pip/wheels/eb/a6/ea/a6a3716233fa62fc561259b5cb1e28f79e9ff3592c0adac5f0\n",
            "Successfully built mglearn\n",
            "Installing collected packages: mglearn\n",
            "Successfully installed mglearn-0.1.9\n"
          ],
          "name": "stdout"
        }
      ]
    },
    {
      "cell_type": "markdown",
      "metadata": {
        "id": "kyAGsKtGLmZq"
      },
      "source": [
        "#Supervised Machine Learning Algorithms"
      ]
    },
    {
      "cell_type": "code",
      "metadata": {
        "colab": {
          "base_uri": "https://localhost:8080/"
        },
        "id": "hZzvMoloLq1I",
        "outputId": "ad3b72a9-b76d-4c84-8e63-f7f4da61096a"
      },
      "source": [
        "X, y = mglearn.datasets.make_forge()"
      ],
      "execution_count": null,
      "outputs": [
        {
          "output_type": "stream",
          "text": [
            "/usr/local/lib/python3.7/dist-packages/sklearn/utils/deprecation.py:87: FutureWarning: Function make_blobs is deprecated; Please import make_blobs directly from scikit-learn\n",
            "  warnings.warn(msg, category=FutureWarning)\n"
          ],
          "name": "stderr"
        }
      ]
    },
    {
      "cell_type": "code",
      "metadata": {
        "colab": {
          "base_uri": "https://localhost:8080/",
          "height": 297
        },
        "id": "hZjtNFwmL-NX",
        "outputId": "32e7cf8b-2791-4cd4-f0e2-4cdcf2c2362f"
      },
      "source": [
        "mglearn.discrete_scatter(X[:,0], X[:,1],y)\n",
        "plt.legend(['Class 0','Class 1'],loc=4)\n",
        "plt.xlabel('First feature')\n",
        "print('X_shape : ',X.shape)"
      ],
      "execution_count": null,
      "outputs": [
        {
          "output_type": "stream",
          "text": [
            "X_shape :  (26, 2)\n"
          ],
          "name": "stdout"
        },
        {
          "output_type": "display_data",
          "data": {
            "image/png": "[encoded data removed]",
            "text/plain": [
              "<Figure size 432x288 with 1 Axes>"
            ]
          },
          "metadata": {
            "tags": [],
            "needs_background": "light"
          }
        }
      ]
    },
    {
      "cell_type": "code",
      "metadata": {
        "colab": {
          "base_uri": "https://localhost:8080/"
        },
        "id": "qPay8aahMiS2",
        "outputId": "4a5604ee-a19b-46de-966d-f002aacd8d1b"
      },
      "source": [
        "print(X)"
      ],
      "execution_count": null,
      "outputs": [
        {
          "output_type": "stream",
          "text": [
            "[[ 9.96346605  4.59676542]\n",
            " [11.0329545  -0.16816717]\n",
            " [11.54155807  5.21116083]\n",
            " [ 8.69289001  1.54322016]\n",
            " [ 8.1062269   4.28695977]\n",
            " [ 8.30988863  4.80623966]\n",
            " [11.93027136  4.64866327]\n",
            " [ 9.67284681 -0.20283165]\n",
            " [ 8.34810316  5.13415623]\n",
            " [ 8.67494727  4.47573059]\n",
            " [ 9.17748385  5.09283177]\n",
            " [10.24028948  2.45544401]\n",
            " [ 8.68937095  1.48709629]\n",
            " [ 8.92229526 -0.63993225]\n",
            " [ 9.49123469  4.33224792]\n",
            " [ 9.25694192  5.13284858]\n",
            " [ 7.99815287  4.8525051 ]\n",
            " [ 8.18378052  1.29564214]\n",
            " [ 8.7337095   2.49162431]\n",
            " [ 9.32298256  5.09840649]\n",
            " [10.06393839  0.99078055]\n",
            " [ 9.50048972 -0.26430318]\n",
            " [ 8.34468785  1.63824349]\n",
            " [ 9.50169345  1.93824624]\n",
            " [ 9.15072323  5.49832246]\n",
            " [11.563957    1.3389402 ]]\n"
          ],
          "name": "stdout"
        }
      ]
    },
    {
      "cell_type": "code",
      "metadata": {
        "colab": {
          "base_uri": "https://localhost:8080/"
        },
        "id": "VDzw4lkNNI68",
        "outputId": "f14c0630-3624-4bab-a933-79a464642f84"
      },
      "source": [
        "print(X[:,1]) # , 이후의 숫자는 column을 의미하는 듯"
      ],
      "execution_count": null,
      "outputs": [
        {
          "output_type": "stream",
          "text": [
            "[ 4.59676542 -0.16816717  5.21116083  1.54322016  4.28695977  4.80623966\n",
            "  4.64866327 -0.20283165  5.13415623  4.47573059  5.09283177  2.45544401\n",
            "  1.48709629 -0.63993225  4.33224792  5.13284858  4.8525051   1.29564214\n",
            "  2.49162431  5.09840649  0.99078055 -0.26430318  1.63824349  1.93824624\n",
            "  5.49832246  1.3389402 ]\n"
          ],
          "name": "stdout"
        }
      ]
    },
    {
      "cell_type": "code",
      "metadata": {
        "id": "ThVJxsPdOWg7"
      },
      "source": [
        "X, y = mglearn.datasets.make_wave(n_samples=40)"
      ],
      "execution_count": null,
      "outputs": []
    },
    {
      "cell_type": "code",
      "metadata": {
        "colab": {
          "base_uri": "https://localhost:8080/",
          "height": 301
        },
        "id": "dTxAPsOiR2it",
        "outputId": "89cf092d-3ab7-465c-c7b9-b5dac8687613"
      },
      "source": [
        "plt.plot(X,y,'o')\n",
        "plt.ylim(-3,3)\n",
        "plt.xlabel('features')\n",
        "plt.ylabel('labels')"
      ],
      "execution_count": null,
      "outputs": [
        {
          "output_type": "execute_result",
          "data": {
            "text/plain": [
              "Text(0, 0.5, 'labels')"
            ]
          },
          "metadata": {
            "tags": []
          },
          "execution_count": 32
        },
        {
          "output_type": "display_data",
          "data": {
            "image/png": "[encoded data removed]",
            "text/plain": [
              "<Figure size 432x288 with 1 Axes>"
            ]
          },
          "metadata": {
            "tags": [],
            "needs_background": "light"
          }
        }
      ]
    },
    {
      "cell_type": "code",
      "metadata": {
        "colab": {
          "base_uri": "https://localhost:8080/"
        },
        "id": "L2oOOTPcSGT6",
        "outputId": "bf3fed8e-dd8a-4718-94f2-84be6ba31966"
      },
      "source": [
        "X"
      ],
      "execution_count": null,
      "outputs": [
        {
          "output_type": "execute_result",
          "data": {
            "text/plain": [
              "array([[-0.75275929],\n",
              "       [ 2.70428584],\n",
              "       [ 1.39196365],\n",
              "       [ 0.59195091],\n",
              "       [-2.06388816],\n",
              "       [-2.06403288],\n",
              "       [-2.65149833],\n",
              "       [ 2.19705687],\n",
              "       [ 0.60669007],\n",
              "       [ 1.24843547],\n",
              "       [-2.87649303],\n",
              "       [ 2.81945911],\n",
              "       [ 1.99465584],\n",
              "       [-1.72596534],\n",
              "       [-1.9090502 ],\n",
              "       [-1.89957294],\n",
              "       [-1.17454654],\n",
              "       [ 0.14853859],\n",
              "       [-0.40832989],\n",
              "       [-1.25262516],\n",
              "       [ 0.67111737],\n",
              "       [-2.16303684],\n",
              "       [-1.24713211],\n",
              "       [-0.80182894],\n",
              "       [-0.26358009],\n",
              "       [ 1.71105577],\n",
              "       [-1.80195731],\n",
              "       [ 0.08540663],\n",
              "       [ 0.55448741],\n",
              "       [-2.72129752],\n",
              "       [ 0.64526911],\n",
              "       [-1.97685526],\n",
              "       [-2.60969044],\n",
              "       [ 2.69331322],\n",
              "       [ 2.7937922 ],\n",
              "       [ 1.85038409],\n",
              "       [-1.17231738],\n",
              "       [-2.41396732],\n",
              "       [ 1.10539816],\n",
              "       [-0.35908504]])"
            ]
          },
          "metadata": {
            "tags": []
          },
          "execution_count": 33
        }
      ]
    },
    {
      "cell_type": "code",
      "metadata": {
        "colab": {
          "base_uri": "https://localhost:8080/"
        },
        "id": "6GAKShrdSkqc",
        "outputId": "4ae18718-72b5-404b-863a-0f9ad98535ff"
      },
      "source": [
        "y"
      ],
      "execution_count": null,
      "outputs": [
        {
          "output_type": "execute_result",
          "data": {
            "text/plain": [
              "array([-0.44822073,  0.33122576,  0.77932073,  0.03497884, -1.38773632,\n",
              "       -2.47196233, -1.52730805,  1.49417157,  1.00032374,  0.22956153,\n",
              "       -1.05979555,  0.7789638 ,  0.75418806, -1.51369739, -1.67303415,\n",
              "       -0.90496988,  0.08448544, -0.52734666, -0.54114599, -0.3409073 ,\n",
              "        0.21778193, -1.12469096,  0.37299129,  0.09756349, -0.98618122,\n",
              "        0.96695428, -1.13455014,  0.69798591,  0.43655826, -0.95652133,\n",
              "        0.03527881, -2.08581717, -0.47411033,  1.53708251,  0.86893293,\n",
              "        1.87664889,  0.0945257 , -1.41502356,  0.25438895,  0.09398858])"
            ]
          },
          "metadata": {
            "tags": []
          },
          "execution_count": 34
        }
      ]
    },
    {
      "cell_type": "markdown",
      "metadata": {
        "id": "L5XuF0e9Sm-A"
      },
      "source": [
        "# 유방암 종양의 임상 데이터 위스콘신 (wiseconsin Breast Cancer) "
      ]
    },
    {
      "cell_type": "code",
      "metadata": {
        "id": "MakyuRhxTcIG"
      },
      "source": [
        "from sklearn.datasets import load_breast_cancer"
      ],
      "execution_count": null,
      "outputs": []
    },
    {
      "cell_type": "code",
      "metadata": {
        "colab": {
          "base_uri": "https://localhost:8080/"
        },
        "id": "O4ysJqr4TpIn",
        "outputId": "7904a3a0-1547-4e31-febd-8c29dc847589"
      },
      "source": [
        "cancer = load_breast_cancer()\n",
        "print(type(cancer))"
      ],
      "execution_count": null,
      "outputs": [
        {
          "output_type": "stream",
          "text": [
            "<class 'sklearn.utils.Bunch'>\n"
          ],
          "name": "stdout"
        }
      ]
    },
    {
      "cell_type": "code",
      "metadata": {
        "colab": {
          "base_uri": "https://localhost:8080/"
        },
        "id": "nHKApH8bT4Du",
        "outputId": "fb641238-1fbe-417f-9878-a13c21d379c7"
      },
      "source": [
        "cancer.keys()"
      ],
      "execution_count": null,
      "outputs": [
        {
          "output_type": "execute_result",
          "data": {
            "text/plain": [
              "dict_keys(['data', 'target', 'target_names', 'DESCR', 'feature_names', 'filename'])"
            ]
          },
          "metadata": {
            "tags": []
          },
          "execution_count": 37
        }
      ]
    },
    {
      "cell_type": "code",
      "metadata": {
        "colab": {
          "base_uri": "https://localhost:8080/"
        },
        "id": "MiwYi9epT7Rm",
        "outputId": "4e1bb765-eb80-4f3e-9182-f87717cfa504"
      },
      "source": [
        "print('Shape of cancer data : ', cancer.data.shape)"
      ],
      "execution_count": null,
      "outputs": [
        {
          "output_type": "stream",
          "text": [
            "Shape of cancer data :  (569, 30)\n"
          ],
          "name": "stdout"
        }
      ]
    },
    {
      "cell_type": "code",
      "metadata": {
        "colab": {
          "base_uri": "https://localhost:8080/"
        },
        "id": "3zzKPpZuUSol",
        "outputId": "30227026-781b-499b-d4e7-7793eb713cc6"
      },
      "source": [
        "print('Sample count per class : \\n', \n",
        "      {n: v for n, v in zip(cancer.target_names,np.bincount(cancer.target))})\n",
        "\n",
        "# zip 같은 길이의 리스트를 나열\n",
        "# bincount() 0~9까지 count하는 것"
      ],
      "execution_count": null,
      "outputs": [
        {
          "output_type": "stream",
          "text": [
            "Sample count per class : \n",
            " {'malignant': 212, 'benign': 357}\n"
          ],
          "name": "stdout"
        }
      ]
    },
    {
      "cell_type": "code",
      "metadata": {
        "colab": {
          "base_uri": "https://localhost:8080/"
        },
        "id": "g0STLgdAU5_-",
        "outputId": "4ee1f055-2605-48dd-8208-735fcdfe1d24"
      },
      "source": [
        "cancer.feature_names"
      ],
      "execution_count": null,
      "outputs": [
        {
          "output_type": "execute_result",
          "data": {
            "text/plain": [
              "array(['mean radius', 'mean texture', 'mean perimeter', 'mean area',\n",
              "       'mean smoothness', 'mean compactness', 'mean concavity',\n",
              "       'mean concave points', 'mean symmetry', 'mean fractal dimension',\n",
              "       'radius error', 'texture error', 'perimeter error', 'area error',\n",
              "       'smoothness error', 'compactness error', 'concavity error',\n",
              "       'concave points error', 'symmetry error',\n",
              "       'fractal dimension error', 'worst radius', 'worst texture',\n",
              "       'worst perimeter', 'worst area', 'worst smoothness',\n",
              "       'worst compactness', 'worst concavity', 'worst concave points',\n",
              "       'worst symmetry', 'worst fractal dimension'], dtype='<U23')"
            ]
          },
          "metadata": {
            "tags": []
          },
          "execution_count": 40
        }
      ]
    },
    {
      "cell_type": "markdown",
      "metadata": {
        "id": "R92e4auXXQIo"
      },
      "source": [
        "# 보스턴 주택가격"
      ]
    },
    {
      "cell_type": "code",
      "metadata": {
        "id": "3oG5sjBBYDFp"
      },
      "source": [
        "from sklearn.datasets import load_boston\n",
        "boston = load_boston()"
      ],
      "execution_count": null,
      "outputs": []
    },
    {
      "cell_type": "code",
      "metadata": {
        "colab": {
          "base_uri": "https://localhost:8080/"
        },
        "id": "0gxeoQl1YIZ2",
        "outputId": "92815519-d429-45a3-ffe8-bca52097aaca"
      },
      "source": [
        "boston.data.shape"
      ],
      "execution_count": null,
      "outputs": [
        {
          "output_type": "execute_result",
          "data": {
            "text/plain": [
              "(506, 13)"
            ]
          },
          "metadata": {
            "tags": []
          },
          "execution_count": 42
        }
      ]
    },
    {
      "cell_type": "code",
      "metadata": {
        "id": "aQNG4jS6YKC9"
      },
      "source": [
        "X, y = mglearn.datasets.load_extended_boston()"
      ],
      "execution_count": null,
      "outputs": []
    },
    {
      "cell_type": "code",
      "metadata": {
        "colab": {
          "base_uri": "https://localhost:8080/"
        },
        "id": "i1xazAptY120",
        "outputId": "fe156f8e-347e-473a-8462-8397fd266e66"
      },
      "source": [
        "X.shape"
      ],
      "execution_count": null,
      "outputs": [
        {
          "output_type": "execute_result",
          "data": {
            "text/plain": [
              "(506, 104)"
            ]
          },
          "metadata": {
            "tags": []
          },
          "execution_count": 44
        }
      ]
    },
    {
      "cell_type": "markdown",
      "metadata": {
        "id": "usipw-pvY4ML"
      },
      "source": [
        "#k-NN"
      ]
    },
    {
      "cell_type": "code",
      "metadata": {
        "colab": {
          "base_uri": "https://localhost:8080/",
          "height": 321
        },
        "id": "i1VOd8wXcK4V",
        "outputId": "c884c0aa-67bf-4612-c8e0-33c195db8982"
      },
      "source": [
        "mglearn.plots.plot_knn_classification(n_neighbors=1)"
      ],
      "execution_count": null,
      "outputs": [
        {
          "output_type": "stream",
          "text": [
            "/usr/local/lib/python3.7/dist-packages/sklearn/utils/deprecation.py:87: FutureWarning: Function make_blobs is deprecated; Please import make_blobs directly from scikit-learn\n",
            "  warnings.warn(msg, category=FutureWarning)\n"
          ],
          "name": "stderr"
        },
        {
          "output_type": "display_data",
          "data": {
            "image/png": "[encoded data removed]",
            "text/plain": [
              "<Figure size 432x288 with 1 Axes>"
            ]
          },
          "metadata": {
            "tags": [],
            "needs_background": "light"
          }
        }
      ]
    },
    {
      "cell_type": "code",
      "metadata": {
        "colab": {
          "base_uri": "https://localhost:8080/"
        },
        "id": "hVmVRg7icS-N",
        "outputId": "5b700a17-4ff5-4f28-a598-1ad9e89e64f7"
      },
      "source": [
        "X, y = mglearn.datasets.make_forge()"
      ],
      "execution_count": null,
      "outputs": [
        {
          "output_type": "stream",
          "text": [
            "/usr/local/lib/python3.7/dist-packages/sklearn/utils/deprecation.py:87: FutureWarning: Function make_blobs is deprecated; Please import make_blobs directly from scikit-learn\n",
            "  warnings.warn(msg, category=FutureWarning)\n"
          ],
          "name": "stderr"
        }
      ]
    },
    {
      "cell_type": "code",
      "metadata": {
        "colab": {
          "base_uri": "https://localhost:8080/"
        },
        "id": "ZzTzVD9Lf2tP",
        "outputId": "fe050974-c2be-4849-9f5a-160261dd002a"
      },
      "source": [
        "X"
      ],
      "execution_count": null,
      "outputs": [
        {
          "output_type": "execute_result",
          "data": {
            "text/plain": [
              "array([[ 9.96346605,  4.59676542],\n",
              "       [11.0329545 , -0.16816717],\n",
              "       [11.54155807,  5.21116083],\n",
              "       [ 8.69289001,  1.54322016],\n",
              "       [ 8.1062269 ,  4.28695977],\n",
              "       [ 8.30988863,  4.80623966],\n",
              "       [11.93027136,  4.64866327],\n",
              "       [ 9.67284681, -0.20283165],\n",
              "       [ 8.34810316,  5.13415623],\n",
              "       [ 8.67494727,  4.47573059],\n",
              "       [ 9.17748385,  5.09283177],\n",
              "       [10.24028948,  2.45544401],\n",
              "       [ 8.68937095,  1.48709629],\n",
              "       [ 8.92229526, -0.63993225],\n",
              "       [ 9.49123469,  4.33224792],\n",
              "       [ 9.25694192,  5.13284858],\n",
              "       [ 7.99815287,  4.8525051 ],\n",
              "       [ 8.18378052,  1.29564214],\n",
              "       [ 8.7337095 ,  2.49162431],\n",
              "       [ 9.32298256,  5.09840649],\n",
              "       [10.06393839,  0.99078055],\n",
              "       [ 9.50048972, -0.26430318],\n",
              "       [ 8.34468785,  1.63824349],\n",
              "       [ 9.50169345,  1.93824624],\n",
              "       [ 9.15072323,  5.49832246],\n",
              "       [11.563957  ,  1.3389402 ]])"
            ]
          },
          "metadata": {
            "tags": []
          },
          "execution_count": 47
        }
      ]
    },
    {
      "cell_type": "code",
      "metadata": {
        "colab": {
          "base_uri": "https://localhost:8080/"
        },
        "id": "GeKQUWWbf8ic",
        "outputId": "50b8ac37-fedd-4628-dab5-f48839e51d4e"
      },
      "source": [
        "y"
      ],
      "execution_count": null,
      "outputs": [
        {
          "output_type": "execute_result",
          "data": {
            "text/plain": [
              "array([1, 0, 1, 0, 0, 1, 1, 0, 1, 1, 1, 1, 0, 0, 1, 1, 1, 0, 0, 1, 0, 0,\n",
              "       0, 0, 1, 0])"
            ]
          },
          "metadata": {
            "tags": []
          },
          "execution_count": 48
        }
      ]
    },
    {
      "cell_type": "code",
      "metadata": {
        "id": "k_n6nfQLf-Ql"
      },
      "source": [
        "from sklearn.model_selection import train_test_split"
      ],
      "execution_count": null,
      "outputs": []
    },
    {
      "cell_type": "code",
      "metadata": {
        "id": "S3Gb4qx4gKIt"
      },
      "source": [
        "X_train, X_test, y_train, y_test = train_test_split(X,y,random_state=0)"
      ],
      "execution_count": null,
      "outputs": []
    },
    {
      "cell_type": "code",
      "metadata": {
        "id": "s8JXP-UpgUjc"
      },
      "source": [
        "from sklearn.neighbors import KNeighborsClassifier"
      ],
      "execution_count": null,
      "outputs": []
    },
    {
      "cell_type": "code",
      "metadata": {
        "id": "kcXte6YwgvWT"
      },
      "source": [
        "clf = KNeighborsClassifier(n_neighbors=3)"
      ],
      "execution_count": null,
      "outputs": []
    },
    {
      "cell_type": "code",
      "metadata": {
        "colab": {
          "base_uri": "https://localhost:8080/"
        },
        "id": "o7dh2ro5gzEL",
        "outputId": "15780087-f5e7-4117-80be-f1b0401e06d8"
      },
      "source": [
        "clf.fit(X_train,y_train)"
      ],
      "execution_count": null,
      "outputs": [
        {
          "output_type": "execute_result",
          "data": {
            "text/plain": [
              "KNeighborsClassifier(algorithm='auto', leaf_size=30, metric='minkowski',\n",
              "                     metric_params=None, n_jobs=None, n_neighbors=3, p=2,\n",
              "                     weights='uniform')"
            ]
          },
          "metadata": {
            "tags": []
          },
          "execution_count": 53
        }
      ]
    },
    {
      "cell_type": "code",
      "metadata": {
        "colab": {
          "base_uri": "https://localhost:8080/"
        },
        "id": "HvrCOHCog1w7",
        "outputId": "b300abe6-5e6e-4e6a-b592-27929392b954"
      },
      "source": [
        "print('Test set predictions : ',clf.predict(X_test))"
      ],
      "execution_count": null,
      "outputs": [
        {
          "output_type": "stream",
          "text": [
            "Test set predictions :  [1 0 1 0 1 0 0]\n"
          ],
          "name": "stdout"
        }
      ]
    },
    {
      "cell_type": "code",
      "metadata": {
        "colab": {
          "base_uri": "https://localhost:8080/"
        },
        "id": "kxDgasP9g5AD",
        "outputId": "edfdb530-7a86-4d78-8c1c-0bbc2c4bf75a"
      },
      "source": [
        "print('Test set Accuracy : {:.4f}'.format(clf.score(X_test,y_test)))"
      ],
      "execution_count": null,
      "outputs": [
        {
          "output_type": "stream",
          "text": [
            "Test set Accuracy : 0.8571\n"
          ],
          "name": "stdout"
        }
      ]
    },
    {
      "cell_type": "markdown",
      "metadata": {
        "id": "ZB5YWaxuiD_j"
      },
      "source": [
        "#Analyzing KNeighborsClassifier"
      ]
    },
    {
      "cell_type": "code",
      "metadata": {
        "colab": {
          "base_uri": "https://localhost:8080/",
          "height": 242
        },
        "id": "tbx8dgKcjWic",
        "outputId": "10d89d91-2588-41af-c29d-f59b2a8d8f52"
      },
      "source": [
        "fig, axes = plt.subplots(1,3,figsize=(10,3))\n",
        "for n_neighbors, ax in zip([1,3,9],axes):\n",
        "  clf = KNeighborsClassifier(n_neighbors=n_neighbors).fit(X,y)\n",
        "  mglearn.plots.plot_2d_separator(clf,\n",
        "                                  X,\n",
        "                                  fill=True,\n",
        "                                  eps=0.5,\n",
        "                                  ax=ax,\n",
        "                                  alpha=.4\n",
        "                                  )\n",
        "  mglearn.discrete_scatter(X[:,0],X[:,1],y,ax=ax)\n",
        "  ax.set_title('{} neighbor'.format(n_neighbors))\n",
        "  ax.set_xlabel('feature 0')\n",
        "  ax.set_ylabel('feature 1')\n",
        "axes[0].legend(loc=3)"
      ],
      "execution_count": null,
      "outputs": [
        {
          "output_type": "execute_result",
          "data": {
            "text/plain": [
              "<matplotlib.legend.Legend at 0x7fc27b4af190>"
            ]
          },
          "metadata": {
            "tags": []
          },
          "execution_count": 56
        },
        {
          "output_type": "display_data",
          "data": {
            "image/png": "[encoded data removed]",
            "text/plain": [
              "<Figure size 720x216 with 3 Axes>"
            ]
          },
          "metadata": {
            "tags": []
          }
        }
      ]
    },
    {
      "cell_type": "code",
      "metadata": {
        "id": "GyWcUDTxjaxV"
      },
      "source": [
        "from sklearn.datasets import load_breast_cancer\n",
        "cancer = load_breast_cancer()"
      ],
      "execution_count": null,
      "outputs": []
    },
    {
      "cell_type": "code",
      "metadata": {
        "id": "-VkcRX2inK1N"
      },
      "source": [
        "X_train, X_test, y_train, y_test = train_test_split(cancer.data,cancer.target,random_state=66)"
      ],
      "execution_count": null,
      "outputs": []
    },
    {
      "cell_type": "code",
      "metadata": {
        "id": "f2kD9uB8nySt"
      },
      "source": [
        "training_accuracy = []\n",
        "test_accuracy = []\n",
        "neighbors_settings = range(1,11)"
      ],
      "execution_count": null,
      "outputs": []
    },
    {
      "cell_type": "code",
      "metadata": {
        "colab": {
          "base_uri": "https://localhost:8080/",
          "height": 298
        },
        "id": "ED8a1Q_pn6IU",
        "outputId": "8fa4649f-1afc-4ddd-c5e7-da4bfec12ac1"
      },
      "source": [
        "for n_neighbors in neighbors_settings:\n",
        "  clf = KNeighborsClassifier(n_neighbors=n_neighbors)\n",
        "  clf.fit(X_train,y_train)\n",
        "  training_accuracy.append(clf.score(X_train,y_train))\n",
        "  test_accuracy.append(clf.score(X_test,y_test))\n",
        "\n",
        "plt.plot(neighbors_settings, training_accuracy, label = \"train accuracy\")\n",
        "plt.plot(neighbors_settings,test_accuracy,label='test accuracy')\n",
        "plt.ylabel('accuracy')\n",
        "plt.xlabel('n_neighbors')\n",
        "plt.legend()"
      ],
      "execution_count": null,
      "outputs": [
        {
          "output_type": "execute_result",
          "data": {
            "text/plain": [
              "<matplotlib.legend.Legend at 0x7fc27b507410>"
            ]
          },
          "metadata": {
            "tags": []
          },
          "execution_count": 60
        },
        {
          "output_type": "display_data",
          "data": {
            "image/png": "[encoded data removed]",
            "text/plain": [
              "<Figure size 432x288 with 1 Axes>"
            ]
          },
          "metadata": {
            "tags": [],
            "needs_background": "light"
          }
        }
      ]
    },
    {
      "cell_type": "markdown",
      "metadata": {
        "id": "f7aSfInLsYAk"
      },
      "source": [
        "## k-neighbors regression"
      ]
    },
    {
      "cell_type": "code",
      "metadata": {
        "colab": {
          "base_uri": "https://localhost:8080/",
          "height": 414
        },
        "id": "b2Fxjlj6yjgK",
        "outputId": "8dd46a77-6f73-4368-822f-901200d329e3"
      },
      "source": [
        "mglearn.plots.plot_knn_regression(n_neighbors=1)"
      ],
      "execution_count": null,
      "outputs": [
        {
          "output_type": "display_data",
          "data": {
            "image/png": "[encoded data removed]",
            "text/plain": [
              "<Figure size 720x432 with 1 Axes>"
            ]
          },
          "metadata": {
            "tags": [],
            "needs_background": "light"
          }
        }
      ]
    },
    {
      "cell_type": "code",
      "metadata": {
        "colab": {
          "base_uri": "https://localhost:8080/",
          "height": 414
        },
        "id": "QE4JaPs_yroe",
        "outputId": "c1d6111d-6551-49a0-cc4b-5541c89c2f56"
      },
      "source": [
        "mglearn.plots.plot_knn_regression(n_neighbors=3)"
      ],
      "execution_count": null,
      "outputs": [
        {
          "output_type": "display_data",
          "data": {
            "image/png": "[encoded data removed]",
            "text/plain": [
              "<Figure size 720x432 with 1 Axes>"
            ]
          },
          "metadata": {
            "tags": [],
            "needs_background": "light"
          }
        }
      ]
    },
    {
      "cell_type": "code",
      "metadata": {
        "id": "FdBqOvr50Dyf"
      },
      "source": [
        "from sklearn.neighbors import KNeighborsRegressor"
      ],
      "execution_count": null,
      "outputs": []
    },
    {
      "cell_type": "code",
      "metadata": {
        "id": "0vgcScRD08TZ"
      },
      "source": [
        "X,y = mglearn.datasets.make_wave(n_samples=40)"
      ],
      "execution_count": null,
      "outputs": []
    },
    {
      "cell_type": "code",
      "metadata": {
        "id": "xBauwWyw1NdX"
      },
      "source": [
        "X_train, X_test, y_train, y_test = train_test_split(X,y,random_state=0)"
      ],
      "execution_count": null,
      "outputs": []
    },
    {
      "cell_type": "code",
      "metadata": {
        "id": "OZR1aIag1s8O"
      },
      "source": [
        "reg = KNeighborsRegressor(n_neighbors=3)"
      ],
      "execution_count": null,
      "outputs": []
    },
    {
      "cell_type": "code",
      "metadata": {
        "colab": {
          "base_uri": "https://localhost:8080/"
        },
        "id": "azbcNir21vm_",
        "outputId": "f916cf5f-0133-4c54-a062-ac89a75820d0"
      },
      "source": [
        "reg.fit(X_train, y_train)"
      ],
      "execution_count": null,
      "outputs": [
        {
          "output_type": "execute_result",
          "data": {
            "text/plain": [
              "KNeighborsRegressor(algorithm='auto', leaf_size=30, metric='minkowski',\n",
              "                    metric_params=None, n_jobs=None, n_neighbors=3, p=2,\n",
              "                    weights='uniform')"
            ]
          },
          "metadata": {
            "tags": []
          },
          "execution_count": 67
        }
      ]
    },
    {
      "cell_type": "code",
      "metadata": {
        "colab": {
          "base_uri": "https://localhost:8080/"
        },
        "id": "AIjuh31c1z6I",
        "outputId": "85d2a39b-0dd4-43ad-f979-709ea7207c2d"
      },
      "source": [
        "reg.predict(X_test)"
      ],
      "execution_count": null,
      "outputs": [
        {
          "output_type": "execute_result",
          "data": {
            "text/plain": [
              "array([-0.05396539,  0.35686046,  1.13671923, -1.89415682, -1.13881398,\n",
              "       -1.63113382,  0.35686046,  0.91241374, -0.44680446, -1.13881398])"
            ]
          },
          "metadata": {
            "tags": []
          },
          "execution_count": 68
        }
      ]
    },
    {
      "cell_type": "code",
      "metadata": {
        "colab": {
          "base_uri": "https://localhost:8080/"
        },
        "id": "eNJXPg162Ib9",
        "outputId": "049784ed-2841-4d41-94bd-a6fc5f94da2e"
      },
      "source": [
        "reg.score(X_test,y_test)"
      ],
      "execution_count": null,
      "outputs": [
        {
          "output_type": "execute_result",
          "data": {
            "text/plain": [
              "0.8344172446249604"
            ]
          },
          "metadata": {
            "tags": []
          },
          "execution_count": 69
        }
      ]
    },
    {
      "cell_type": "markdown",
      "metadata": {
        "id": "UjXsRcyY2Ll9"
      },
      "source": [
        "[Reshape<br>https://yganalyst.github.io/data_handling/memo_5/](https://yganalyst.github.io/data_handling/memo_5/)"
      ]
    },
    {
      "cell_type": "markdown",
      "metadata": {
        "id": "wPJiUcXupoe-"
      },
      "source": [
        "#Analyzing KNeighborsRegressor"
      ]
    },
    {
      "cell_type": "code",
      "metadata": {
        "colab": {
          "base_uri": "https://localhost:8080/",
          "height": 326
        },
        "id": "lu8d3ot2mzDT",
        "outputId": "e334afca-c659-415d-e6de-00e20f7a632a"
      },
      "source": [
        "fig , axes = plt.subplots(1,3, figsize=(15,4))\n",
        "line = np.linspace(-3,3,1000).reshape(-1,1)\n",
        "\n",
        "for n_neighbors, ax in zip([1,3,9],axes):\n",
        "  \n",
        "  reg = KNeighborsRegressor(n_neighbors=n_neighbors)\n",
        "  reg.fit(X_train,y_train)\n",
        "  ax.plot(line, reg.predict(line))\n",
        "  ax.plot(X_train,y_train,'^',markersize=8)\n",
        "  ax.plot(X_test,y_test,'v',markersize=8)\n",
        "\n",
        "  ax.set_title('{} neighbors(s)\\n trains score : {:.2f} \\n test score : {:.2f}'.format(n_neighbors,reg.score(X_train,y_train),reg.score(X_test,y_test)))\n",
        "\n",
        "  ax.set_xlabel('fealtures')\n",
        "  ax.set_ylabel('target')\n",
        "\n",
        "axes[0].legend(['predict model','traing data/target','test data/target'], loc='best')\n"
      ],
      "execution_count": null,
      "outputs": [
        {
          "output_type": "execute_result",
          "data": {
            "text/plain": [
              "<matplotlib.legend.Legend at 0x7fc27668dc10>"
            ]
          },
          "metadata": {
            "tags": []
          },
          "execution_count": 85
        },
        {
          "output_type": "display_data",
          "data": {
            "image/png": "[encoded data removed]",
            "text/plain": [
              "<Figure size 1080x288 with 3 Axes>"
            ]
          },
          "metadata": {
            "tags": [],
            "needs_background": "light"
          }
        }
      ]
    },
    {
      "cell_type": "markdown",
      "metadata": {
        "id": "iIc9lFuBp2wu"
      },
      "source": [
        "#Linear Models"
      ]
    },
    {
      "cell_type": "code",
      "metadata": {
        "colab": {
          "base_uri": "https://localhost:8080/",
          "height": 465
        },
        "id": "tv3oQmbqzCLy",
        "outputId": "11c5393d-9c5e-41f9-98fe-202e1d96437e"
      },
      "source": [
        "mglearn.plots.plot_linear_regression_wave()"
      ],
      "execution_count": null,
      "outputs": [
        {
          "output_type": "stream",
          "text": [
            "w[0]: 0.393906  b: -0.031804\n"
          ],
          "name": "stdout"
        },
        {
          "output_type": "display_data",
          "data": {
            "image/png": "[encoded data removed]",
            "text/plain": [
              "<Figure size 576x576 with 1 Axes>"
            ]
          },
          "metadata": {
            "tags": [],
            "needs_background": "light"
          }
        }
      ]
    },
    {
      "cell_type": "code",
      "metadata": {
        "id": "6jwyW2HgzpjT"
      },
      "source": [
        "from sklearn.linear_model import LinearRegression"
      ],
      "execution_count": null,
      "outputs": []
    },
    {
      "cell_type": "markdown",
      "metadata": {
        "id": "-2Mdgpjv2Awp"
      },
      "source": [
        "![Sci-Kit Cheet Sheet](https://scikit-learn.org/stable/_static/ml_map.png)"
      ]
    },
    {
      "cell_type": "code",
      "metadata": {
        "id": "ZIUYTsAq2w7L"
      },
      "source": [
        "X,y = mglearn.datasets.make_wave(n_samples=60)\n",
        "X_train, X_test, y_train, y_test = train_test_split(X,y,random_state=60)\n",
        "\n",
        "lr = LinearRegression().fit(X_train,y_train)"
      ],
      "execution_count": null,
      "outputs": []
    },
    {
      "cell_type": "code",
      "metadata": {
        "colab": {
          "base_uri": "https://localhost:8080/"
        },
        "id": "LsPc6ZeO4fo-",
        "outputId": "49022ced-8368-4fe8-f7ca-828c09283b49"
      },
      "source": [
        "print(lr.coef_, lr.intercept_)"
      ],
      "execution_count": null,
      "outputs": [
        {
          "output_type": "stream",
          "text": [
            "[0.39657699] -0.045600364243923205\n"
          ],
          "name": "stdout"
        }
      ]
    },
    {
      "cell_type": "code",
      "metadata": {
        "colab": {
          "base_uri": "https://localhost:8080/"
        },
        "id": "54C0mnw84mPE",
        "outputId": "f2958212-70cb-4f54-94d5-d3a9b5d68a61"
      },
      "source": [
        "lr.score(X_train,y_train)"
      ],
      "execution_count": null,
      "outputs": [
        {
          "output_type": "execute_result",
          "data": {
            "text/plain": [
              "0.6307769935409304"
            ]
          },
          "metadata": {
            "tags": []
          },
          "execution_count": 98
        }
      ]
    },
    {
      "cell_type": "code",
      "metadata": {
        "colab": {
          "base_uri": "https://localhost:8080/"
        },
        "id": "eIQ8ccXX5Mxx",
        "outputId": "b73a8149-ebf0-4d85-fb82-70a2bb53c8f7"
      },
      "source": [
        "lr.score(X_test,y_test)"
      ],
      "execution_count": null,
      "outputs": [
        {
          "output_type": "execute_result",
          "data": {
            "text/plain": [
              "0.7673950193522182"
            ]
          },
          "metadata": {
            "tags": []
          },
          "execution_count": 100
        }
      ]
    },
    {
      "cell_type": "code",
      "metadata": {
        "id": "1zRwPSxl5jIK"
      },
      "source": [
        "X, y = mglearn.datasets.load_extended_boston()"
      ],
      "execution_count": null,
      "outputs": []
    },
    {
      "cell_type": "code",
      "metadata": {
        "id": "cg_8THnC50va"
      },
      "source": [
        "X_train, X_test, y_train, y_test = train_test_split(X,y,random_state=0)\n",
        "lr = LinearRegression().fit(X_train,y_train)"
      ],
      "execution_count": null,
      "outputs": []
    },
    {
      "cell_type": "markdown",
      "metadata": {
        "id": "V4HWUn8l6DY5"
      },
      "source": [
        "##### Ridge regression 리지 회귀\n",
        "리지 회귀는 과대접합이 되지 않도록 모델을 강제로 제한한다.\n",
        "linear_model.Ridge에 구현되어 있다."
      ]
    },
    {
      "cell_type": "code",
      "metadata": {
        "id": "ACDrza13NObZ"
      },
      "source": [
        "from sklearn.linear_model import Ridge"
      ],
      "execution_count": null,
      "outputs": []
    },
    {
      "cell_type": "code",
      "metadata": {
        "id": "2z1fjzeSNt74"
      },
      "source": [
        "ridge = Ridge()"
      ],
      "execution_count": null,
      "outputs": []
    },
    {
      "cell_type": "code",
      "metadata": {
        "colab": {
          "base_uri": "https://localhost:8080/"
        },
        "id": "tSbzaJwYNwa3",
        "outputId": "015cd639-41db-4a96-f5b2-2b22bbe9079c"
      },
      "source": [
        "ridge.fit(X_train,y_train)"
      ],
      "execution_count": null,
      "outputs": [
        {
          "output_type": "execute_result",
          "data": {
            "text/plain": [
              "Ridge(alpha=1.0, copy_X=True, fit_intercept=True, max_iter=None,\n",
              "      normalize=False, random_state=None, solver='auto', tol=0.001)"
            ]
          },
          "metadata": {
            "tags": []
          },
          "execution_count": 111
        }
      ]
    },
    {
      "cell_type": "code",
      "metadata": {
        "colab": {
          "base_uri": "https://localhost:8080/"
        },
        "id": "89VL2J1qN19X",
        "outputId": "d52e4b6d-166b-4506-edda-68a47cf694c1"
      },
      "source": [
        "print('Trainig set score : ', ridge.score(X_train,y_train))\n",
        "print('Test set score : ', ridge.score(X_test,y_test))"
      ],
      "execution_count": null,
      "outputs": [
        {
          "output_type": "stream",
          "text": [
            "Trainig set score :  0.8857966585170941\n",
            "Test set score :  0.7527683481744751\n"
          ],
          "name": "stdout"
        }
      ]
    },
    {
      "cell_type": "code",
      "metadata": {
        "colab": {
          "base_uri": "https://localhost:8080/"
        },
        "id": "5qVGS4qaOEHf",
        "outputId": "0f6a3f8c-5e49-47df-b863-44d36a893019"
      },
      "source": [
        "ridge10 = Ridge(alpha=10)\n",
        "ridge10.fit(X_train,y_train)"
      ],
      "execution_count": null,
      "outputs": [
        {
          "output_type": "execute_result",
          "data": {
            "text/plain": [
              "Ridge(alpha=10, copy_X=True, fit_intercept=True, max_iter=None, normalize=False,\n",
              "      random_state=None, solver='auto', tol=0.001)"
            ]
          },
          "metadata": {
            "tags": []
          },
          "execution_count": 113
        }
      ]
    },
    {
      "cell_type": "code",
      "metadata": {
        "colab": {
          "base_uri": "https://localhost:8080/"
        },
        "id": "wtWY_Zg5PWSV",
        "outputId": "24bc373d-fe1e-4b65-a1ce-79f4d419c936"
      },
      "source": [
        "print('Trainig set score : ', ridge10.score(X_train,y_train))\n",
        "print('Test set score : ', ridge10.score(X_test,y_test))"
      ],
      "execution_count": null,
      "outputs": [
        {
          "output_type": "stream",
          "text": [
            "Trainig set score :  0.7882787115369614\n",
            "Test set score :  0.6359411489177309\n"
          ],
          "name": "stdout"
        }
      ]
    },
    {
      "cell_type": "code",
      "metadata": {
        "colab": {
          "base_uri": "https://localhost:8080/"
        },
        "id": "i8sFzniqPYzl",
        "outputId": "5793a9ab-4ee3-4d51-d6ed-379a8e1548c9"
      },
      "source": [
        "ridge01 = Ridge(alpha=0.1)\n",
        "ridge01.fit(X_train,y_train)"
      ],
      "execution_count": null,
      "outputs": [
        {
          "output_type": "execute_result",
          "data": {
            "text/plain": [
              "Ridge(alpha=0.1, copy_X=True, fit_intercept=True, max_iter=None,\n",
              "      normalize=False, random_state=None, solver='auto', tol=0.001)"
            ]
          },
          "metadata": {
            "tags": []
          },
          "execution_count": 117
        }
      ]
    },
    {
      "cell_type": "code",
      "metadata": {
        "colab": {
          "base_uri": "https://localhost:8080/"
        },
        "id": "HIUxuMdzPf49",
        "outputId": "50ca5892-9f2a-4053-82cd-98edd61220b8"
      },
      "source": [
        "print('Trainig set score : ', ridge01.score(X_train,y_train))\n",
        "print('Test set score : ', ridge01.score(X_test,y_test))"
      ],
      "execution_count": null,
      "outputs": [
        {
          "output_type": "stream",
          "text": [
            "Trainig set score :  0.9282273685001992\n",
            "Test set score :  0.7722067936479818\n"
          ],
          "name": "stdout"
        }
      ]
    },
    {
      "cell_type": "code",
      "metadata": {
        "colab": {
          "base_uri": "https://localhost:8080/",
          "height": 283
        },
        "id": "YgQARvUAPh6V",
        "outputId": "83d6f57b-925e-45bd-c06a-4d80138ebf5b"
      },
      "source": [
        "plt.plot(ridge.coef_,'s',label = 'Ridge alpha=10')\n",
        "plt.plot(ridge10.coef_,'^',label='Ridge alpha=1')\n",
        "plt.plot(ridge01.coef_,'v',label='Ridge alpha=0.1')"
      ],
      "execution_count": null,
      "outputs": [
        {
          "output_type": "execute_result",
          "data": {
            "text/plain": [
              "[<matplotlib.lines.Line2D at 0x7fc26b935810>]"
            ]
          },
          "metadata": {
            "tags": []
          },
          "execution_count": 125
        },
        {
          "output_type": "display_data",
          "data": {
            "image/png": "[encoded data removed]",
            "text/plain": [
              "<Figure size 432x288 with 1 Axes>"
            ]
          },
          "metadata": {
            "tags": [],
            "needs_background": "light"
          }
        }
      ]
    },
    {
      "cell_type": "code",
      "metadata": {
        "colab": {
          "base_uri": "https://localhost:8080/",
          "height": 325
        },
        "id": "Lp-hXGP0TpWP",
        "outputId": "4a6e6ba3-bd54-40bd-9097-2728135defce"
      },
      "source": [
        "mglearn.plots.plot_ridge_n_samples()"
      ],
      "execution_count": null,
      "outputs": [
        {
          "output_type": "display_data",
          "data": {
            "image/png": "[encoded data removed]",
            "text/plain": [
              "<Figure size 432x288 with 1 Axes>"
            ]
          },
          "metadata": {
            "tags": [],
            "needs_background": "light"
          }
        }
      ]
    },
    {
      "cell_type": "markdown",
      "metadata": {
        "id": "lrEuY2HWTsdW"
      },
      "source": [
        "##### Lasso 라소\n",
        "라소는 Ridge의 대안으로 제시되며 특정 항목들은 제한이 0이 되면서 특성을 선택할 수 있게 해준다. 이는 모델의 특성을 노출하는데 도움이 된다."
      ]
    },
    {
      "cell_type": "code",
      "metadata": {
        "id": "BIgSWovKVEbG"
      },
      "source": [
        "from sklearn.linear_model import Lasso"
      ],
      "execution_count": null,
      "outputs": []
    },
    {
      "cell_type": "code",
      "metadata": {
        "id": "XjRlDtRYqjM7"
      },
      "source": [
        "lasso = Lasso()"
      ],
      "execution_count": null,
      "outputs": []
    },
    {
      "cell_type": "code",
      "metadata": {
        "colab": {
          "base_uri": "https://localhost:8080/"
        },
        "id": "U2D3WwNbqlqY",
        "outputId": "7be028cc-2cbd-4610-ad0b-50575aae2bd7"
      },
      "source": [
        "lasso.fit(X_train,y_train)"
      ],
      "execution_count": null,
      "outputs": [
        {
          "output_type": "execute_result",
          "data": {
            "text/plain": [
              "Lasso(alpha=1.0, copy_X=True, fit_intercept=True, max_iter=1000,\n",
              "      normalize=False, positive=False, precompute=False, random_state=None,\n",
              "      selection='cyclic', tol=0.0001, warm_start=False)"
            ]
          },
          "metadata": {
            "tags": []
          },
          "execution_count": 129
        }
      ]
    },
    {
      "cell_type": "code",
      "metadata": {
        "colab": {
          "base_uri": "https://localhost:8080/"
        },
        "id": "dXtcNP7_qo1g",
        "outputId": "f961cbee-a59c-41a5-e118-bf3ed181bde8"
      },
      "source": [
        "print('Training set score', lasso.score(X_train,y_train))\n",
        "print('Test set score', lasso.score(X_test,y_test))\n",
        "print('Number of features used ',np.sum(lasso.coef_!=0))"
      ],
      "execution_count": null,
      "outputs": [
        {
          "output_type": "stream",
          "text": [
            "Training set score 0.29323768991114607\n",
            "Test set score 0.20937503255272294\n",
            "Number of features used  4\n"
          ],
          "name": "stdout"
        }
      ]
    },
    {
      "cell_type": "code",
      "metadata": {
        "colab": {
          "base_uri": "https://localhost:8080/"
        },
        "id": "IvvdiOreqz3g",
        "outputId": "9a673e40-11df-45ea-dcbc-1763e1591a2e"
      },
      "source": [
        "X.shape"
      ],
      "execution_count": null,
      "outputs": [
        {
          "output_type": "execute_result",
          "data": {
            "text/plain": [
              "(506, 104)"
            ]
          },
          "metadata": {
            "tags": []
          },
          "execution_count": 135
        }
      ]
    },
    {
      "cell_type": "code",
      "metadata": {
        "id": "Me1tdV06rUX_"
      },
      "source": [
        "lasso01 = Lasso(alpha=0.01, max_iter=10000)"
      ],
      "execution_count": null,
      "outputs": []
    },
    {
      "cell_type": "code",
      "metadata": {
        "colab": {
          "base_uri": "https://localhost:8080/"
        },
        "id": "8F2oX-i-sAE-",
        "outputId": "2cda703b-b60a-465a-d4cd-d1b384c5f82e"
      },
      "source": [
        "lasso01.fit(X_train,y_train)"
      ],
      "execution_count": null,
      "outputs": [
        {
          "output_type": "execute_result",
          "data": {
            "text/plain": [
              "Lasso(alpha=0.01, copy_X=True, fit_intercept=True, max_iter=10000,\n",
              "      normalize=False, positive=False, precompute=False, random_state=None,\n",
              "      selection='cyclic', tol=0.0001, warm_start=False)"
            ]
          },
          "metadata": {
            "tags": []
          },
          "execution_count": 137
        }
      ]
    },
    {
      "cell_type": "code",
      "metadata": {
        "colab": {
          "base_uri": "https://localhost:8080/"
        },
        "id": "6qGv7e7XsEVl",
        "outputId": "189b7975-1be9-431b-f40a-3b153f51892a"
      },
      "source": [
        "print('Training set score', lasso01.score(X_train,y_train))\n",
        "print('Test set score', lasso01.score(X_test,y_test))\n",
        "print('Number of features used ',np.sum(lasso01.coef_!=0))"
      ],
      "execution_count": null,
      "outputs": [
        {
          "output_type": "stream",
          "text": [
            "Training set score 0.8962226511086497\n",
            "Test set score 0.7656571174549982\n",
            "Number of features used  33\n"
          ],
          "name": "stdout"
        }
      ]
    },
    {
      "cell_type": "code",
      "metadata": {
        "id": "0g7prCR-sjs9"
      },
      "source": [
        "lasso00001 = Lasso(alpha=0.0001, max_iter=100000)"
      ],
      "execution_count": null,
      "outputs": []
    },
    {
      "cell_type": "code",
      "metadata": {
        "colab": {
          "base_uri": "https://localhost:8080/"
        },
        "id": "yBdZ5sf4s9vc",
        "outputId": "25c46604-7438-4831-c7ac-de1c61ad4af4"
      },
      "source": [
        "lasso00001.fit(X_train,y_train)"
      ],
      "execution_count": null,
      "outputs": [
        {
          "output_type": "execute_result",
          "data": {
            "text/plain": [
              "Lasso(alpha=0.0001, copy_X=True, fit_intercept=True, max_iter=100000,\n",
              "      normalize=False, positive=False, precompute=False, random_state=None,\n",
              "      selection='cyclic', tol=0.0001, warm_start=False)"
            ]
          },
          "metadata": {
            "tags": []
          },
          "execution_count": 145
        }
      ]
    },
    {
      "cell_type": "code",
      "metadata": {
        "colab": {
          "base_uri": "https://localhost:8080/"
        },
        "id": "uon-AzR-tBIc",
        "outputId": "7a6ec27b-8a42-4597-dec9-2ca8225afcec"
      },
      "source": [
        "print('Training set score', lasso00001.score(X_train,y_train))\n",
        "print('Test set score', lasso00001.score(X_test,y_test))\n",
        "print('Number of features used ',np.sum(lasso00001.coef_!=0))"
      ],
      "execution_count": null,
      "outputs": [
        {
          "output_type": "stream",
          "text": [
            "Training set score 0.9507158754515463\n",
            "Test set score 0.6437467421272821\n",
            "Number of features used  96\n"
          ],
          "name": "stdout"
        }
      ]
    },
    {
      "cell_type": "code",
      "metadata": {
        "colab": {
          "base_uri": "https://localhost:8080/",
          "height": 283
        },
        "id": "v7iGNXrqtG_8",
        "outputId": "05836c56-adef-42b5-87f8-107403ad8fcb"
      },
      "source": [
        "plt.plot(lasso.coef_,'s',label='Lasso alpha=1') \n",
        "plt.plot(lasso01.coef_,'^',label='Lasso alpha=0.01')\n",
        "plt.plot(lasso00001.coef_,'v',label='Lasso alpha=0.0001') "
      ],
      "execution_count": null,
      "outputs": [
        {
          "output_type": "execute_result",
          "data": {
            "text/plain": [
              "[<matplotlib.lines.Line2D at 0x7fc276507ad0>]"
            ]
          },
          "metadata": {
            "tags": []
          },
          "execution_count": 150
        },
        {
          "output_type": "display_data",
          "data": {
            "image/png": "[encoded data removed]",
            "text/plain": [
              "<Figure size 432x288 with 1 Axes>"
            ]
          },
          "metadata": {
            "tags": [],
            "needs_background": "light"
          }
        }
      ]
    },
    {
      "cell_type": "markdown",
      "metadata": {
        "id": "cc3MGbhmuHtr"
      },
      "source": [
        "#Linear models for classifation"
      ]
    },
    {
      "cell_type": "code",
      "metadata": {
        "id": "xjivhLF1w90-"
      },
      "source": [
        "from sklearn.linear_model import LogisticRegression\n",
        "from sklearn.svm import LinearSVC"
      ],
      "execution_count": null,
      "outputs": []
    },
    {
      "cell_type": "code",
      "metadata": {
        "colab": {
          "base_uri": "https://localhost:8080/"
        },
        "id": "oOXjB7qrxEpF",
        "outputId": "9167b595-f074-472d-a819-bf321b60e9b1"
      },
      "source": [
        "X, y = mglearn.datasets.make_forge()"
      ],
      "execution_count": null,
      "outputs": [
        {
          "output_type": "stream",
          "text": [
            "/usr/local/lib/python3.7/dist-packages/sklearn/utils/deprecation.py:87: FutureWarning: Function make_blobs is deprecated; Please import make_blobs directly from scikit-learn\n",
            "  warnings.warn(msg, category=FutureWarning)\n"
          ],
          "name": "stderr"
        }
      ]
    },
    {
      "cell_type": "code",
      "metadata": {
        "colab": {
          "base_uri": "https://localhost:8080/",
          "height": 305
        },
        "id": "9SPRROmtxdeO",
        "outputId": "2ad1aaf4-910f-484d-bdf8-d0092589ac30"
      },
      "source": [
        "fig, axes = plt.subplots(1,2,figsize=(10,3))\n",
        "print(axes)\n",
        "for model, ax in zip([LinearSVC(),LogisticRegression()],axes):\n",
        "  clf = model.fit(X,y)\n",
        "\n",
        "  mglearn.plots.plot_2d_separator(clf, X, ax=ax)\n",
        "  mglearn.discrete_scatter(X[:,0],X[:,1],y,ax=ax)\n",
        "  ax.set_title('{}'.format(clf.__class__.__name__))"
      ],
      "execution_count": null,
      "outputs": [
        {
          "output_type": "stream",
          "text": [
            "[<matplotlib.axes._subplots.AxesSubplot object at 0x7fc26b04ff50>\n",
            " <matplotlib.axes._subplots.AxesSubplot object at 0x7fc26b04cd10>]\n"
          ],
          "name": "stdout"
        },
        {
          "output_type": "stream",
          "text": [
            "/usr/local/lib/python3.7/dist-packages/sklearn/svm/_base.py:947: ConvergenceWarning: Liblinear failed to converge, increase the number of iterations.\n",
            "  \"the number of iterations.\", ConvergenceWarning)\n"
          ],
          "name": "stderr"
        },
        {
          "output_type": "display_data",
          "data": {
            "image/png": "[encoded data removed]",
            "text/plain": [
              "<Figure size 720x216 with 2 Axes>"
            ]
          },
          "metadata": {
            "tags": []
          }
        }
      ]
    },
    {
      "cell_type": "code",
      "metadata": {
        "colab": {
          "base_uri": "https://localhost:8080/",
          "height": 268
        },
        "id": "j_a43J3G2EUH",
        "outputId": "0bfd5bc5-c7b3-4b6a-c916-a65bf1fe5401"
      },
      "source": [
        "  mglearn.plots.plot_linear_svc_regularization()"
      ],
      "execution_count": null,
      "outputs": [
        {
          "output_type": "display_data",
          "data": {
            "image/png": "[encoded data removed]",
            "text/plain": [
              "<Figure size 864x288 with 3 Axes>"
            ]
          },
          "metadata": {
            "tags": []
          }
        }
      ]
    },
    {
      "cell_type": "code",
      "metadata": {
        "id": "V0KX28NO5Eox"
      },
      "source": [
        "from sklearn.datasets import load_breast_cancer"
      ],
      "execution_count": null,
      "outputs": []
    },
    {
      "cell_type": "code",
      "metadata": {
        "id": "T7YFolG65KIw"
      },
      "source": [
        "cancer = load_breast_cancer()"
      ],
      "execution_count": null,
      "outputs": []
    },
    {
      "cell_type": "code",
      "metadata": {
        "id": "z6xbOf5L5LKX"
      },
      "source": [
        "X_train, X_test, y_train, y_test = train_test_split(cancer.data,cancer.target,stratify=cancer.target,random_state=42)"
      ],
      "execution_count": null,
      "outputs": []
    },
    {
      "cell_type": "code",
      "metadata": {
        "colab": {
          "base_uri": "https://localhost:8080/"
        },
        "id": "wG2DZoY258K-",
        "outputId": "d2774346-6cb5-45e7-8db9-356470b52d24"
      },
      "source": [
        "logreg = LogisticRegression()\n",
        "logreg.fit(X_train,y_train)"
      ],
      "execution_count": null,
      "outputs": [
        {
          "output_type": "stream",
          "text": [
            "/usr/local/lib/python3.7/dist-packages/sklearn/linear_model/_logistic.py:940: ConvergenceWarning: lbfgs failed to converge (status=1):\n",
            "STOP: TOTAL NO. of ITERATIONS REACHED LIMIT.\n",
            "\n",
            "Increase the number of iterations (max_iter) or scale the data as shown in:\n",
            "    https://scikit-learn.org/stable/modules/preprocessing.html\n",
            "Please also refer to the documentation for alternative solver options:\n",
            "    https://scikit-learn.org/stable/modules/linear_model.html#logistic-regression\n",
            "  extra_warning_msg=_LOGISTIC_SOLVER_CONVERGENCE_MSG)\n"
          ],
          "name": "stderr"
        },
        {
          "output_type": "execute_result",
          "data": {
            "text/plain": [
              "LogisticRegression(C=1.0, class_weight=None, dual=False, fit_intercept=True,\n",
              "                   intercept_scaling=1, l1_ratio=None, max_iter=100,\n",
              "                   multi_class='auto', n_jobs=None, penalty='l2',\n",
              "                   random_state=None, solver='lbfgs', tol=0.0001, verbose=0,\n",
              "                   warm_start=False)"
            ]
          },
          "metadata": {
            "tags": []
          },
          "execution_count": 196
        }
      ]
    },
    {
      "cell_type": "code",
      "metadata": {
        "colab": {
          "base_uri": "https://localhost:8080/"
        },
        "id": "y9em9W-Q6t2d",
        "outputId": "db9696d3-0c77-40cc-b557-3d1043fa2f6c"
      },
      "source": [
        "print('Training set score : ',logreg.score(X_train,y_train))\n",
        "print('Test set score : ',logreg.score(X_test,y_test))"
      ],
      "execution_count": null,
      "outputs": [
        {
          "output_type": "stream",
          "text": [
            "Training set score :  0.9530516431924883\n",
            "Test set score :  0.958041958041958\n"
          ],
          "name": "stdout"
        }
      ]
    },
    {
      "cell_type": "code",
      "metadata": {
        "colab": {
          "base_uri": "https://localhost:8080/"
        },
        "id": "KaL8VgZZ7KX0",
        "outputId": "24365f82-1610-4814-ceee-2d9092ae74dd"
      },
      "source": [
        "logreg100 = LogisticRegression(C=100).fit(X_train,y_train)"
      ],
      "execution_count": null,
      "outputs": [
        {
          "output_type": "stream",
          "text": [
            "/usr/local/lib/python3.7/dist-packages/sklearn/linear_model/_logistic.py:940: ConvergenceWarning: lbfgs failed to converge (status=1):\n",
            "STOP: TOTAL NO. of ITERATIONS REACHED LIMIT.\n",
            "\n",
            "Increase the number of iterations (max_iter) or scale the data as shown in:\n",
            "    https://scikit-learn.org/stable/modules/preprocessing.html\n",
            "Please also refer to the documentation for alternative solver options:\n",
            "    https://scikit-learn.org/stable/modules/linear_model.html#logistic-regression\n",
            "  extra_warning_msg=_LOGISTIC_SOLVER_CONVERGENCE_MSG)\n"
          ],
          "name": "stderr"
        }
      ]
    },
    {
      "cell_type": "code",
      "metadata": {
        "colab": {
          "base_uri": "https://localhost:8080/"
        },
        "id": "cgRar0Or8Jej",
        "outputId": "3d66661e-1e91-4785-a3eb-41ee1e1f7573"
      },
      "source": [
        "print('Training set score : ',logreg100.score(X_train,y_train))\n",
        "print('Test set score : ',logreg100.score(X_test,y_test))"
      ],
      "execution_count": null,
      "outputs": [
        {
          "output_type": "stream",
          "text": [
            "Training set score :  0.9553990610328639\n",
            "Test set score :  0.9440559440559441\n"
          ],
          "name": "stdout"
        }
      ]
    },
    {
      "cell_type": "code",
      "metadata": {
        "colab": {
          "base_uri": "https://localhost:8080/"
        },
        "id": "xvVuuSLU8NZC",
        "outputId": "a57894c5-3cde-46fc-8960-a2fc916f9f11"
      },
      "source": [
        "logreg001 = LogisticRegression(C=0.01).fit(X_train,y_train)"
      ],
      "execution_count": null,
      "outputs": [
        {
          "output_type": "stream",
          "text": [
            "/usr/local/lib/python3.7/dist-packages/sklearn/linear_model/_logistic.py:940: ConvergenceWarning: lbfgs failed to converge (status=1):\n",
            "STOP: TOTAL NO. of ITERATIONS REACHED LIMIT.\n",
            "\n",
            "Increase the number of iterations (max_iter) or scale the data as shown in:\n",
            "    https://scikit-learn.org/stable/modules/preprocessing.html\n",
            "Please also refer to the documentation for alternative solver options:\n",
            "    https://scikit-learn.org/stable/modules/linear_model.html#logistic-regression\n",
            "  extra_warning_msg=_LOGISTIC_SOLVER_CONVERGENCE_MSG)\n"
          ],
          "name": "stderr"
        }
      ]
    },
    {
      "cell_type": "code",
      "metadata": {
        "colab": {
          "base_uri": "https://localhost:8080/"
        },
        "id": "GvdSpZWK8j5J",
        "outputId": "4f212a9b-a997-4af9-d817-3a03e553f09a"
      },
      "source": [
        "print('Training set score : ',logreg001.score(X_train,y_train))\n",
        "print('Test set score : ',logreg001.score(X_test,y_test))"
      ],
      "execution_count": null,
      "outputs": [
        {
          "output_type": "stream",
          "text": [
            "Training set score :  0.9342723004694836\n",
            "Test set score :  0.9300699300699301\n"
          ],
          "name": "stdout"
        }
      ]
    },
    {
      "cell_type": "code",
      "metadata": {
        "colab": {
          "base_uri": "https://localhost:8080/",
          "height": 406
        },
        "id": "Zx--tTAC8rOZ",
        "outputId": "8b34fb14-4a95-4d74-bcd4-94fce3c28a85"
      },
      "source": [
        "plt.plot(logreg.coef_.T, 'o', label=\"C=1\")\n",
        "plt.plot(logreg100.coef_.T, '^', label=\"C=100\")\n",
        "plt.plot(logreg001.coef_.T, 'v', label=\"C=0.001\")\n",
        "plt.xticks(range(cancer.data.shape[1]), cancer.feature_names, rotation=90)\n",
        "xlims = plt.xlim()\n",
        "plt.hlines(0, xlims[0], xlims[1])\n",
        "plt.xlim(xlims)\n",
        "plt.ylim(-5, 5)\n",
        "plt.xlabel(\"Feature\")\n",
        "plt.ylabel(\"Coefficient magnitude\")\n",
        "plt.legend()"
      ],
      "execution_count": null,
      "outputs": [
        {
          "output_type": "execute_result",
          "data": {
            "text/plain": [
              "<matplotlib.legend.Legend at 0x7fc26b518490>"
            ]
          },
          "metadata": {
            "tags": []
          },
          "execution_count": 256
        },
        {
          "output_type": "display_data",
          "data": {
            "image/png": "[encoded data removed]",
            "text/plain": [
              "<Figure size 432x288 with 1 Axes>"
            ]
          },
          "metadata": {
            "tags": [],
            "needs_background": "light"
          }
        }
      ]
    },
    {
      "cell_type": "code",
      "metadata": {
        "colab": {
          "base_uri": "https://localhost:8080/"
        },
        "id": "bX3eIt1d93NK",
        "outputId": "0c430366-9ad8-46e8-fb29-623d93f7e4b2"
      },
      "source": [
        "print(logreg.coef_)\n",
        "print(logreg.coef_.T)"
      ],
      "execution_count": null,
      "outputs": [
        {
          "output_type": "stream",
          "text": [
            "[[ 1.69499356e+00  4.02924230e-01 -7.90251159e-02  1.22756057e-03\n",
            "  -7.52226566e-02 -3.31011467e-01 -4.61588538e-01 -1.91786656e-01\n",
            "  -1.19523692e-01 -2.56440796e-02  6.98412539e-02  8.38779804e-01\n",
            "   3.82123779e-01 -1.24737311e-01 -6.97187028e-03 -7.30659056e-02\n",
            "  -1.03177930e-01 -2.53163576e-02 -2.95112229e-02 -6.66644645e-03\n",
            "   1.67484240e+00 -4.69759831e-01 -1.71660330e-01 -2.30948721e-02\n",
            "  -1.34632517e-01 -1.07170534e+00 -1.33771965e+00 -3.80605881e-01\n",
            "  -3.67496758e-01 -1.07197832e-01]]\n",
            "[[ 1.69499356e+00]\n",
            " [ 4.02924230e-01]\n",
            " [-7.90251159e-02]\n",
            " [ 1.22756057e-03]\n",
            " [-7.52226566e-02]\n",
            " [-3.31011467e-01]\n",
            " [-4.61588538e-01]\n",
            " [-1.91786656e-01]\n",
            " [-1.19523692e-01]\n",
            " [-2.56440796e-02]\n",
            " [ 6.98412539e-02]\n",
            " [ 8.38779804e-01]\n",
            " [ 3.82123779e-01]\n",
            " [-1.24737311e-01]\n",
            " [-6.97187028e-03]\n",
            " [-7.30659056e-02]\n",
            " [-1.03177930e-01]\n",
            " [-2.53163576e-02]\n",
            " [-2.95112229e-02]\n",
            " [-6.66644645e-03]\n",
            " [ 1.67484240e+00]\n",
            " [-4.69759831e-01]\n",
            " [-1.71660330e-01]\n",
            " [-2.30948721e-02]\n",
            " [-1.34632517e-01]\n",
            " [-1.07170534e+00]\n",
            " [-1.33771965e+00]\n",
            " [-3.80605881e-01]\n",
            " [-3.67496758e-01]\n",
            " [-1.07197832e-01]]\n"
          ],
          "name": "stdout"
        }
      ]
    },
    {
      "cell_type": "code",
      "metadata": {
        "id": "zyGfuI6h-Ohn"
      },
      "source": [
        ""
      ],
      "execution_count": null,
      "outputs": []
    }
  ]
}