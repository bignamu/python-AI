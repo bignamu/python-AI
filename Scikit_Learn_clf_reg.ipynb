{
  "nbformat": 4,
  "nbformat_minor": 0,
  "metadata": {
    "colab": {
      "name": "Scikit-Learn-clf-reg.ipynb",
      "provenance": [],
      "collapsed_sections": [
        "02j9TJ2tmokH",
        "ApasFza9tJww",
        "yQsUTaPDySVG",
        "Om9v6Wn2DrAO"
      ],
      "mount_file_id": "1GWMcNYVNyyz2g8R46oZ-flClMWnuqR8u",
      "authorship_tag": "ABX9TyPaKyOhZxsVLrMyapcTiws8",
      "include_colab_link": true
    },
    "kernelspec": {
      "name": "python3",
      "display_name": "Python 3"
    },
    "language_info": {
      "name": "python"
    }
  },
  "cells": [
    {
      "cell_type": "markdown",
      "metadata": {
        "id": "view-in-github",
        "colab_type": "text"
      },
      "source": [
        "<a href=\"https://colab.research.google.com/github/bignamu/python-AI/blob/main/Scikit_Learn_clf_reg.ipynb\" target=\"_parent\"><img src=\"https://colab.research.google.com/assets/colab-badge.svg\" alt=\"Open In Colab\"/></a>"
      ]
    },
    {
      "cell_type": "code",
      "metadata": {
        "id": "MUBfvnOpd1l4"
      },
      "source": [
        "import numpy as np\n",
        "import pandas as pd\n",
        "import matplotlib.pyplot as plt\n",
        "import sklearn"
      ],
      "execution_count": null,
      "outputs": []
    },
    {
      "cell_type": "markdown",
      "metadata": {
        "id": "WhAyqKlChHpE"
      },
      "source": [
        "# Iris 꽃 분석"
      ]
    },
    {
      "cell_type": "code",
      "metadata": {
        "id": "3BMDdPosha1r"
      },
      "source": [
        "from sklearn.datasets import load_iris"
      ],
      "execution_count": null,
      "outputs": []
    },
    {
      "cell_type": "code",
      "metadata": {
        "id": "WOIgraZhh4qR"
      },
      "source": [
        "iris_dataset = load_iris()"
      ],
      "execution_count": null,
      "outputs": []
    },
    {
      "cell_type": "code",
      "metadata": {
        "colab": {
          "base_uri": "https://localhost:8080/"
        },
        "id": "HK9jt51HiS8A",
        "outputId": "2d152b16-1ac2-46ec-cde4-f260633b9fba"
      },
      "source": [
        "type(iris_dataset)"
      ],
      "execution_count": null,
      "outputs": [
        {
          "output_type": "execute_result",
          "data": {
            "text/plain": [
              "sklearn.utils.Bunch"
            ]
          },
          "metadata": {
            "tags": []
          },
          "execution_count": 4
        }
      ]
    },
    {
      "cell_type": "code",
      "metadata": {
        "colab": {
          "base_uri": "https://localhost:8080/"
        },
        "id": "umxen5khiUP4",
        "outputId": "09ae1894-e481-46f6-f0ce-f6421839fdd6"
      },
      "source": [
        "iris_dataset.keys()"
      ],
      "execution_count": null,
      "outputs": [
        {
          "output_type": "execute_result",
          "data": {
            "text/plain": [
              "dict_keys(['data', 'target', 'target_names', 'DESCR', 'feature_names', 'filename'])"
            ]
          },
          "metadata": {
            "tags": []
          },
          "execution_count": 5
        }
      ]
    },
    {
      "cell_type": "code",
      "metadata": {
        "colab": {
          "base_uri": "https://localhost:8080/"
        },
        "id": "foIZlotZihCm",
        "outputId": "3fec5b0b-b7a5-4557-ecdb-9ac243164fb5"
      },
      "source": [
        "print(iris_dataset['DESCR'][:193])"
      ],
      "execution_count": null,
      "outputs": [
        {
          "output_type": "stream",
          "text": [
            ".. _iris_dataset:\n",
            "\n",
            "Iris plants dataset\n",
            "--------------------\n",
            "\n",
            "**Data Set Characteristics:**\n",
            "\n",
            "    :Number of Instances: 150 (50 in each of three classes)\n",
            "    :Number of Attributes: 4 numeric, pre\n"
          ],
          "name": "stdout"
        }
      ]
    },
    {
      "cell_type": "code",
      "metadata": {
        "colab": {
          "base_uri": "https://localhost:8080/"
        },
        "id": "virWLS97jGgm",
        "outputId": "619e96c7-d5a2-4c2d-c3fb-c135f1ca7753"
      },
      "source": [
        "print('TargetName : ', iris_dataset['target_names'])"
      ],
      "execution_count": null,
      "outputs": [
        {
          "output_type": "stream",
          "text": [
            "TargetName :  ['setosa' 'versicolor' 'virginica']\n"
          ],
          "name": "stdout"
        }
      ]
    },
    {
      "cell_type": "code",
      "metadata": {
        "colab": {
          "base_uri": "https://localhost:8080/"
        },
        "id": "RwBJdjCHkbPD",
        "outputId": "680d60a9-a44c-446f-93af-60bf6f00bb08"
      },
      "source": [
        "print('Features : \\n', iris_dataset['feature_names'])"
      ],
      "execution_count": null,
      "outputs": [
        {
          "output_type": "stream",
          "text": [
            "Features : \n",
            " ['sepal length (cm)', 'sepal width (cm)', 'petal length (cm)', 'petal width (cm)']\n"
          ],
          "name": "stdout"
        }
      ]
    },
    {
      "cell_type": "code",
      "metadata": {
        "colab": {
          "base_uri": "https://localhost:8080/"
        },
        "id": "Yirh3Diokm4q",
        "outputId": "be6d8cba-69c7-447b-a901-59089785a9b8"
      },
      "source": [
        "type(iris_dataset['data'])"
      ],
      "execution_count": null,
      "outputs": [
        {
          "output_type": "execute_result",
          "data": {
            "text/plain": [
              "numpy.ndarray"
            ]
          },
          "metadata": {
            "tags": []
          },
          "execution_count": 9
        }
      ]
    },
    {
      "cell_type": "code",
      "metadata": {
        "colab": {
          "base_uri": "https://localhost:8080/"
        },
        "id": "SWCVZBNUlmEp",
        "outputId": "49510c6f-2dba-4b6b-935c-12066a742336"
      },
      "source": [
        "iris_dataset['data'].shape"
      ],
      "execution_count": null,
      "outputs": [
        {
          "output_type": "execute_result",
          "data": {
            "text/plain": [
              "(150, 4)"
            ]
          },
          "metadata": {
            "tags": []
          },
          "execution_count": 10
        }
      ]
    },
    {
      "cell_type": "code",
      "metadata": {
        "colab": {
          "base_uri": "https://localhost:8080/"
        },
        "id": "bcnzGJMmloYw",
        "outputId": "0f5ab240-b840-473f-82a7-1923b74b0332"
      },
      "source": [
        "print('Print five rows of data : \\n', iris_dataset['data'][:5])"
      ],
      "execution_count": null,
      "outputs": [
        {
          "output_type": "stream",
          "text": [
            "Print five rows of data : \n",
            " [[5.1 3.5 1.4 0.2]\n",
            " [4.9 3.  1.4 0.2]\n",
            " [4.7 3.2 1.3 0.2]\n",
            " [4.6 3.1 1.5 0.2]\n",
            " [5.  3.6 1.4 0.2]]\n"
          ],
          "name": "stdout"
        }
      ]
    },
    {
      "cell_type": "code",
      "metadata": {
        "colab": {
          "base_uri": "https://localhost:8080/"
        },
        "id": "lQgSRk6yluHR",
        "outputId": "6f1f094e-5d58-49de-84c6-8f2ee39eec17"
      },
      "source": [
        "print('Shape of target : ', iris_dataset['target'].shape)"
      ],
      "execution_count": null,
      "outputs": [
        {
          "output_type": "stream",
          "text": [
            "Shape of target :  (150,)\n"
          ],
          "name": "stdout"
        }
      ]
    },
    {
      "cell_type": "code",
      "metadata": {
        "colab": {
          "base_uri": "https://localhost:8080/"
        },
        "id": "oGkriJi1mVxQ",
        "outputId": "a1254dad-1877-4624-aed7-96541346d08f"
      },
      "source": [
        "print('Target : \\n', iris_dataset['target'])"
      ],
      "execution_count": null,
      "outputs": [
        {
          "output_type": "stream",
          "text": [
            "Target : \n",
            " [0 0 0 0 0 0 0 0 0 0 0 0 0 0 0 0 0 0 0 0 0 0 0 0 0 0 0 0 0 0 0 0 0 0 0 0 0\n",
            " 0 0 0 0 0 0 0 0 0 0 0 0 0 1 1 1 1 1 1 1 1 1 1 1 1 1 1 1 1 1 1 1 1 1 1 1 1\n",
            " 1 1 1 1 1 1 1 1 1 1 1 1 1 1 1 1 1 1 1 1 1 1 1 1 1 1 2 2 2 2 2 2 2 2 2 2 2\n",
            " 2 2 2 2 2 2 2 2 2 2 2 2 2 2 2 2 2 2 2 2 2 2 2 2 2 2 2 2 2 2 2 2 2 2 2 2 2\n",
            " 2 2]\n"
          ],
          "name": "stdout"
        }
      ]
    },
    {
      "cell_type": "markdown",
      "metadata": {
        "id": "02j9TJ2tmokH"
      },
      "source": [
        "# Training and Testing Data"
      ]
    },
    {
      "cell_type": "code",
      "metadata": {
        "id": "cQAX3Deqqgsy"
      },
      "source": [
        "from sklearn.model_selection import train_test_split"
      ],
      "execution_count": null,
      "outputs": []
    },
    {
      "cell_type": "code",
      "metadata": {
        "id": "ZL8u4vfeqzUe"
      },
      "source": [
        "X_train, X_test, y_train, y_test = train_test_split(\n",
        "                                                    iris_dataset['data'],\n",
        "                                                    iris_dataset['target'],\n",
        "                                                    random_state=0\n",
        "                                                    )"
      ],
      "execution_count": null,
      "outputs": []
    },
    {
      "cell_type": "code",
      "metadata": {
        "colab": {
          "base_uri": "https://localhost:8080/"
        },
        "id": "QJwZPApLsF5z",
        "outputId": "491fce66-06bb-47dc-be4d-4a2fb8afb716"
      },
      "source": [
        "print('X_train shape ', X_train.shape)\n",
        "print('y_train shape ', y_train.shape)"
      ],
      "execution_count": null,
      "outputs": [
        {
          "output_type": "stream",
          "text": [
            "X_train shape  (112, 4)\n",
            "y_train shape  (112,)\n"
          ],
          "name": "stdout"
        }
      ]
    },
    {
      "cell_type": "code",
      "metadata": {
        "colab": {
          "base_uri": "https://localhost:8080/"
        },
        "id": "zx-6lKefsqLi",
        "outputId": "6b98f6b7-049e-4923-9989-5d75aa30e667"
      },
      "source": [
        "print('X_test shape ', X_test.shape)\n",
        "print('y_test shape ', y_test.shape)"
      ],
      "execution_count": null,
      "outputs": [
        {
          "output_type": "stream",
          "text": [
            "X_test shape  (38, 4)\n",
            "y_test shape  (38,)\n"
          ],
          "name": "stdout"
        }
      ]
    },
    {
      "cell_type": "markdown",
      "metadata": {
        "id": "ApasFza9tJww"
      },
      "source": [
        "#### Building Your First Model: k-Nearest Neighbors"
      ]
    },
    {
      "cell_type": "code",
      "metadata": {
        "id": "ULptA8KRtzbl"
      },
      "source": [
        "from sklearn.neighbors import KNeighborsClassifier\n",
        "knn = KNeighborsClassifier(n_neighbors=1)"
      ],
      "execution_count": null,
      "outputs": []
    },
    {
      "cell_type": "code",
      "metadata": {
        "colab": {
          "base_uri": "https://localhost:8080/"
        },
        "id": "53jp2PK_yJdY",
        "outputId": "65fd1867-73fd-443d-bbad-5f0ee40cdaa5"
      },
      "source": [
        "knn.fit(X_train,y_train)"
      ],
      "execution_count": null,
      "outputs": [
        {
          "output_type": "execute_result",
          "data": {
            "text/plain": [
              "KNeighborsClassifier(algorithm='auto', leaf_size=30, metric='minkowski',\n",
              "                     metric_params=None, n_jobs=None, n_neighbors=1, p=2,\n",
              "                     weights='uniform')"
            ]
          },
          "metadata": {
            "tags": []
          },
          "execution_count": 19
        }
      ]
    },
    {
      "cell_type": "markdown",
      "metadata": {
        "id": "yQsUTaPDySVG"
      },
      "source": [
        "###<li>Overfit 과대적합</li>\n",
        "###<li>Underfit 과소적합</li>"
      ]
    },
    {
      "cell_type": "markdown",
      "metadata": {
        "id": "Om9v6Wn2DrAO"
      },
      "source": [
        "## Making Prediction"
      ]
    },
    {
      "cell_type": "code",
      "metadata": {
        "id": "2oED6FvhD681"
      },
      "source": [
        "y_pred = knn.predict(X_test)"
      ],
      "execution_count": null,
      "outputs": []
    },
    {
      "cell_type": "code",
      "metadata": {
        "colab": {
          "base_uri": "https://localhost:8080/"
        },
        "id": "jJnH7AlCEyiW",
        "outputId": "b6c626d3-ba97-4d43-9621-67f54f528fef"
      },
      "source": [
        "print('Test set predictions:\\n', y_pred)"
      ],
      "execution_count": null,
      "outputs": [
        {
          "output_type": "stream",
          "text": [
            "Test set predictions:\n",
            " [2 1 0 2 0 2 0 1 1 1 2 1 1 1 1 0 1 1 0 0 2 1 0 0 2 0 0 1 1 0 2 1 0 2 2 1 0\n",
            " 2]\n"
          ],
          "name": "stdout"
        }
      ]
    },
    {
      "cell_type": "code",
      "metadata": {
        "colab": {
          "base_uri": "https://localhost:8080/"
        },
        "id": "xQ02xhieFBQt",
        "outputId": "045c315c-b07a-4757-f04f-39f33694da54"
      },
      "source": [
        "print('Test set score : ',np.mean(y_pred == y_test))"
      ],
      "execution_count": null,
      "outputs": [
        {
          "output_type": "stream",
          "text": [
            "Test set score :  0.9736842105263158\n"
          ],
          "name": "stdout"
        }
      ]
    },
    {
      "cell_type": "code",
      "metadata": {
        "colab": {
          "base_uri": "https://localhost:8080/"
        },
        "id": "ZlWqgsHZGMT8",
        "outputId": "90535686-ed83-4f0a-dbb3-6bd35d3b8bce"
      },
      "source": [
        "X_new = np.array([[5,2.9,1,0.2]])\n",
        "print('X_new.shape :\\n', X_new.shape)"
      ],
      "execution_count": null,
      "outputs": [
        {
          "output_type": "stream",
          "text": [
            "X_new.shape :\n",
            " (1, 4)\n"
          ],
          "name": "stdout"
        }
      ]
    },
    {
      "cell_type": "code",
      "metadata": {
        "id": "885E4RsNHn3A"
      },
      "source": [
        "prediction = knn.predict(X_new)"
      ],
      "execution_count": null,
      "outputs": []
    },
    {
      "cell_type": "code",
      "metadata": {
        "colab": {
          "base_uri": "https://localhost:8080/"
        },
        "id": "xfJ1J2-lHyqH",
        "outputId": "2421104b-c160-42e4-f388-023e3814b8bd"
      },
      "source": [
        "print('PredictionResult : \\n', prediction)\n",
        "print('PredicionTargetName : \\n', iris_dataset['target_names'][prediction])"
      ],
      "execution_count": null,
      "outputs": [
        {
          "output_type": "stream",
          "text": [
            "PredictionResult : \n",
            " [0]\n",
            "PredicionTargetName : \n",
            " ['setosa']\n"
          ],
          "name": "stdout"
        }
      ]
    },
    {
      "cell_type": "code",
      "metadata": {
        "id": "oF0Fugg9IvfH"
      },
      "source": [
        "import mglearn"
      ],
      "execution_count": null,
      "outputs": []
    },
    {
      "cell_type": "markdown",
      "metadata": {
        "id": "kyAGsKtGLmZq"
      },
      "source": [
        "#Supervised Machine Learning Algorithms"
      ]
    },
    {
      "cell_type": "code",
      "metadata": {
        "colab": {
          "base_uri": "https://localhost:8080/"
        },
        "id": "hZzvMoloLq1I",
        "outputId": "b93e0a8e-f232-4367-fb17-24b130f588f3"
      },
      "source": [
        "X, y = mglearn.datasets.make_forge()"
      ],
      "execution_count": null,
      "outputs": [
        {
          "output_type": "stream",
          "text": [
            "/usr/local/lib/python3.7/dist-packages/sklearn/utils/deprecation.py:87: FutureWarning: Function make_blobs is deprecated; Please import make_blobs directly from scikit-learn\n",
            "  warnings.warn(msg, category=FutureWarning)\n"
          ],
          "name": "stderr"
        }
      ]
    },
    {
      "cell_type": "code",
      "metadata": {
        "colab": {
          "base_uri": "https://localhost:8080/",
          "height": 297
        },
        "id": "hZjtNFwmL-NX",
        "outputId": "e086a366-a0c5-40c8-d3e7-6faaaf62b953"
      },
      "source": [
        "mglearn.discrete_scatter(X[:,0], X[:,1],y)\n",
        "plt.legend(['Class 0','Class 1'],loc=4)\n",
        "plt.xlabel('First feature')\n",
        "print('X_shape : ',X.shape)"
      ],
      "execution_count": null,
      "outputs": [
        {
          "output_type": "stream",
          "text": [
            "X_shape :  (26, 2)\n"
          ],
          "name": "stdout"
        },
        {
          "output_type": "display_data",
          "data": {
            "image/png": "[encoded data removed]",
            "text/plain": [
              "<Figure size 432x288 with 1 Axes>"
            ]
          },
          "metadata": {
            "tags": [],
            "needs_background": "light"
          }
        }
      ]
    },
    {
      "cell_type": "code",
      "metadata": {
        "colab": {
          "base_uri": "https://localhost:8080/"
        },
        "id": "qPay8aahMiS2",
        "outputId": "6e748bb6-a428-478e-db79-d54a4fb05390"
      },
      "source": [
        "print(X)"
      ],
      "execution_count": null,
      "outputs": [
        {
          "output_type": "stream",
          "text": [
            "[[ 9.96346605  4.59676542]\n",
            " [11.0329545  -0.16816717]\n",
            " [11.54155807  5.21116083]\n",
            " [ 8.69289001  1.54322016]\n",
            " [ 8.1062269   4.28695977]\n",
            " [ 8.30988863  4.80623966]\n",
            " [11.93027136  4.64866327]\n",
            " [ 9.67284681 -0.20283165]\n",
            " [ 8.34810316  5.13415623]\n",
            " [ 8.67494727  4.47573059]\n",
            " [ 9.17748385  5.09283177]\n",
            " [10.24028948  2.45544401]\n",
            " [ 8.68937095  1.48709629]\n",
            " [ 8.92229526 -0.63993225]\n",
            " [ 9.49123469  4.33224792]\n",
            " [ 9.25694192  5.13284858]\n",
            " [ 7.99815287  4.8525051 ]\n",
            " [ 8.18378052  1.29564214]\n",
            " [ 8.7337095   2.49162431]\n",
            " [ 9.32298256  5.09840649]\n",
            " [10.06393839  0.99078055]\n",
            " [ 9.50048972 -0.26430318]\n",
            " [ 8.34468785  1.63824349]\n",
            " [ 9.50169345  1.93824624]\n",
            " [ 9.15072323  5.49832246]\n",
            " [11.563957    1.3389402 ]]\n"
          ],
          "name": "stdout"
        }
      ]
    },
    {
      "cell_type": "code",
      "metadata": {
        "colab": {
          "base_uri": "https://localhost:8080/"
        },
        "id": "VDzw4lkNNI68",
        "outputId": "57722a88-2d8e-4eca-e217-37b60ecacf30"
      },
      "source": [
        "print(X[:,1]) # , 이후의 숫자는 column을 의미하는 듯"
      ],
      "execution_count": null,
      "outputs": [
        {
          "output_type": "stream",
          "text": [
            "[ 4.59676542 -0.16816717  5.21116083  1.54322016  4.28695977  4.80623966\n",
            "  4.64866327 -0.20283165  5.13415623  4.47573059  5.09283177  2.45544401\n",
            "  1.48709629 -0.63993225  4.33224792  5.13284858  4.8525051   1.29564214\n",
            "  2.49162431  5.09840649  0.99078055 -0.26430318  1.63824349  1.93824624\n",
            "  5.49832246  1.3389402 ]\n"
          ],
          "name": "stdout"
        }
      ]
    },
    {
      "cell_type": "code",
      "metadata": {
        "id": "ThVJxsPdOWg7"
      },
      "source": [
        "X, y = mglearn.datasets.make_wave(n_samples=40)"
      ],
      "execution_count": null,
      "outputs": []
    },
    {
      "cell_type": "code",
      "metadata": {
        "colab": {
          "base_uri": "https://localhost:8080/",
          "height": 301
        },
        "id": "dTxAPsOiR2it",
        "outputId": "c244e9ee-9db5-49bf-a439-c7e86532dcfe"
      },
      "source": [
        "plt.plot(X,y,'o')\n",
        "plt.ylim(-3,3)\n",
        "plt.xlabel('features')\n",
        "plt.ylabel('labels')"
      ],
      "execution_count": null,
      "outputs": [
        {
          "output_type": "execute_result",
          "data": {
            "text/plain": [
              "Text(0, 0.5, 'labels')"
            ]
          },
          "metadata": {
            "tags": []
          },
          "execution_count": 89
        },
        {
          "output_type": "display_data",
          "data": {
            "image/png": "[encoded data removed]",
            "text/plain": [
              "<Figure size 432x288 with 1 Axes>"
            ]
          },
          "metadata": {
            "tags": [],
            "needs_background": "light"
          }
        }
      ]
    },
    {
      "cell_type": "code",
      "metadata": {
        "colab": {
          "base_uri": "https://localhost:8080/"
        },
        "id": "L2oOOTPcSGT6",
        "outputId": "3a4cdbd0-a9d6-484c-e0e3-2b13981b34d1"
      },
      "source": [
        "X"
      ],
      "execution_count": null,
      "outputs": [
        {
          "output_type": "execute_result",
          "data": {
            "text/plain": [
              "array([[-0.75275929],\n",
              "       [ 2.70428584],\n",
              "       [ 1.39196365],\n",
              "       [ 0.59195091],\n",
              "       [-2.06388816],\n",
              "       [-2.06403288],\n",
              "       [-2.65149833],\n",
              "       [ 2.19705687],\n",
              "       [ 0.60669007],\n",
              "       [ 1.24843547],\n",
              "       [-2.87649303],\n",
              "       [ 2.81945911],\n",
              "       [ 1.99465584],\n",
              "       [-1.72596534],\n",
              "       [-1.9090502 ],\n",
              "       [-1.89957294],\n",
              "       [-1.17454654],\n",
              "       [ 0.14853859],\n",
              "       [-0.40832989],\n",
              "       [-1.25262516],\n",
              "       [ 0.67111737],\n",
              "       [-2.16303684],\n",
              "       [-1.24713211],\n",
              "       [-0.80182894],\n",
              "       [-0.26358009],\n",
              "       [ 1.71105577],\n",
              "       [-1.80195731],\n",
              "       [ 0.08540663],\n",
              "       [ 0.55448741],\n",
              "       [-2.72129752],\n",
              "       [ 0.64526911],\n",
              "       [-1.97685526],\n",
              "       [-2.60969044],\n",
              "       [ 2.69331322],\n",
              "       [ 2.7937922 ],\n",
              "       [ 1.85038409],\n",
              "       [-1.17231738],\n",
              "       [-2.41396732],\n",
              "       [ 1.10539816],\n",
              "       [-0.35908504]])"
            ]
          },
          "metadata": {
            "tags": []
          },
          "execution_count": 90
        }
      ]
    },
    {
      "cell_type": "code",
      "metadata": {
        "colab": {
          "base_uri": "https://localhost:8080/"
        },
        "id": "6GAKShrdSkqc",
        "outputId": "7a81e843-01d2-4ddb-df57-1223b9a52207"
      },
      "source": [
        "y"
      ],
      "execution_count": null,
      "outputs": [
        {
          "output_type": "execute_result",
          "data": {
            "text/plain": [
              "array([-0.44822073,  0.33122576,  0.77932073,  0.03497884, -1.38773632,\n",
              "       -2.47196233, -1.52730805,  1.49417157,  1.00032374,  0.22956153,\n",
              "       -1.05979555,  0.7789638 ,  0.75418806, -1.51369739, -1.67303415,\n",
              "       -0.90496988,  0.08448544, -0.52734666, -0.54114599, -0.3409073 ,\n",
              "        0.21778193, -1.12469096,  0.37299129,  0.09756349, -0.98618122,\n",
              "        0.96695428, -1.13455014,  0.69798591,  0.43655826, -0.95652133,\n",
              "        0.03527881, -2.08581717, -0.47411033,  1.53708251,  0.86893293,\n",
              "        1.87664889,  0.0945257 , -1.41502356,  0.25438895,  0.09398858])"
            ]
          },
          "metadata": {
            "tags": []
          },
          "execution_count": 91
        }
      ]
    },
    {
      "cell_type": "markdown",
      "metadata": {
        "id": "L5XuF0e9Sm-A"
      },
      "source": [
        "# 유방암 종양의 임상 데이터 위스콘신 (wiseconsin Breast Cancer) "
      ]
    },
    {
      "cell_type": "code",
      "metadata": {
        "id": "MakyuRhxTcIG"
      },
      "source": [
        "from sklearn.datasets import load_breast_cancer"
      ],
      "execution_count": null,
      "outputs": []
    },
    {
      "cell_type": "code",
      "metadata": {
        "colab": {
          "base_uri": "https://localhost:8080/"
        },
        "id": "O4ysJqr4TpIn",
        "outputId": "b8d58411-5ead-4486-8bd5-0b3a4538ea6a"
      },
      "source": [
        "cancer = load_breast_cancer()\n",
        "print(type(cancer))"
      ],
      "execution_count": null,
      "outputs": [
        {
          "output_type": "stream",
          "text": [
            "<class 'sklearn.utils.Bunch'>\n"
          ],
          "name": "stdout"
        }
      ]
    },
    {
      "cell_type": "code",
      "metadata": {
        "colab": {
          "base_uri": "https://localhost:8080/"
        },
        "id": "nHKApH8bT4Du",
        "outputId": "f2a3f9a4-9a34-4854-848c-1d2a8088fcd6"
      },
      "source": [
        "cancer.keys()"
      ],
      "execution_count": null,
      "outputs": [
        {
          "output_type": "execute_result",
          "data": {
            "text/plain": [
              "dict_keys(['data', 'target', 'target_names', 'DESCR', 'feature_names', 'filename'])"
            ]
          },
          "metadata": {
            "tags": []
          },
          "execution_count": 96
        }
      ]
    },
    {
      "cell_type": "code",
      "metadata": {
        "colab": {
          "base_uri": "https://localhost:8080/"
        },
        "id": "MiwYi9epT7Rm",
        "outputId": "5c06aa91-34a0-429a-f21e-7b77d796f97c"
      },
      "source": [
        "print('Shape of cancer data : ', cancer.data.shape)"
      ],
      "execution_count": null,
      "outputs": [
        {
          "output_type": "stream",
          "text": [
            "Shape of cancer data :  (569, 30)\n"
          ],
          "name": "stdout"
        }
      ]
    },
    {
      "cell_type": "code",
      "metadata": {
        "colab": {
          "base_uri": "https://localhost:8080/"
        },
        "id": "3zzKPpZuUSol",
        "outputId": "d7aa1389-17e9-4bb5-d896-27724f71f990"
      },
      "source": [
        "print('Sample count per class : \\n', \n",
        "      {n: v for n, v in zip(cancer.target_names,np.bincount(cancer.target))})\n",
        "\n",
        "# zip 같은 길이의 리스트를 나열\n",
        "# bincount() 0~9까지 count하는 것"
      ],
      "execution_count": null,
      "outputs": [
        {
          "output_type": "stream",
          "text": [
            "Sample count per class : \n",
            " {'malignant': 212, 'benign': 357}\n"
          ],
          "name": "stdout"
        }
      ]
    },
    {
      "cell_type": "code",
      "metadata": {
        "colab": {
          "base_uri": "https://localhost:8080/"
        },
        "id": "g0STLgdAU5_-",
        "outputId": "1a4f59ca-ff1b-414e-e2eb-464f07d02415"
      },
      "source": [
        "cancer.feature_names"
      ],
      "execution_count": null,
      "outputs": [
        {
          "output_type": "execute_result",
          "data": {
            "text/plain": [
              "array(['mean radius', 'mean texture', 'mean perimeter', 'mean area',\n",
              "       'mean smoothness', 'mean compactness', 'mean concavity',\n",
              "       'mean concave points', 'mean symmetry', 'mean fractal dimension',\n",
              "       'radius error', 'texture error', 'perimeter error', 'area error',\n",
              "       'smoothness error', 'compactness error', 'concavity error',\n",
              "       'concave points error', 'symmetry error',\n",
              "       'fractal dimension error', 'worst radius', 'worst texture',\n",
              "       'worst perimeter', 'worst area', 'worst smoothness',\n",
              "       'worst compactness', 'worst concavity', 'worst concave points',\n",
              "       'worst symmetry', 'worst fractal dimension'], dtype='<U23')"
            ]
          },
          "metadata": {
            "tags": []
          },
          "execution_count": 101
        }
      ]
    },
    {
      "cell_type": "markdown",
      "metadata": {
        "id": "R92e4auXXQIo"
      },
      "source": [
        "# 보스턴 주택가격"
      ]
    },
    {
      "cell_type": "code",
      "metadata": {
        "id": "3oG5sjBBYDFp"
      },
      "source": [
        "from sklearn.datasets import load_boston\n",
        "boston = load_boston()"
      ],
      "execution_count": null,
      "outputs": []
    },
    {
      "cell_type": "code",
      "metadata": {
        "colab": {
          "base_uri": "https://localhost:8080/"
        },
        "id": "0gxeoQl1YIZ2",
        "outputId": "088c1f7c-30a7-4a8c-b483-2723f4061815"
      },
      "source": [
        "boston.data.shape"
      ],
      "execution_count": null,
      "outputs": [
        {
          "output_type": "execute_result",
          "data": {
            "text/plain": [
              "(506, 13)"
            ]
          },
          "metadata": {
            "tags": []
          },
          "execution_count": 106
        }
      ]
    },
    {
      "cell_type": "code",
      "metadata": {
        "id": "aQNG4jS6YKC9"
      },
      "source": [
        "X, y = mglearn.datasets.load_extended_boston()"
      ],
      "execution_count": null,
      "outputs": []
    },
    {
      "cell_type": "code",
      "metadata": {
        "colab": {
          "base_uri": "https://localhost:8080/"
        },
        "id": "i1xazAptY120",
        "outputId": "933d2429-2bcd-4fc5-ed0b-ad0bdd4c793e"
      },
      "source": [
        "X.shape"
      ],
      "execution_count": null,
      "outputs": [
        {
          "output_type": "execute_result",
          "data": {
            "text/plain": [
              "(506, 104)"
            ]
          },
          "metadata": {
            "tags": []
          },
          "execution_count": 108
        }
      ]
    },
    {
      "cell_type": "markdown",
      "metadata": {
        "id": "usipw-pvY4ML"
      },
      "source": [
        "#k-NN"
      ]
    },
    {
      "cell_type": "code",
      "metadata": {
        "colab": {
          "base_uri": "https://localhost:8080/",
          "height": 321
        },
        "id": "i1VOd8wXcK4V",
        "outputId": "e7366e75-d4a4-412b-95ec-6ca6114abe39"
      },
      "source": [
        "mglearn.plots.plot_knn_classification(n_neighbors=1)"
      ],
      "execution_count": null,
      "outputs": [
        {
          "output_type": "stream",
          "text": [
            "/usr/local/lib/python3.7/dist-packages/sklearn/utils/deprecation.py:87: FutureWarning: Function make_blobs is deprecated; Please import make_blobs directly from scikit-learn\n",
            "  warnings.warn(msg, category=FutureWarning)\n"
          ],
          "name": "stderr"
        },
        {
          "output_type": "display_data",
          "data": {
            "image/png": "[encoded data removed]",
            "text/plain": [
              "<Figure size 432x288 with 1 Axes>"
            ]
          },
          "metadata": {
            "tags": [],
            "needs_background": "light"
          }
        }
      ]
    },
    {
      "cell_type": "code",
      "metadata": {
        "colab": {
          "base_uri": "https://localhost:8080/"
        },
        "id": "hVmVRg7icS-N",
        "outputId": "1d682491-7bee-4114-ec1e-146feb2a10d2"
      },
      "source": [
        "X, y = mglearn.datasets.make_forge()"
      ],
      "execution_count": null,
      "outputs": [
        {
          "output_type": "stream",
          "text": [
            "/usr/local/lib/python3.7/dist-packages/sklearn/utils/deprecation.py:87: FutureWarning: Function make_blobs is deprecated; Please import make_blobs directly from scikit-learn\n",
            "  warnings.warn(msg, category=FutureWarning)\n"
          ],
          "name": "stderr"
        }
      ]
    },
    {
      "cell_type": "code",
      "metadata": {
        "colab": {
          "base_uri": "https://localhost:8080/"
        },
        "id": "ZzTzVD9Lf2tP",
        "outputId": "10c5ae96-2582-4af3-b470-3908552ef649"
      },
      "source": [
        "X"
      ],
      "execution_count": null,
      "outputs": [
        {
          "output_type": "execute_result",
          "data": {
            "text/plain": [
              "array([[ 9.96346605,  4.59676542],\n",
              "       [11.0329545 , -0.16816717],\n",
              "       [11.54155807,  5.21116083],\n",
              "       [ 8.69289001,  1.54322016],\n",
              "       [ 8.1062269 ,  4.28695977],\n",
              "       [ 8.30988863,  4.80623966],\n",
              "       [11.93027136,  4.64866327],\n",
              "       [ 9.67284681, -0.20283165],\n",
              "       [ 8.34810316,  5.13415623],\n",
              "       [ 8.67494727,  4.47573059],\n",
              "       [ 9.17748385,  5.09283177],\n",
              "       [10.24028948,  2.45544401],\n",
              "       [ 8.68937095,  1.48709629],\n",
              "       [ 8.92229526, -0.63993225],\n",
              "       [ 9.49123469,  4.33224792],\n",
              "       [ 9.25694192,  5.13284858],\n",
              "       [ 7.99815287,  4.8525051 ],\n",
              "       [ 8.18378052,  1.29564214],\n",
              "       [ 8.7337095 ,  2.49162431],\n",
              "       [ 9.32298256,  5.09840649],\n",
              "       [10.06393839,  0.99078055],\n",
              "       [ 9.50048972, -0.26430318],\n",
              "       [ 8.34468785,  1.63824349],\n",
              "       [ 9.50169345,  1.93824624],\n",
              "       [ 9.15072323,  5.49832246],\n",
              "       [11.563957  ,  1.3389402 ]])"
            ]
          },
          "metadata": {
            "tags": []
          },
          "execution_count": 114
        }
      ]
    },
    {
      "cell_type": "code",
      "metadata": {
        "colab": {
          "base_uri": "https://localhost:8080/"
        },
        "id": "GeKQUWWbf8ic",
        "outputId": "e2bc60e2-829b-41de-bbdb-7ed145850b94"
      },
      "source": [
        "y"
      ],
      "execution_count": null,
      "outputs": [
        {
          "output_type": "execute_result",
          "data": {
            "text/plain": [
              "array([1, 0, 1, 0, 0, 1, 1, 0, 1, 1, 1, 1, 0, 0, 1, 1, 1, 0, 0, 1, 0, 0,\n",
              "       0, 0, 1, 0])"
            ]
          },
          "metadata": {
            "tags": []
          },
          "execution_count": 115
        }
      ]
    },
    {
      "cell_type": "code",
      "metadata": {
        "id": "k_n6nfQLf-Ql"
      },
      "source": [
        "from sklearn.model_selection import train_test_split"
      ],
      "execution_count": null,
      "outputs": []
    },
    {
      "cell_type": "code",
      "metadata": {
        "id": "S3Gb4qx4gKIt"
      },
      "source": [
        "X_train, X_test, y_train, y_test = train_test_split(X,y,random_state=0)"
      ],
      "execution_count": null,
      "outputs": []
    },
    {
      "cell_type": "code",
      "metadata": {
        "id": "s8JXP-UpgUjc"
      },
      "source": [
        "from sklearn.neighbors import KNeighborsClassifier"
      ],
      "execution_count": null,
      "outputs": []
    },
    {
      "cell_type": "code",
      "metadata": {
        "id": "kcXte6YwgvWT"
      },
      "source": [
        "clf = KNeighborsClassifier(n_neighbors=3)"
      ],
      "execution_count": null,
      "outputs": []
    },
    {
      "cell_type": "code",
      "metadata": {
        "colab": {
          "base_uri": "https://localhost:8080/"
        },
        "id": "o7dh2ro5gzEL",
        "outputId": "ff6b7ec4-2854-431e-f0fa-c3a3a1566779"
      },
      "source": [
        "clf.fit(X_train,y_train)"
      ],
      "execution_count": null,
      "outputs": [
        {
          "output_type": "execute_result",
          "data": {
            "text/plain": [
              "KNeighborsClassifier(algorithm='auto', leaf_size=30, metric='minkowski',\n",
              "                     metric_params=None, n_jobs=None, n_neighbors=3, p=2,\n",
              "                     weights='uniform')"
            ]
          },
          "metadata": {
            "tags": []
          },
          "execution_count": 120
        }
      ]
    },
    {
      "cell_type": "code",
      "metadata": {
        "colab": {
          "base_uri": "https://localhost:8080/"
        },
        "id": "HvrCOHCog1w7",
        "outputId": "1355b5a6-8d1f-45ee-ee29-3a5c2c368aa0"
      },
      "source": [
        "print('Test set predictions : ',clf.predict(X_test))"
      ],
      "execution_count": null,
      "outputs": [
        {
          "output_type": "stream",
          "text": [
            "Test set predictions :  [1 0 1 0 1 0 0]\n"
          ],
          "name": "stdout"
        }
      ]
    },
    {
      "cell_type": "code",
      "metadata": {
        "colab": {
          "base_uri": "https://localhost:8080/"
        },
        "id": "kxDgasP9g5AD",
        "outputId": "fc75389c-af65-45b7-b193-22c6a458177d"
      },
      "source": [
        "print('Test set Accuracy : {:.4f}'.format(clf.score(X_test,y_test)))"
      ],
      "execution_count": null,
      "outputs": [
        {
          "output_type": "stream",
          "text": [
            "Test set Accuracy : 0.8571\n"
          ],
          "name": "stdout"
        }
      ]
    },
    {
      "cell_type": "markdown",
      "metadata": {
        "id": "ZB5YWaxuiD_j"
      },
      "source": [
        "#Analyzing KNeighborsClassifier"
      ]
    },
    {
      "cell_type": "code",
      "metadata": {
        "colab": {
          "base_uri": "https://localhost:8080/",
          "height": 242
        },
        "id": "tbx8dgKcjWic",
        "outputId": "0d74f3b6-bf59-451b-f596-063fd4e123f6"
      },
      "source": [
        "fig, axes = plt.subplots(1,3,figsize=(10,3))\n",
        "for n_neighbors, ax in zip([1,3,9],axes):\n",
        "  clf = KNeighborsClassifier(n_neighbors=n_neighbors).fit(X,y)\n",
        "  mglearn.plots.plot_2d_separator(clf,\n",
        "                                  X,\n",
        "                                  fill=True,\n",
        "                                  eps=0.5,\n",
        "                                  ax=ax,\n",
        "                                  alpha=.4\n",
        "                                  )\n",
        "  mglearn.discrete_scatter(X[:,0],X[:,1],y,ax=ax)\n",
        "  ax.set_title('{} neighbor'.format(n_neighbors))\n",
        "  ax.set_xlabel('feature 0')\n",
        "  ax.set_ylabel('feature 1')\n",
        "axes[0].legend(loc=3)"
      ],
      "execution_count": null,
      "outputs": [
        {
          "output_type": "execute_result",
          "data": {
            "text/plain": [
              "<matplotlib.legend.Legend at 0x7f06a82032d0>"
            ]
          },
          "metadata": {
            "tags": []
          },
          "execution_count": 133
        },
        {
          "output_type": "display_data",
          "data": {
            "image/png": "[encoded data removed]",
            "text/plain": [
              "<Figure size 720x216 with 3 Axes>"
            ]
          },
          "metadata": {
            "tags": []
          }
        }
      ]
    },
    {
      "cell_type": "code",
      "metadata": {
        "id": "GyWcUDTxjaxV"
      },
      "source": [
        "from sklearn.datasets import load_breast_cancer\n",
        "cancer = load_breast_cancer()"
      ],
      "execution_count": null,
      "outputs": []
    },
    {
      "cell_type": "code",
      "metadata": {
        "id": "-VkcRX2inK1N"
      },
      "source": [
        "X_train, X_test, y_train, y_test = train_test_split(cancer.data,cancer.target,random_state=66)"
      ],
      "execution_count": null,
      "outputs": []
    },
    {
      "cell_type": "code",
      "metadata": {
        "id": "f2kD9uB8nySt"
      },
      "source": [
        "training_accuracy = []\n",
        "test_accuracy = []\n",
        "neighbors_settings = range(1,11)"
      ],
      "execution_count": null,
      "outputs": []
    },
    {
      "cell_type": "code",
      "metadata": {
        "colab": {
          "base_uri": "https://localhost:8080/",
          "height": 298
        },
        "id": "ED8a1Q_pn6IU",
        "outputId": "b03e6afb-065b-4a51-c764-9476302b58bb"
      },
      "source": [
        "for n_neighbors in neighbors_settings:\n",
        "  clf = KNeighborsClassifier(n_neighbors=n_neighbors)\n",
        "  clf.fit(X_train,y_train)\n",
        "  training_accuracy.append(clf.score(X_train,y_train))\n",
        "  test_accuracy.append(clf.score(X_test,y_test))\n",
        "\n",
        "plt.plot(neighbors_settings, training_accuracy, label = \"train accuracy\")\n",
        "plt.plot(neighbors_settings,test_accuracy,label='test accuracy')\n",
        "plt.ylabel('accuracy')\n",
        "plt.xlabel('n_neighbors')\n",
        "plt.legend()"
      ],
      "execution_count": null,
      "outputs": [
        {
          "output_type": "execute_result",
          "data": {
            "text/plain": [
              "<matplotlib.legend.Legend at 0x7f06a7cadb50>"
            ]
          },
          "metadata": {
            "tags": []
          },
          "execution_count": 146
        },
        {
          "output_type": "display_data",
          "data": {
            "image/png": "[encoded data removed]",
            "text/plain": [
              "<Figure size 432x288 with 1 Axes>"
            ]
          },
          "metadata": {
            "tags": [],
            "needs_background": "light"
          }
        }
      ]
    },
    {
      "cell_type": "markdown",
      "metadata": {
        "id": "f7aSfInLsYAk"
      },
      "source": [
        "## k-neighbors regression"
      ]
    },
    {
      "cell_type": "code",
      "metadata": {
        "colab": {
          "base_uri": "https://localhost:8080/",
          "height": 414
        },
        "id": "b2Fxjlj6yjgK",
        "outputId": "7cf4584b-a867-4dd0-e2bf-cede5ac60a66"
      },
      "source": [
        "mglearn.plots.plot_knn_regression(n_neighbors=1)"
      ],
      "execution_count": null,
      "outputs": [
        {
          "output_type": "display_data",
          "data": {
            "image/png": "[encoded data removed]",
            "text/plain": [
              "<Figure size 720x432 with 1 Axes>"
            ]
          },
          "metadata": {
            "tags": [],
            "needs_background": "light"
          }
        }
      ]
    },
    {
      "cell_type": "code",
      "metadata": {
        "colab": {
          "base_uri": "https://localhost:8080/",
          "height": 414
        },
        "id": "QE4JaPs_yroe",
        "outputId": "ce870e2e-117d-4a24-94de-169da56d3d68"
      },
      "source": [
        "mglearn.plots.plot_knn_regression(n_neighbors=3)"
      ],
      "execution_count": null,
      "outputs": [
        {
          "output_type": "display_data",
          "data": {
            "image/png": "[encoded data removed]",
            "text/plain": [
              "<Figure size 720x432 with 1 Axes>"
            ]
          },
          "metadata": {
            "tags": [],
            "needs_background": "light"
          }
        }
      ]
    },
    {
      "cell_type": "code",
      "metadata": {
        "id": "FdBqOvr50Dyf"
      },
      "source": [
        "from sklearn.neighbors import KNeighborsRegressor"
      ],
      "execution_count": null,
      "outputs": []
    },
    {
      "cell_type": "code",
      "metadata": {
        "id": "0vgcScRD08TZ"
      },
      "source": [
        "X,y = mglearn.datasets.make_wave(n_samples=40)"
      ],
      "execution_count": null,
      "outputs": []
    },
    {
      "cell_type": "code",
      "metadata": {
        "id": "xBauwWyw1NdX"
      },
      "source": [
        "X_train, X_test, y_train, y_test = train_test_split(X,y,random_state=0)"
      ],
      "execution_count": null,
      "outputs": []
    },
    {
      "cell_type": "code",
      "metadata": {
        "id": "OZR1aIag1s8O"
      },
      "source": [
        "reg = KNeighborsRegressor(n_neighbors=3)"
      ],
      "execution_count": null,
      "outputs": []
    },
    {
      "cell_type": "code",
      "metadata": {
        "colab": {
          "base_uri": "https://localhost:8080/"
        },
        "id": "azbcNir21vm_",
        "outputId": "92b0f845-a052-4fc1-ad5f-b01757024c38"
      },
      "source": [
        "reg.fit(X_train, y_train)"
      ],
      "execution_count": null,
      "outputs": [
        {
          "output_type": "execute_result",
          "data": {
            "text/plain": [
              "KNeighborsRegressor(algorithm='auto', leaf_size=30, metric='minkowski',\n",
              "                    metric_params=None, n_jobs=None, n_neighbors=3, p=2,\n",
              "                    weights='uniform')"
            ]
          },
          "metadata": {
            "tags": []
          },
          "execution_count": 159
        }
      ]
    },
    {
      "cell_type": "code",
      "metadata": {
        "colab": {
          "base_uri": "https://localhost:8080/"
        },
        "id": "AIjuh31c1z6I",
        "outputId": "f05b5681-61dc-4306-fe71-ef91922cb373"
      },
      "source": [
        "reg.predict(X_test)"
      ],
      "execution_count": null,
      "outputs": [
        {
          "output_type": "execute_result",
          "data": {
            "text/plain": [
              "array([-0.05396539,  0.35686046,  1.13671923, -1.89415682, -1.13881398,\n",
              "       -1.63113382,  0.35686046,  0.91241374, -0.44680446, -1.13881398])"
            ]
          },
          "metadata": {
            "tags": []
          },
          "execution_count": 160
        }
      ]
    },
    {
      "cell_type": "code",
      "metadata": {
        "colab": {
          "base_uri": "https://localhost:8080/"
        },
        "id": "eNJXPg162Ib9",
        "outputId": "e138cd08-10bc-4fdc-cc1a-510db6392174"
      },
      "source": [
        "reg.score(X_test,y_test)"
      ],
      "execution_count": null,
      "outputs": [
        {
          "output_type": "execute_result",
          "data": {
            "text/plain": [
              "0.8344172446249604"
            ]
          },
          "metadata": {
            "tags": []
          },
          "execution_count": 161
        }
      ]
    },
    {
      "cell_type": "code",
      "metadata": {
        "id": "UjXsRcyY2Ll9"
      },
      "source": [
        ""
      ],
      "execution_count": null,
      "outputs": []
    }
  ]
}