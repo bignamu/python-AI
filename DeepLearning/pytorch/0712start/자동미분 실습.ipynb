{
 "cells": [
  {
   "cell_type": "code",
   "execution_count": 3,
   "id": "00c5863c",
   "metadata": {},
   "outputs": [
    {
     "name": "stdout",
     "output_type": "stream",
     "text": [
      "수식을 w로 미분한 값 : 8.0\n"
     ]
    }
   ],
   "source": [
    "# 자동미분 실습 \n",
    "import torch \n",
    "\n",
    "# 값이 2인 임의의 스칼라 텐서 w 를 선언일때 required_grad true \n",
    "# 이는 이 텐서에 대한 기울기를 저장을 의미 \n",
    "\n",
    "w = torch.tensor(2.0, requires_grad=True)\n",
    "\n",
    "# 2w^2 + 5 -> 8\n",
    "\n",
    "# 수식을 정의 \n",
    "y = w**2\n",
    "z = 2*y + 5\n",
    "\n",
    "\n",
    "# 이제 해당 수식을 w에 대해서  미분 backward() 호출하면 해당 수식의 W에 대한 기울기계산\n",
    "\n",
    "z.backward()\n",
    "\n",
    "print(f\"수식을 w로 미분한 값 : {w.grad}\")"
   ]
  },
  {
   "cell_type": "code",
   "execution_count": null,
   "id": "60da2472",
   "metadata": {},
   "outputs": [],
   "source": [
    "\"\""
   ]
  }
 ],
 "metadata": {
  "kernelspec": {
   "display_name": "Python 3",
   "language": "python",
   "name": "python3"
  },
  "language_info": {
   "codemirror_mode": {
    "name": "ipython",
    "version": 3
   },
   "file_extension": ".py",
   "mimetype": "text/x-python",
   "name": "python",
   "nbconvert_exporter": "python",
   "pygments_lexer": "ipython3",
   "version": "3.8.8"
  }
 },
 "nbformat": 4,
 "nbformat_minor": 5
}
