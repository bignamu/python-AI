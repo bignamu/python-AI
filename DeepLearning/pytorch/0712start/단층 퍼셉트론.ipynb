{
 "cells": [
  {
   "cell_type": "code",
   "execution_count": 1,
   "id": "f779c318",
   "metadata": {},
   "outputs": [
    {
     "data": {
      "text/plain": [
       "(0, 0, 0, 1)"
      ]
     },
     "execution_count": 1,
     "metadata": {},
     "output_type": "execute_result"
    }
   ],
   "source": [
    "# 단층 퍼셉트론 이용하면 AND NAND OR 게이트 구현 \n",
    "\n",
    "# AND \n",
    "# 두개의 입력 값이 모두 1인경우만 output 1 아닌 경우는 0 \n",
    "def AND_gate(x1, x2):\n",
    "    w1 = 0.5\n",
    "    w2 = 0.5\n",
    "    b = -0.7\n",
    "    \n",
    "    result = x1 * w1 + x2 * w2 + b # 단층 퍼셉트론 공식 \n",
    "    \n",
    "    if result <= 0 :\n",
    "        return 0 \n",
    "    else :\n",
    "        return 1 \n",
    "    \n",
    "AND_gate(0,0), AND_gate(0,1), AND_gate(1,0), AND_gate(1,1)\n",
    "\n",
    "    "
   ]
  },
  {
   "cell_type": "code",
   "execution_count": 2,
   "id": "f68e4e6c",
   "metadata": {},
   "outputs": [
    {
     "data": {
      "text/plain": [
       "(1, 1, 1, 0)"
      ]
     },
     "execution_count": 2,
     "metadata": {},
     "output_type": "execute_result"
    }
   ],
   "source": [
    "# 단층 퍼셉트론 NAND 게이트 \n",
    "# 두개의 입력값이 1인 경우에만 출력값이 0 나머지는 1 \n",
    "\n",
    "def NAND_gate(x1, x2) :\n",
    "    w1 = -0.5 \n",
    "    w2 = -0.5\n",
    "    b = 0.7\n",
    "    \n",
    "    result = x1 * w1 + x2 * w2 + b\n",
    "    \n",
    "    if result <= 0 :\n",
    "        return 0\n",
    "    else :\n",
    "        return 1\n",
    "    \n",
    "# x1 = 0, 0, 1, 1\n",
    "# x2 = 0, 1, 0, 1\n",
    "# result -> 1 1 1 0\n",
    "    \n",
    "NAND_gate(0,0), NAND_gate(0,1), NAND_gate(1,0), NAND_gate(1,1)\n"
   ]
  },
  {
   "cell_type": "code",
   "execution_count": 3,
   "id": "290e085f",
   "metadata": {},
   "outputs": [
    {
     "data": {
      "text/plain": [
       "(0, 1, 1, 1)"
      ]
     },
     "execution_count": 3,
     "metadata": {},
     "output_type": "execute_result"
    }
   ],
   "source": [
    "# 단층 퍼셉트론 OR 게이트 \n",
    "# 두 값이 0 0 -> 0 , 1 -> 1 두값이 서로 다르면 1 \n",
    "\n",
    "def OR_gate(x1, x2) :\n",
    "    w1 = 0.5\n",
    "    w2 = 0.5\n",
    "    b = -0.4\n",
    "    \n",
    "    result = x1 * w1 + x2 * w2 + b\n",
    "    \n",
    "    if result <= 0 :\n",
    "        return 0\n",
    "    else :\n",
    "        return 1 \n",
    "    \n",
    "OR_gate(0,0), OR_gate(0,1), OR_gate(1,0), OR_gate(1,1)\n"
   ]
  },
  {
   "cell_type": "code",
   "execution_count": null,
   "id": "1dcd7ced",
   "metadata": {},
   "outputs": [],
   "source": []
  }
 ],
 "metadata": {
  "kernelspec": {
   "display_name": "Python 3",
   "language": "python",
   "name": "python3"
  },
  "language_info": {
   "codemirror_mode": {
    "name": "ipython",
    "version": 3
   },
   "file_extension": ".py",
   "mimetype": "text/x-python",
   "name": "python",
   "nbconvert_exporter": "python",
   "pygments_lexer": "ipython3",
   "version": "3.8.8"
  }
 },
 "nbformat": 4,
 "nbformat_minor": 5
}
