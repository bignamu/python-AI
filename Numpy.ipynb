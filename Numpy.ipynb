{
  "nbformat": 4,
  "nbformat_minor": 0,
  "metadata": {
    "colab": {
      "name": "Numpy.ipynb",
      "provenance": [],
      "collapsed_sections": [],
      "mount_file_id": "1ToDb0Kl5iKlXJ3s_N8DCDX6a1ws3zdLU",
      "authorship_tag": "ABX9TyNQ6sxMZ0l+JUsy1m0d0vUd",
      "include_colab_link": true
    },
    "kernelspec": {
      "name": "python3",
      "display_name": "Python 3"
    },
    "language_info": {
      "name": "python"
    }
  },
  "cells": [
    {
      "cell_type": "markdown",
      "metadata": {
        "id": "view-in-github",
        "colab_type": "text"
      },
      "source": [
        "<a href=\"https://colab.research.google.com/github/bignamu/python-AI/blob/main/Numpy.ipynb\" target=\"_parent\"><img src=\"https://colab.research.google.com/assets/colab-badge.svg\" alt=\"Open In Colab\"/></a>"
      ]
    },
    {
      "cell_type": "markdown",
      "metadata": {
        "id": "DMzAnTOKHF98"
      },
      "source": [
        "## Numpy의 소개\n",
        "\n",
        "\n",
        "\n",
        "NumPy(Numerical Python)는 파이썬에서 과학적 계산을 위한 핵심 라이브러리이다. NumPy는 다차원 배열 객체와 배열과 함께 작동하는 도구들을 제공한다. 하지만 NumPy 자체로는 고수준의 데이터 분석 기능을 제공하지 않기 때문에 NumPy 배열과 배열 기반 컴퓨팅의 이해를 통해 pandas와 같은 도구를 좀 더 효율적으로 사용하는 것이 필요하다."
      ]
    },
    {
      "cell_type": "markdown",
      "metadata": {
        "id": "FoMKIcicKiky"
      },
      "source": [
        "## ndarray 생성"
      ]
    },
    {
      "cell_type": "code",
      "metadata": {
        "colab": {
          "base_uri": "https://localhost:8080/"
        },
        "id": "scUz8GmnKnHw",
        "outputId": "29429d3e-043d-4b7b-8109-de54499cd222"
      },
      "source": [
        "import numpy as np\n",
        "\n",
        "arr = np.array([1,2,3,4])\n",
        "print(arr)"
      ],
      "execution_count": null,
      "outputs": [
        {
          "output_type": "stream",
          "text": [
            "[1 2 3 4]\n"
          ],
          "name": "stdout"
        }
      ]
    },
    {
      "cell_type": "code",
      "metadata": {
        "colab": {
          "base_uri": "https://localhost:8080/"
        },
        "id": "oITgULbGKpjI",
        "outputId": "e8200dc4-1a10-43d0-c05d-3549531d6f45"
      },
      "source": [
        "np.zeros((3,3))"
      ],
      "execution_count": null,
      "outputs": [
        {
          "output_type": "execute_result",
          "data": {
            "text/plain": [
              "array([[0., 0., 0.],\n",
              "       [0., 0., 0.],\n",
              "       [0., 0., 0.]])"
            ]
          },
          "metadata": {
            "tags": []
          },
          "execution_count": 8
        }
      ]
    },
    {
      "cell_type": "code",
      "metadata": {
        "colab": {
          "base_uri": "https://localhost:8080/"
        },
        "id": "o5IbtvjoK1DH",
        "outputId": "98e670a5-8451-4a87-c781-1331a5b3ec84"
      },
      "source": [
        "np.ones((2,2))"
      ],
      "execution_count": null,
      "outputs": [
        {
          "output_type": "execute_result",
          "data": {
            "text/plain": [
              "array([[1., 1.],\n",
              "       [1., 1.]])"
            ]
          },
          "metadata": {
            "tags": []
          },
          "execution_count": 9
        }
      ]
    },
    {
      "cell_type": "code",
      "metadata": {
        "colab": {
          "base_uri": "https://localhost:8080/"
        },
        "id": "pJI00sy4MPVv",
        "outputId": "8f494ada-95f7-4367-eb35-fc68b39641ad"
      },
      "source": [
        "np.empty((4,4))"
      ],
      "execution_count": null,
      "outputs": [
        {
          "output_type": "execute_result",
          "data": {
            "text/plain": [
              "array([[0.00000000e+000, 1.03977794e-312, 1.01855798e-312,\n",
              "        9.54898106e-313],\n",
              "       [1.03977794e-312, 1.01855798e-312, 1.23075756e-312,\n",
              "        1.03977794e-312],\n",
              "       [1.12465777e-312, 9.76118064e-313, 1.20953760e-312,\n",
              "        1.16709769e-312],\n",
              "       [1.06099790e-312, 4.44659081e-322, 0.00000000e+000,\n",
              "        0.00000000e+000]])"
            ]
          },
          "metadata": {
            "tags": []
          },
          "execution_count": 11
        }
      ]
    },
    {
      "cell_type": "code",
      "metadata": {
        "colab": {
          "base_uri": "https://localhost:8080/"
        },
        "id": "JafpH9KuMhQM",
        "outputId": "9737b87f-121c-4ae8-e966-80443125e168"
      },
      "source": [
        "np.arange(10)"
      ],
      "execution_count": null,
      "outputs": [
        {
          "output_type": "execute_result",
          "data": {
            "text/plain": [
              "array([0, 1, 2, 3, 4, 5, 6, 7, 8, 9])"
            ]
          },
          "metadata": {
            "tags": []
          },
          "execution_count": 12
        }
      ]
    },
    {
      "cell_type": "code",
      "metadata": {
        "colab": {
          "base_uri": "https://localhost:8080/"
        },
        "id": "wD-1FR8HM0t0",
        "outputId": "96b4de13-078f-411f-a7a1-a9e00f116980"
      },
      "source": [
        "np.arange(-5,5,1)"
      ],
      "execution_count": null,
      "outputs": [
        {
          "output_type": "execute_result",
          "data": {
            "text/plain": [
              "array([-5, -4, -3, -2, -1,  0,  1,  2,  3,  4])"
            ]
          },
          "metadata": {
            "tags": []
          },
          "execution_count": 14
        }
      ]
    },
    {
      "cell_type": "markdown",
      "metadata": {
        "id": "wSe9phe2NGrS"
      },
      "source": [
        "## ndarray 배열의 모양 , 차수, 데이터 타입을 확인하는 방법"
      ]
    },
    {
      "cell_type": "code",
      "metadata": {
        "id": "LhpsdpOjNUQu"
      },
      "source": [
        "arr = np.array([[1,2,3],[4,5,6]])"
      ],
      "execution_count": null,
      "outputs": []
    },
    {
      "cell_type": "code",
      "metadata": {
        "colab": {
          "base_uri": "https://localhost:8080/"
        },
        "id": "wEFUTTQgNibi",
        "outputId": "2e1fc5dc-49dc-4211-ea87-4949ea21be62"
      },
      "source": [
        "print(arr)"
      ],
      "execution_count": null,
      "outputs": [
        {
          "output_type": "stream",
          "text": [
            "[[1 2 3]\n",
            " [4 5 6]]\n"
          ],
          "name": "stdout"
        }
      ]
    },
    {
      "cell_type": "code",
      "metadata": {
        "colab": {
          "base_uri": "https://localhost:8080/"
        },
        "id": "s3NNtfGpNqVg",
        "outputId": "a11b1852-64cb-4341-e12b-d1f199299025"
      },
      "source": [
        "arr.shape"
      ],
      "execution_count": null,
      "outputs": [
        {
          "output_type": "execute_result",
          "data": {
            "text/plain": [
              "(2, 3)"
            ]
          },
          "metadata": {
            "tags": []
          },
          "execution_count": 20
        }
      ]
    },
    {
      "cell_type": "code",
      "metadata": {
        "colab": {
          "base_uri": "https://localhost:8080/"
        },
        "id": "p8-7RcBYOODA",
        "outputId": "a0f9eb36-10b2-46cb-cb81-2860e75a7194"
      },
      "source": [
        "arr.ndim"
      ],
      "execution_count": null,
      "outputs": [
        {
          "output_type": "execute_result",
          "data": {
            "text/plain": [
              "2"
            ]
          },
          "metadata": {
            "tags": []
          },
          "execution_count": 21
        }
      ]
    },
    {
      "cell_type": "code",
      "metadata": {
        "colab": {
          "base_uri": "https://localhost:8080/"
        },
        "id": "ohnZeaOVOPqQ",
        "outputId": "41952eff-454f-4fc1-b101-4dda48bf83e0"
      },
      "source": [
        "arr.dtype"
      ],
      "execution_count": null,
      "outputs": [
        {
          "output_type": "execute_result",
          "data": {
            "text/plain": [
              "dtype('int64')"
            ]
          },
          "metadata": {
            "tags": []
          },
          "execution_count": 22
        }
      ]
    },
    {
      "cell_type": "markdown",
      "metadata": {
        "id": "yeHdoRZ2OjkB"
      },
      "source": [
        "## ndarray 배열의 타입 변환\n",
        "astype 함수를 사용해서 정수형 데이터 배열을 실수형 데이터 배열로 변환하기"
      ]
    },
    {
      "cell_type": "code",
      "metadata": {
        "id": "wIsjz4goOpdg"
      },
      "source": [
        "arr_int = np.array([1,2,3,4])"
      ],
      "execution_count": null,
      "outputs": []
    },
    {
      "cell_type": "code",
      "metadata": {
        "colab": {
          "base_uri": "https://localhost:8080/"
        },
        "id": "dlDvnbO1O5hj",
        "outputId": "6a57de46-c924-4729-bd38-4bb76628e20a"
      },
      "source": [
        "arr_int.dtype"
      ],
      "execution_count": null,
      "outputs": [
        {
          "output_type": "execute_result",
          "data": {
            "text/plain": [
              "dtype('int64')"
            ]
          },
          "metadata": {
            "tags": []
          },
          "execution_count": 25
        }
      ]
    },
    {
      "cell_type": "code",
      "metadata": {
        "id": "c1l_7LuTO6zA"
      },
      "source": [
        "arr_float = arr_int.astype(np.float64)"
      ],
      "execution_count": null,
      "outputs": []
    },
    {
      "cell_type": "code",
      "metadata": {
        "colab": {
          "base_uri": "https://localhost:8080/"
        },
        "id": "01aXZJt7PH9H",
        "outputId": "5309a5b7-6ea0-435b-ca71-c6660a92db55"
      },
      "source": [
        "arr_float.dtype"
      ],
      "execution_count": null,
      "outputs": [
        {
          "output_type": "execute_result",
          "data": {
            "text/plain": [
              "dtype('float64')"
            ]
          },
          "metadata": {
            "tags": []
          },
          "execution_count": 27
        }
      ]
    },
    {
      "cell_type": "code",
      "metadata": {
        "colab": {
          "base_uri": "https://localhost:8080/"
        },
        "id": "Itunj1AzPNNX",
        "outputId": "25cceeac-9124-4a44-df2e-ae05a0a8c4fd"
      },
      "source": [
        "print(arr_float)"
      ],
      "execution_count": null,
      "outputs": [
        {
          "output_type": "stream",
          "text": [
            "[1. 2. 3. 4.]\n"
          ],
          "name": "stdout"
        }
      ]
    },
    {
      "cell_type": "markdown",
      "metadata": {
        "id": "o-G6kq_uPQJ_"
      },
      "source": [
        "### 문자형 데이터 배열을 정수형 데이터 배열로 변환하기"
      ]
    },
    {
      "cell_type": "code",
      "metadata": {
        "id": "m4UNkbDwPmE9"
      },
      "source": [
        "arr_str = np.array(['1','2','3'])"
      ],
      "execution_count": null,
      "outputs": []
    },
    {
      "cell_type": "code",
      "metadata": {
        "colab": {
          "base_uri": "https://localhost:8080/"
        },
        "id": "f855HAaIPr8W",
        "outputId": "ea02d767-92be-4572-82e9-331017cb73d3"
      },
      "source": [
        "arr_str.dtype"
      ],
      "execution_count": null,
      "outputs": [
        {
          "output_type": "execute_result",
          "data": {
            "text/plain": [
              "dtype('<U1')"
            ]
          },
          "metadata": {
            "tags": []
          },
          "execution_count": 30
        }
      ]
    },
    {
      "cell_type": "code",
      "metadata": {
        "id": "ygh3C134P6ZO"
      },
      "source": [
        "arr_int = arr_str.astype(np.int64)"
      ],
      "execution_count": null,
      "outputs": []
    },
    {
      "cell_type": "code",
      "metadata": {
        "colab": {
          "base_uri": "https://localhost:8080/"
        },
        "id": "6NFOse6EP-nG",
        "outputId": "d6e6ead4-3310-4dbe-bfd8-457fd7e7efa1"
      },
      "source": [
        "arr_int.dtype"
      ],
      "execution_count": null,
      "outputs": [
        {
          "output_type": "execute_result",
          "data": {
            "text/plain": [
              "dtype('int64')"
            ]
          },
          "metadata": {
            "tags": []
          },
          "execution_count": 32
        }
      ]
    },
    {
      "cell_type": "markdown",
      "metadata": {
        "id": "SmtRqX_tQQ5N"
      },
      "source": [
        "![Built-in Python types, ndarray data types](https://github.com/KoreaEva/AI/blob/master/HOL/04.Numpy,%20Pandas,%20Matplotlib/images/numpy-1.png?raw=true\n",
        ")"
      ]
    },
    {
      "cell_type": "markdown",
      "metadata": {
        "id": "MV0uEz0RQtCz"
      },
      "source": [
        "![Data Types](https://github.com/KoreaEva/AI/blob/master/HOL/04.Numpy,%20Pandas,%20Matplotlib/images/numpy-2.png?raw=true)"
      ]
    },
    {
      "cell_type": "markdown",
      "metadata": {
        "id": "SJvhLWSHQvUH"
      },
      "source": [
        "## ndarray 배열의 연산\n",
        "기본 연산자와 함수를 통해 배열 연산하기"
      ]
    },
    {
      "cell_type": "code",
      "metadata": {
        "id": "kt6rC23gUVAE"
      },
      "source": [
        "arr1 = np.array([[1,2],[3,4]])\n",
        "arr2 = np.array([[5,6],[7,8]])"
      ],
      "execution_count": null,
      "outputs": []
    },
    {
      "cell_type": "code",
      "metadata": {
        "colab": {
          "base_uri": "https://localhost:8080/"
        },
        "id": "2DtQA9N2Uy5-",
        "outputId": "bc75def9-0dac-453b-adfa-a8f97893fc63"
      },
      "source": [
        "arr1 + arr2"
      ],
      "execution_count": null,
      "outputs": [
        {
          "output_type": "execute_result",
          "data": {
            "text/plain": [
              "array([[ 6,  8],\n",
              "       [10, 12]])"
            ]
          },
          "metadata": {
            "tags": []
          },
          "execution_count": 37
        }
      ]
    },
    {
      "cell_type": "code",
      "metadata": {
        "colab": {
          "base_uri": "https://localhost:8080/"
        },
        "id": "HP1g9RK1U5ne",
        "outputId": "83a09386-2b79-43a1-b305-bb02a5f3de92"
      },
      "source": [
        "np.add(arr1,arr2)"
      ],
      "execution_count": null,
      "outputs": [
        {
          "output_type": "execute_result",
          "data": {
            "text/plain": [
              "array([[ 6,  8],\n",
              "       [10, 12]])"
            ]
          },
          "metadata": {
            "tags": []
          },
          "execution_count": 38
        }
      ]
    },
    {
      "cell_type": "code",
      "metadata": {
        "colab": {
          "base_uri": "https://localhost:8080/"
        },
        "id": "GiSBImvcVRkM",
        "outputId": "85148b88-acfb-4154-9e5c-793d3bc1d9fc"
      },
      "source": [
        "arr1 * arr2"
      ],
      "execution_count": null,
      "outputs": [
        {
          "output_type": "execute_result",
          "data": {
            "text/plain": [
              "array([[ 5, 12],\n",
              "       [21, 32]])"
            ]
          },
          "metadata": {
            "tags": []
          },
          "execution_count": 39
        }
      ]
    },
    {
      "cell_type": "code",
      "metadata": {
        "colab": {
          "base_uri": "https://localhost:8080/"
        },
        "id": "njbildrZVYN0",
        "outputId": "d7361be2-dea0-4fcd-edca-1008ad7ec0d7"
      },
      "source": [
        "np.multiply(arr1,arr2)"
      ],
      "execution_count": null,
      "outputs": [
        {
          "output_type": "execute_result",
          "data": {
            "text/plain": [
              "array([[ 5, 12],\n",
              "       [21, 32]])"
            ]
          },
          "metadata": {
            "tags": []
          },
          "execution_count": 40
        }
      ]
    },
    {
      "cell_type": "markdown",
      "metadata": {
        "id": "dwPiStE4Vhr8"
      },
      "source": [
        "### numpty 배열의 연산은 연산자(+,-,*,/)나 함수(add,subtract,multiply,divide)로 가능하다"
      ]
    },
    {
      "cell_type": "code",
      "metadata": {
        "colab": {
          "base_uri": "https://localhost:8080/"
        },
        "id": "kz9hyJUBV_kb",
        "outputId": "744434ff-2d23-4268-e250-9fa489218836"
      },
      "source": [
        "arr1.dot(arr2)"
      ],
      "execution_count": null,
      "outputs": [
        {
          "output_type": "execute_result",
          "data": {
            "text/plain": [
              "array([[19, 22],\n",
              "       [43, 50]])"
            ]
          },
          "metadata": {
            "tags": []
          },
          "execution_count": 41
        }
      ]
    },
    {
      "cell_type": "code",
      "metadata": {
        "colab": {
          "base_uri": "https://localhost:8080/"
        },
        "id": "0j9RtghOYjpa",
        "outputId": "ca20f26b-6c33-487f-a5e3-85a603887edd"
      },
      "source": [
        "np.dot(arr1,arr2)"
      ],
      "execution_count": null,
      "outputs": [
        {
          "output_type": "execute_result",
          "data": {
            "text/plain": [
              "array([[19, 22],\n",
              "       [43, 50]])"
            ]
          },
          "metadata": {
            "tags": []
          },
          "execution_count": 42
        }
      ]
    },
    {
      "cell_type": "markdown",
      "metadata": {
        "id": "xWkdzaqWYlT2"
      },
      "source": [
        "### 앞에서 살펴본 것과 같이 Numpy 배열에 기본 연산자 *를 통한 곱을 행렬의 곱이 아닌 배열의 요소의 곱이다. 따라서 행렬의 곱을 수행하기 위해서 dot 함수를 사용해야한다"
      ]
    },
    {
      "cell_type": "markdown",
      "metadata": {
        "id": "Z1cOzjaiZmol"
      },
      "source": [
        "## ndarray 배열 슬라이싱 하기"
      ]
    },
    {
      "cell_type": "code",
      "metadata": {
        "id": "Z21jxPYHZprL"
      },
      "source": [
        "arr = np.array([[1,2,3],[4,5,6],[7,8,9]])"
      ],
      "execution_count": null,
      "outputs": []
    },
    {
      "cell_type": "code",
      "metadata": {
        "id": "WXQwa_n9Z5DV"
      },
      "source": [
        "arr_1 = arr[:2,1:3]"
      ],
      "execution_count": null,
      "outputs": []
    },
    {
      "cell_type": "code",
      "metadata": {
        "colab": {
          "base_uri": "https://localhost:8080/"
        },
        "id": "B7hvgci5aML0",
        "outputId": "46347b82-6e33-42d3-d100-0daae3a72a98"
      },
      "source": [
        "print(arr_1)"
      ],
      "execution_count": null,
      "outputs": [
        {
          "output_type": "stream",
          "text": [
            "[[2 3]\n",
            " [5 6]]\n"
          ],
          "name": "stdout"
        }
      ]
    },
    {
      "cell_type": "code",
      "metadata": {
        "id": "rp1xV-8saNct"
      },
      "source": [
        "arr_1[0,0] = 5"
      ],
      "execution_count": null,
      "outputs": []
    },
    {
      "cell_type": "code",
      "metadata": {
        "colab": {
          "base_uri": "https://localhost:8080/"
        },
        "id": "rpajsYf4bIBS",
        "outputId": "e31ff999-2808-4184-c0bd-cdd1644f8d7a"
      },
      "source": [
        "arr_1"
      ],
      "execution_count": null,
      "outputs": [
        {
          "output_type": "execute_result",
          "data": {
            "text/plain": [
              "array([[5, 3],\n",
              "       [5, 6]])"
            ]
          },
          "metadata": {
            "tags": []
          },
          "execution_count": 47
        }
      ]
    },
    {
      "cell_type": "code",
      "metadata": {
        "colab": {
          "base_uri": "https://localhost:8080/"
        },
        "id": "ptghWxLPbJAq",
        "outputId": "3b941e33-fa7f-4b72-8887-217b83d425fc"
      },
      "source": [
        "arr"
      ],
      "execution_count": null,
      "outputs": [
        {
          "output_type": "execute_result",
          "data": {
            "text/plain": [
              "array([[1, 5, 3],\n",
              "       [4, 5, 6],\n",
              "       [7, 8, 9]])"
            ]
          },
          "metadata": {
            "tags": []
          },
          "execution_count": 48
        }
      ]
    },
    {
      "cell_type": "code",
      "metadata": {
        "id": "NNmWpj7dbKz6"
      },
      "source": [
        "arr = np.array([[1,2,3],[4,5,6]])"
      ],
      "execution_count": null,
      "outputs": []
    },
    {
      "cell_type": "code",
      "metadata": {
        "id": "LUUNP1i9b_eh"
      },
      "source": [
        "idx = arr > 3"
      ],
      "execution_count": null,
      "outputs": []
    },
    {
      "cell_type": "code",
      "metadata": {
        "colab": {
          "base_uri": "https://localhost:8080/"
        },
        "id": "xFkjBk5zcaeI",
        "outputId": "1108ee31-0e75-41c2-b0f8-e1499cbabe31"
      },
      "source": [
        "idx"
      ],
      "execution_count": null,
      "outputs": [
        {
          "output_type": "execute_result",
          "data": {
            "text/plain": [
              "array([[False, False, False],\n",
              "       [ True,  True,  True]])"
            ]
          },
          "metadata": {
            "tags": []
          },
          "execution_count": 52
        }
      ]
    },
    {
      "cell_type": "code",
      "metadata": {
        "colab": {
          "base_uri": "https://localhost:8080/"
        },
        "id": "ZPGGizhfcbQY",
        "outputId": "6ad51e81-527b-4653-8801-791328d4b878"
      },
      "source": [
        "arr[idx]"
      ],
      "execution_count": null,
      "outputs": [
        {
          "output_type": "execute_result",
          "data": {
            "text/plain": [
              "array([4, 5, 6])"
            ]
          },
          "metadata": {
            "tags": []
          },
          "execution_count": 54
        }
      ]
    },
    {
      "cell_type": "markdown",
      "metadata": {
        "id": "nHJV9Ww7dHpY"
      },
      "source": [
        "###idx의 값들은 arr의 값이 3보다 큰 것인지(True) 같거나 작은 것인지(False) 나타낸다"
      ]
    },
    {
      "cell_type": "markdown",
      "metadata": {
        "id": "HUY_d8lodkGC"
      },
      "source": [
        "### Wine Quality 데이터 설명\n",
        "\n",
        "\n",
        "\n",
        "Wine Quality 데이터에는 포르투갈의 레드 와인과 화이트 와인 두 개의 데이터 예시이 있다. 각각의 데이터 셋 안에는 물리화학적 실험에 대한 12개의 변수들이 있다. 변수에 대한 설명은 다음과 같다."
      ]
    },
    {
      "cell_type": "markdown",
      "metadata": {
        "id": "kHbxa5Hwdrn1"
      },
      "source": [
        "\n",
        "![Wine Quality 데이터 변수 설명](https://github.com/KoreaEva/AI/blob/master/HOL/04.Numpy,%20Pandas,%20Matplotlib/images/numpy-3.png?raw=true)"
      ]
    },
    {
      "cell_type": "code",
      "metadata": {
        "id": "ESKYGMfBeoD0"
      },
      "source": [
        "import numpy as np\n",
        "\n",
        "redwine = np.loadtxt(fname='/content/drive/MyDrive/Colab Notebooks/AI/HOL/04.Numpy, Pandas, Matplotlib/samples/winequality-red.csv', delimiter=';', skiprows=1)"
      ],
      "execution_count": null,
      "outputs": []
    },
    {
      "cell_type": "code",
      "metadata": {
        "colab": {
          "base_uri": "https://localhost:8080/"
        },
        "id": "uNJyEwWuzeUa",
        "outputId": "59ea5cee-5970-44dc-8984-de85f1abde68"
      },
      "source": [
        "redwine"
      ],
      "execution_count": null,
      "outputs": [
        {
          "output_type": "execute_result",
          "data": {
            "text/plain": [
              "array([[ 7.4  ,  0.7  ,  0.   , ...,  0.56 ,  9.4  ,  5.   ],\n",
              "       [ 7.8  ,  0.88 ,  0.   , ...,  0.68 ,  9.8  ,  5.   ],\n",
              "       [ 7.8  ,  0.76 ,  0.04 , ...,  0.65 ,  9.8  ,  5.   ],\n",
              "       ...,\n",
              "       [ 6.3  ,  0.51 ,  0.13 , ...,  0.75 , 11.   ,  6.   ],\n",
              "       [ 5.9  ,  0.645,  0.12 , ...,  0.71 , 10.2  ,  5.   ],\n",
              "       [ 6.   ,  0.31 ,  0.47 , ...,  0.66 , 11.   ,  6.   ]])"
            ]
          },
          "metadata": {
            "tags": []
          },
          "execution_count": 69
        }
      ]
    },
    {
      "cell_type": "code",
      "metadata": {
        "colab": {
          "base_uri": "https://localhost:8080/"
        },
        "id": "2fHTYfIMz3ge",
        "outputId": "53a5b71e-c6cc-4a35-f8c0-5a10e7065582"
      },
      "source": [
        "redwine.shape"
      ],
      "execution_count": null,
      "outputs": [
        {
          "output_type": "execute_result",
          "data": {
            "text/plain": [
              "(1599, 12)"
            ]
          },
          "metadata": {
            "tags": []
          },
          "execution_count": 70
        }
      ]
    },
    {
      "cell_type": "markdown",
      "metadata": {
        "id": "TRm3enNAz5ZW"
      },
      "source": [
        "### Wine Quality 데이터를 활용한 기초 통계 분석\n",
        "\n",
        "\n",
        "\n",
        "NumPy에는 기본적인 배열 통계 메서드가 있다. sum, mean과 같은 기본적인 통계 메서드를 통해 3.2에서 불러온 redwine 데이터의 기초적인 통계 분석을 해본다. 실습할 통계 메서드는 다음과 같다."
      ]
    },
    {
      "cell_type": "markdown",
      "metadata": {
        "id": "B_2mPbUG0h2U"
      },
      "source": [
        "![배열 통계 메서드](https://github.com/KoreaEva/AI/blob/master/HOL/04.Numpy,%20Pandas,%20Matplotlib/images/numpy-4.png?raw=true)"
      ]
    },
    {
      "cell_type": "code",
      "metadata": {
        "colab": {
          "base_uri": "https://localhost:8080/"
        },
        "id": "SumISJE60orW",
        "outputId": "b800a3db-7eb3-4dfa-cce6-b719ac118979"
      },
      "source": [
        "redwine.sum()"
      ],
      "execution_count": null,
      "outputs": [
        {
          "output_type": "execute_result",
          "data": {
            "text/plain": [
              "152084.78194"
            ]
          },
          "metadata": {
            "tags": []
          },
          "execution_count": 75
        }
      ]
    },
    {
      "cell_type": "code",
      "metadata": {
        "colab": {
          "base_uri": "https://localhost:8080/"
        },
        "id": "5yrtdjKm1YC9",
        "outputId": "6bbba0f8-d133-4f65-c1d6-69df61c2a8d8"
      },
      "source": [
        "redwine.mean()"
      ],
      "execution_count": null,
      "outputs": [
        {
          "output_type": "execute_result",
          "data": {
            "text/plain": [
              "7.926036165311652"
            ]
          },
          "metadata": {
            "tags": []
          },
          "execution_count": 76
        }
      ]
    },
    {
      "cell_type": "code",
      "metadata": {
        "colab": {
          "base_uri": "https://localhost:8080/"
        },
        "id": "bo3AiGT71baU",
        "outputId": "106abec0-d70f-431d-ccf7-6c2e0ff05fe0"
      },
      "source": [
        "redwine.mean(axis=0)"
      ],
      "execution_count": null,
      "outputs": [
        {
          "output_type": "execute_result",
          "data": {
            "text/plain": [
              "array([ 8.31963727,  0.52782051,  0.27097561,  2.5388055 ,  0.08746654,\n",
              "       15.87492183, 46.46779237,  0.99674668,  3.3111132 ,  0.65814884,\n",
              "       10.42298311,  5.63602251])"
            ]
          },
          "metadata": {
            "tags": []
          },
          "execution_count": 86
        }
      ]
    },
    {
      "cell_type": "code",
      "metadata": {
        "colab": {
          "base_uri": "https://localhost:8080/"
        },
        "id": "2_1fIoyk1c-s",
        "outputId": "da960ebe-6b6e-4541-a47a-9cbbe53f2269"
      },
      "source": [
        "redwine[:,0].mean()"
      ],
      "execution_count": null,
      "outputs": [
        {
          "output_type": "execute_result",
          "data": {
            "text/plain": [
              "8.31963727329581"
            ]
          },
          "metadata": {
            "tags": []
          },
          "execution_count": 100
        }
      ]
    },
    {
      "cell_type": "markdown",
      "metadata": {
        "id": "fCR-HEk83Qxg"
      },
      "source": [
        "redwine.sum(): redwine 데이터 셋에 있는 모든 데이터의 합 <br>\n",
        "redwine.mean(): redwine 데이터 셋에 있는 모든 데이터의 평균 <br>\n",
        "redwine.mean(axis=0): redwine 데이터 셋의 열별(axis=0은 열을 뜻한다.) 평균, 이를 통해 각 변수별 평균을 알 수 있다. Fixed acidity의 평균은 8.31963722 이며, volatile acidity의 평균은 0.52782051 이다. <br>\n",
        "redwine[:0.mean(): redwine 데이터 셋의 첫번째 열 (0번째 열)의 모든 값들의 평균을 뜻한다. 즉, fixed acidity의 평균만 알 수 있다."
      ]
    },
    {
      "cell_type": "code",
      "metadata": {
        "colab": {
          "base_uri": "https://localhost:8080/"
        },
        "id": "EnfDoVJQ3TTf",
        "outputId": "b779146b-29eb-401c-f4ae-e17783bab210"
      },
      "source": [
        "redwine.max(axis=0)"
      ],
      "execution_count": null,
      "outputs": [
        {
          "output_type": "execute_result",
          "data": {
            "text/plain": [
              "array([ 15.9    ,   1.58   ,   1.     ,  15.5    ,   0.611  ,  72.     ,\n",
              "       289.     ,   1.00369,   4.01   ,   2.     ,  14.9    ,   8.     ])"
            ]
          },
          "metadata": {
            "tags": []
          },
          "execution_count": 101
        }
      ]
    },
    {
      "cell_type": "code",
      "metadata": {
        "colab": {
          "base_uri": "https://localhost:8080/"
        },
        "id": "V_zZI0PE3dkJ",
        "outputId": "bc91e8ec-8e01-4735-eaee-c7432f33abaf"
      },
      "source": [
        "redwine.min(axis=0)"
      ],
      "execution_count": null,
      "outputs": [
        {
          "output_type": "execute_result",
          "data": {
            "text/plain": [
              "array([4.6    , 0.12   , 0.     , 0.9    , 0.012  , 1.     , 6.     ,\n",
              "       0.99007, 2.74   , 0.33   , 8.4    , 3.     ])"
            ]
          },
          "metadata": {
            "tags": []
          },
          "execution_count": 102
        }
      ]
    }
  ]
}