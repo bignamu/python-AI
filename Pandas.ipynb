{
  "nbformat": 4,
  "nbformat_minor": 0,
  "metadata": {
    "colab": {
      "name": "Pandas.ipynb",
      "provenance": [],
      "collapsed_sections": [],
      "mount_file_id": "1CUtvShBhJdiTO0TgedWjjwVohu8ZFIAN",
      "authorship_tag": "ABX9TyOQj/+F6NDsyQUkOxrUM7je",
      "include_colab_link": true
    },
    "kernelspec": {
      "name": "python3",
      "display_name": "Python 3"
    },
    "language_info": {
      "name": "python"
    }
  },
  "cells": [
    {
      "cell_type": "markdown",
      "metadata": {
        "id": "view-in-github",
        "colab_type": "text"
      },
      "source": [
        "<a href=\"https://colab.research.google.com/github/bignamu/python-AI/blob/main/Pandas.ipynb\" target=\"_parent\"><img src=\"https://colab.research.google.com/assets/colab-badge.svg\" alt=\"Open In Colab\"/></a>"
      ]
    },
    {
      "cell_type": "markdown",
      "metadata": {
        "id": "EbABffXT8607"
      },
      "source": [
        "#Pandas"
      ]
    },
    {
      "cell_type": "markdown",
      "metadata": {
        "id": "pDkbc5qt-bue"
      },
      "source": [
        "## 자료구조 : Seires와 Dataframe\n",
        "\n",
        "\n",
        "\n",
        "Pandas에서 제공하는 데이터 자료구조는 Series와 Dataframe 두가지가 존재하는데 Series는 시계열과 유사한 데이터로서 index와 value가 존재하고 Dataframe은 딕셔너리데이터를 매트릭스 형태로 만들어 준 것 같은 frame을 가지고 있다. 이런 데이터 구조를 통해 시계열, 비시계열 데이터를 통합하여 다룰 수 있다."
      ]
    },
    {
      "cell_type": "markdown",
      "metadata": {
        "id": "x7OSTlj9-SJ2"
      },
      "source": [
        "#Series"
      ]
    },
    {
      "cell_type": "code",
      "metadata": {
        "id": "Rjvp9J68AMJF"
      },
      "source": [
        "from pandas import Series,DataFrame\n",
        "import pandas as pd"
      ],
      "execution_count": null,
      "outputs": []
    },
    {
      "cell_type": "code",
      "metadata": {
        "id": "B7_b7EkfAu0w"
      },
      "source": [
        "fruit = Series([2500,3800,1200,6000],\n",
        "               index = ['apple','banana','pear','cherry'])"
      ],
      "execution_count": null,
      "outputs": []
    },
    {
      "cell_type": "code",
      "metadata": {
        "colab": {
          "base_uri": "https://localhost:8080/"
        },
        "id": "p2WV2qN2BC9B",
        "outputId": "8703363d-379c-4f1c-d17d-03212808ce2c"
      },
      "source": [
        "fruit"
      ],
      "execution_count": null,
      "outputs": [
        {
          "output_type": "execute_result",
          "data": {
            "text/plain": [
              "apple     2500\n",
              "banana    3800\n",
              "pear      1200\n",
              "cherry    6000\n",
              "dtype: int64"
            ]
          },
          "metadata": {
            "tags": []
          },
          "execution_count": 5
        }
      ]
    },
    {
      "cell_type": "code",
      "metadata": {
        "colab": {
          "base_uri": "https://localhost:8080/"
        },
        "id": "tiGI20ttBbZT",
        "outputId": "d7a99f2e-7e67-41c2-8433-22769423f59b"
      },
      "source": [
        "fruit.index"
      ],
      "execution_count": null,
      "outputs": [
        {
          "output_type": "execute_result",
          "data": {
            "text/plain": [
              "Index(['apple', 'banana', 'pear', 'cherry'], dtype='object')"
            ]
          },
          "metadata": {
            "tags": []
          },
          "execution_count": 11
        }
      ]
    },
    {
      "cell_type": "code",
      "metadata": {
        "colab": {
          "base_uri": "https://localhost:8080/"
        },
        "id": "mfr7TGw4B2-Y",
        "outputId": "fcac81ff-acfa-4aa6-d905-ad0253179fe5"
      },
      "source": [
        "fruit.values"
      ],
      "execution_count": null,
      "outputs": [
        {
          "output_type": "execute_result",
          "data": {
            "text/plain": [
              "array([2500, 3800, 1200, 6000])"
            ]
          },
          "metadata": {
            "tags": []
          },
          "execution_count": 10
        }
      ]
    },
    {
      "cell_type": "code",
      "metadata": {
        "colab": {
          "base_uri": "https://localhost:8080/"
        },
        "id": "BPV2mf4wB5XW",
        "outputId": "8144bf1f-f63f-4267-d7b3-f0d519a9ec8a"
      },
      "source": [
        "fruit.index"
      ],
      "execution_count": null,
      "outputs": [
        {
          "output_type": "execute_result",
          "data": {
            "text/plain": [
              "Index(['apple', 'banana', 'pear', 'cherry'], dtype='object')"
            ]
          },
          "metadata": {
            "tags": []
          },
          "execution_count": 12
        }
      ]
    },
    {
      "cell_type": "markdown",
      "metadata": {
        "id": "VZTM4XprCBdN"
      },
      "source": [
        "Series의 형태는 딕셔너리하고 매우 유사하나 key가 index로 바뀐 정도가 아니라 데이터 구조 자체가 매우 다르다"
      ]
    },
    {
      "cell_type": "code",
      "metadata": {
        "id": "o-dwOQquCI4h"
      },
      "source": [
        "fruitData = {'apple':2500,\n",
        "             'banana':3800,\n",
        "             'pear':1200,\n",
        "             'cherry':6000}"
      ],
      "execution_count": null,
      "outputs": []
    },
    {
      "cell_type": "code",
      "metadata": {
        "id": "8mIFG8aRCX08"
      },
      "source": [
        "fruit = Series(fruitData)"
      ],
      "execution_count": null,
      "outputs": []
    },
    {
      "cell_type": "code",
      "metadata": {
        "colab": {
          "base_uri": "https://localhost:8080/"
        },
        "id": "ay4j5Np8CbTs",
        "outputId": "b5b53462-9ac5-4c35-988c-eb1bfe9c940a"
      },
      "source": [
        "print(type(fruitData),type(fruit))"
      ],
      "execution_count": null,
      "outputs": [
        {
          "output_type": "stream",
          "text": [
            "<class 'dict'> <class 'pandas.core.series.Series'>\n"
          ],
          "name": "stdout"
        }
      ]
    },
    {
      "cell_type": "code",
      "metadata": {
        "id": "lg6MYhOkCcKV"
      },
      "source": [
        "fruit.name='fruitPrice'"
      ],
      "execution_count": null,
      "outputs": []
    },
    {
      "cell_type": "code",
      "metadata": {
        "colab": {
          "base_uri": "https://localhost:8080/"
        },
        "id": "e97PwGy4DJ-c",
        "outputId": "55eec199-69a2-47e1-822e-2936ba86d883"
      },
      "source": [
        "fruit"
      ],
      "execution_count": null,
      "outputs": [
        {
          "output_type": "execute_result",
          "data": {
            "text/plain": [
              "apple     2500\n",
              "banana    3800\n",
              "pear      1200\n",
              "cherry    6000\n",
              "Name: fruitPrice, dtype: int64"
            ]
          },
          "metadata": {
            "tags": []
          },
          "execution_count": 18
        }
      ]
    },
    {
      "cell_type": "code",
      "metadata": {
        "id": "5AOocLNMDMVz"
      },
      "source": [
        "fruit.index.name = 'fruitName'"
      ],
      "execution_count": null,
      "outputs": []
    },
    {
      "cell_type": "code",
      "metadata": {
        "colab": {
          "base_uri": "https://localhost:8080/"
        },
        "id": "oBvBPBelDXW7",
        "outputId": "7bf6b6b0-12ad-4d72-c51d-782076a43156"
      },
      "source": [
        "fruit"
      ],
      "execution_count": null,
      "outputs": [
        {
          "output_type": "execute_result",
          "data": {
            "text/plain": [
              "fruitName\n",
              "apple     2500\n",
              "banana    3800\n",
              "pear      1200\n",
              "cherry    6000\n",
              "Name: fruitPrice, dtype: int64"
            ]
          },
          "metadata": {
            "tags": []
          },
          "execution_count": 20
        }
      ]
    },
    {
      "cell_type": "code",
      "metadata": {
        "id": "GAq_UtxzDYLb"
      },
      "source": [
        "fruitData = {'fruitName':['apple','banana','cherry','pear'],\n",
        "             'fruitPrice':[2500,3800,6000,1200],\n",
        "             'num':[10,5,3,8]}"
      ],
      "execution_count": null,
      "outputs": []
    },
    {
      "cell_type": "code",
      "metadata": {
        "colab": {
          "base_uri": "https://localhost:8080/"
        },
        "id": "ta32tWiyEIts",
        "outputId": "6c031c9a-3a77-447e-8939-3962b386dfd7"
      },
      "source": [
        "type(fruitData)"
      ],
      "execution_count": null,
      "outputs": [
        {
          "output_type": "execute_result",
          "data": {
            "text/plain": [
              "dict"
            ]
          },
          "metadata": {
            "tags": []
          },
          "execution_count": 27
        }
      ]
    },
    {
      "cell_type": "code",
      "metadata": {
        "id": "JbvwBa8xENyK"
      },
      "source": [
        "fruitFrame = DataFrame(fruitData)"
      ],
      "execution_count": null,
      "outputs": []
    },
    {
      "cell_type": "code",
      "metadata": {
        "colab": {
          "base_uri": "https://localhost:8080/"
        },
        "id": "OO6GEFf9El2h",
        "outputId": "6231f93d-c05e-4bbe-ba18-c6fc549895c1"
      },
      "source": [
        "type(fruitFrame)"
      ],
      "execution_count": null,
      "outputs": [
        {
          "output_type": "execute_result",
          "data": {
            "text/plain": [
              "pandas.core.frame.DataFrame"
            ]
          },
          "metadata": {
            "tags": []
          },
          "execution_count": 29
        }
      ]
    },
    {
      "cell_type": "code",
      "metadata": {
        "colab": {
          "base_uri": "https://localhost:8080/",
          "height": 173
        },
        "id": "paJpd-_bEnhR",
        "outputId": "4d6479c0-658d-4075-83fb-630ec3e25fe1"
      },
      "source": [
        "fruitFrame"
      ],
      "execution_count": null,
      "outputs": [
        {
          "output_type": "execute_result",
          "data": {
            "text/html": [
              "<div>\n",
              "<style scoped>\n",
              "    .dataframe tbody tr th:only-of-type {\n",
              "        vertical-align: middle;\n",
              "    }\n",
              "\n",
              "    .dataframe tbody tr th {\n",
              "        vertical-align: top;\n",
              "    }\n",
              "\n",
              "    .dataframe thead th {\n",
              "        text-align: right;\n",
              "    }\n",
              "</style>\n",
              "<table border=\"1\" class=\"dataframe\">\n",
              "  <thead>\n",
              "    <tr style=\"text-align: right;\">\n",
              "      <th></th>\n",
              "      <th>fruitName</th>\n",
              "      <th>fruitPrice</th>\n",
              "      <th>num</th>\n",
              "    </tr>\n",
              "  </thead>\n",
              "  <tbody>\n",
              "    <tr>\n",
              "      <th>0</th>\n",
              "      <td>apple</td>\n",
              "      <td>2500</td>\n",
              "      <td>10</td>\n",
              "    </tr>\n",
              "    <tr>\n",
              "      <th>1</th>\n",
              "      <td>banana</td>\n",
              "      <td>3800</td>\n",
              "      <td>5</td>\n",
              "    </tr>\n",
              "    <tr>\n",
              "      <th>2</th>\n",
              "      <td>cherry</td>\n",
              "      <td>6000</td>\n",
              "      <td>3</td>\n",
              "    </tr>\n",
              "    <tr>\n",
              "      <th>3</th>\n",
              "      <td>pear</td>\n",
              "      <td>1200</td>\n",
              "      <td>8</td>\n",
              "    </tr>\n",
              "  </tbody>\n",
              "</table>\n",
              "</div>"
            ],
            "text/plain": [
              "  fruitName  fruitPrice  num\n",
              "0     apple        2500   10\n",
              "1    banana        3800    5\n",
              "2    cherry        6000    3\n",
              "3      pear        1200    8"
            ]
          },
          "metadata": {
            "tags": []
          },
          "execution_count": 30
        }
      ]
    },
    {
      "cell_type": "code",
      "metadata": {
        "id": "twKYNwsiEplB"
      },
      "source": [
        "fruitFrame = DataFrame(fruitData,columns=['fruitPrice','num','fruitName'])"
      ],
      "execution_count": null,
      "outputs": []
    },
    {
      "cell_type": "code",
      "metadata": {
        "colab": {
          "base_uri": "https://localhost:8080/",
          "height": 173
        },
        "id": "NB0yoyCWFM-P",
        "outputId": "20a72e7f-736a-4951-9036-cda7a308f500"
      },
      "source": [
        "fruitFrame"
      ],
      "execution_count": null,
      "outputs": [
        {
          "output_type": "execute_result",
          "data": {
            "text/html": [
              "<div>\n",
              "<style scoped>\n",
              "    .dataframe tbody tr th:only-of-type {\n",
              "        vertical-align: middle;\n",
              "    }\n",
              "\n",
              "    .dataframe tbody tr th {\n",
              "        vertical-align: top;\n",
              "    }\n",
              "\n",
              "    .dataframe thead th {\n",
              "        text-align: right;\n",
              "    }\n",
              "</style>\n",
              "<table border=\"1\" class=\"dataframe\">\n",
              "  <thead>\n",
              "    <tr style=\"text-align: right;\">\n",
              "      <th></th>\n",
              "      <th>fruitPrice</th>\n",
              "      <th>num</th>\n",
              "      <th>fruitName</th>\n",
              "    </tr>\n",
              "  </thead>\n",
              "  <tbody>\n",
              "    <tr>\n",
              "      <th>0</th>\n",
              "      <td>2500</td>\n",
              "      <td>10</td>\n",
              "      <td>apple</td>\n",
              "    </tr>\n",
              "    <tr>\n",
              "      <th>1</th>\n",
              "      <td>3800</td>\n",
              "      <td>5</td>\n",
              "      <td>banana</td>\n",
              "    </tr>\n",
              "    <tr>\n",
              "      <th>2</th>\n",
              "      <td>6000</td>\n",
              "      <td>3</td>\n",
              "      <td>cherry</td>\n",
              "    </tr>\n",
              "    <tr>\n",
              "      <th>3</th>\n",
              "      <td>1200</td>\n",
              "      <td>8</td>\n",
              "      <td>pear</td>\n",
              "    </tr>\n",
              "  </tbody>\n",
              "</table>\n",
              "</div>"
            ],
            "text/plain": [
              "   fruitPrice  num fruitName\n",
              "0        2500   10     apple\n",
              "1        3800    5    banana\n",
              "2        6000    3    cherry\n",
              "3        1200    8      pear"
            ]
          },
          "metadata": {
            "tags": []
          },
          "execution_count": 34
        }
      ]
    },
    {
      "cell_type": "code",
      "metadata": {
        "colab": {
          "base_uri": "https://localhost:8080/"
        },
        "id": "sLdQChxFFOKR",
        "outputId": "063eb7e5-1b39-4f6a-ff88-02ad85cfb876"
      },
      "source": [
        "fruitFrame['fruitName']"
      ],
      "execution_count": null,
      "outputs": [
        {
          "output_type": "execute_result",
          "data": {
            "text/plain": [
              "0     apple\n",
              "1    banana\n",
              "2    cherry\n",
              "3      pear\n",
              "Name: fruitName, dtype: object"
            ]
          },
          "metadata": {
            "tags": []
          },
          "execution_count": 35
        }
      ]
    },
    {
      "cell_type": "code",
      "metadata": {
        "colab": {
          "base_uri": "https://localhost:8080/"
        },
        "id": "xFm8Gtw6FqP3",
        "outputId": "b22f5ede-0afe-4d46-84af-6cf05547f3b5"
      },
      "source": [
        "fruitFrame.fruitName"
      ],
      "execution_count": null,
      "outputs": [
        {
          "output_type": "execute_result",
          "data": {
            "text/plain": [
              "0     apple\n",
              "1    banana\n",
              "2    cherry\n",
              "3      pear\n",
              "Name: fruitName, dtype: object"
            ]
          },
          "metadata": {
            "tags": []
          },
          "execution_count": 36
        }
      ]
    },
    {
      "cell_type": "code",
      "metadata": {
        "colab": {
          "base_uri": "https://localhost:8080/"
        },
        "id": "ro0gQ0ZWGNGe",
        "outputId": "f0b3d9da-abcc-4b25-995d-64108a5f74ce"
      },
      "source": [
        "type(fruitFrame.fruitName)"
      ],
      "execution_count": null,
      "outputs": [
        {
          "output_type": "execute_result",
          "data": {
            "text/plain": [
              "pandas.core.series.Series"
            ]
          },
          "metadata": {
            "tags": []
          },
          "execution_count": 37
        }
      ]
    },
    {
      "cell_type": "code",
      "metadata": {
        "id": "sNZCkVHBGaGt"
      },
      "source": [
        "fruitFrame['Year'] = 2021"
      ],
      "execution_count": null,
      "outputs": []
    },
    {
      "cell_type": "code",
      "metadata": {
        "colab": {
          "base_uri": "https://localhost:8080/",
          "height": 173
        },
        "id": "_Mn5b06JHHKV",
        "outputId": "4ddaae73-f45d-42f2-e17f-7a2df2cc4ef9"
      },
      "source": [
        "fruitFrame"
      ],
      "execution_count": null,
      "outputs": [
        {
          "output_type": "execute_result",
          "data": {
            "text/html": [
              "<div>\n",
              "<style scoped>\n",
              "    .dataframe tbody tr th:only-of-type {\n",
              "        vertical-align: middle;\n",
              "    }\n",
              "\n",
              "    .dataframe tbody tr th {\n",
              "        vertical-align: top;\n",
              "    }\n",
              "\n",
              "    .dataframe thead th {\n",
              "        text-align: right;\n",
              "    }\n",
              "</style>\n",
              "<table border=\"1\" class=\"dataframe\">\n",
              "  <thead>\n",
              "    <tr style=\"text-align: right;\">\n",
              "      <th></th>\n",
              "      <th>fruitPrice</th>\n",
              "      <th>num</th>\n",
              "      <th>fruitName</th>\n",
              "      <th>Year</th>\n",
              "    </tr>\n",
              "  </thead>\n",
              "  <tbody>\n",
              "    <tr>\n",
              "      <th>0</th>\n",
              "      <td>2500</td>\n",
              "      <td>10</td>\n",
              "      <td>apple</td>\n",
              "      <td>2021</td>\n",
              "    </tr>\n",
              "    <tr>\n",
              "      <th>1</th>\n",
              "      <td>3800</td>\n",
              "      <td>5</td>\n",
              "      <td>banana</td>\n",
              "      <td>2021</td>\n",
              "    </tr>\n",
              "    <tr>\n",
              "      <th>2</th>\n",
              "      <td>6000</td>\n",
              "      <td>3</td>\n",
              "      <td>cherry</td>\n",
              "      <td>2021</td>\n",
              "    </tr>\n",
              "    <tr>\n",
              "      <th>3</th>\n",
              "      <td>1200</td>\n",
              "      <td>8</td>\n",
              "      <td>pear</td>\n",
              "      <td>2021</td>\n",
              "    </tr>\n",
              "  </tbody>\n",
              "</table>\n",
              "</div>"
            ],
            "text/plain": [
              "   fruitPrice  num fruitName  Year\n",
              "0        2500   10     apple  2021\n",
              "1        3800    5    banana  2021\n",
              "2        6000    3    cherry  2021\n",
              "3        1200    8      pear  2021"
            ]
          },
          "metadata": {
            "tags": []
          },
          "execution_count": 40
        }
      ]
    },
    {
      "cell_type": "code",
      "metadata": {
        "id": "_FhhaOjvHJE8"
      },
      "source": [
        "var = Series([4,2,1], index = [0,2,3])"
      ],
      "execution_count": null,
      "outputs": []
    },
    {
      "cell_type": "code",
      "metadata": {
        "id": "h_o3wFJhHjY7"
      },
      "source": [
        "fruitFrame['stock'] = var"
      ],
      "execution_count": null,
      "outputs": []
    },
    {
      "cell_type": "code",
      "metadata": {
        "colab": {
          "base_uri": "https://localhost:8080/",
          "height": 173
        },
        "id": "pClpDBpkHkN7",
        "outputId": "a81be535-565b-4230-b464-5c4803ec07f0"
      },
      "source": [
        "fruitFrame"
      ],
      "execution_count": null,
      "outputs": [
        {
          "output_type": "execute_result",
          "data": {
            "text/html": [
              "<div>\n",
              "<style scoped>\n",
              "    .dataframe tbody tr th:only-of-type {\n",
              "        vertical-align: middle;\n",
              "    }\n",
              "\n",
              "    .dataframe tbody tr th {\n",
              "        vertical-align: top;\n",
              "    }\n",
              "\n",
              "    .dataframe thead th {\n",
              "        text-align: right;\n",
              "    }\n",
              "</style>\n",
              "<table border=\"1\" class=\"dataframe\">\n",
              "  <thead>\n",
              "    <tr style=\"text-align: right;\">\n",
              "      <th></th>\n",
              "      <th>fruitPrice</th>\n",
              "      <th>num</th>\n",
              "      <th>fruitName</th>\n",
              "      <th>Year</th>\n",
              "      <th>stock</th>\n",
              "    </tr>\n",
              "  </thead>\n",
              "  <tbody>\n",
              "    <tr>\n",
              "      <th>0</th>\n",
              "      <td>2500</td>\n",
              "      <td>10</td>\n",
              "      <td>apple</td>\n",
              "      <td>2021</td>\n",
              "      <td>4.0</td>\n",
              "    </tr>\n",
              "    <tr>\n",
              "      <th>1</th>\n",
              "      <td>3800</td>\n",
              "      <td>5</td>\n",
              "      <td>banana</td>\n",
              "      <td>2021</td>\n",
              "      <td>NaN</td>\n",
              "    </tr>\n",
              "    <tr>\n",
              "      <th>2</th>\n",
              "      <td>6000</td>\n",
              "      <td>3</td>\n",
              "      <td>cherry</td>\n",
              "      <td>2021</td>\n",
              "      <td>2.0</td>\n",
              "    </tr>\n",
              "    <tr>\n",
              "      <th>3</th>\n",
              "      <td>1200</td>\n",
              "      <td>8</td>\n",
              "      <td>pear</td>\n",
              "      <td>2021</td>\n",
              "      <td>1.0</td>\n",
              "    </tr>\n",
              "  </tbody>\n",
              "</table>\n",
              "</div>"
            ],
            "text/plain": [
              "   fruitPrice  num fruitName  Year  stock\n",
              "0        2500   10     apple  2021    4.0\n",
              "1        3800    5    banana  2021    NaN\n",
              "2        6000    3    cherry  2021    2.0\n",
              "3        1200    8      pear  2021    1.0"
            ]
          },
          "metadata": {
            "tags": []
          },
          "execution_count": 47
        }
      ]
    },
    {
      "cell_type": "code",
      "metadata": {
        "id": "QAoPz0lVHxNr"
      },
      "source": [
        "fruit = Series([2500,3800,1200,6000],index=['apple','banana','pear','cherry'])"
      ],
      "execution_count": null,
      "outputs": []
    },
    {
      "cell_type": "code",
      "metadata": {
        "colab": {
          "base_uri": "https://localhost:8080/"
        },
        "id": "J8G5yZAiLBnp",
        "outputId": "0cab5a85-24ad-4eec-a144-fb88958ed232"
      },
      "source": [
        "fruit"
      ],
      "execution_count": null,
      "outputs": [
        {
          "output_type": "execute_result",
          "data": {
            "text/plain": [
              "apple     2500\n",
              "banana    3800\n",
              "pear      1200\n",
              "cherry    6000\n",
              "dtype: int64"
            ]
          },
          "metadata": {
            "tags": []
          },
          "execution_count": 54
        }
      ]
    },
    {
      "cell_type": "code",
      "metadata": {
        "id": "MqLr3mBHLHXF"
      },
      "source": [
        "new_fruit = fruit.drop('banana')"
      ],
      "execution_count": null,
      "outputs": []
    },
    {
      "cell_type": "code",
      "metadata": {
        "colab": {
          "base_uri": "https://localhost:8080/"
        },
        "id": "jMPPdJ80LRZz",
        "outputId": "6232f3f9-0011-41af-87c0-a532385397f7"
      },
      "source": [
        "new_fruit"
      ],
      "execution_count": null,
      "outputs": [
        {
          "output_type": "execute_result",
          "data": {
            "text/plain": [
              "apple     2500\n",
              "pear      1200\n",
              "cherry    6000\n",
              "dtype: int64"
            ]
          },
          "metadata": {
            "tags": []
          },
          "execution_count": 56
        }
      ]
    },
    {
      "cell_type": "code",
      "metadata": {
        "colab": {
          "base_uri": "https://localhost:8080/"
        },
        "id": "sl2hn7-0LSYd",
        "outputId": "688c36ab-fea6-41d4-bf97-87c594bc0337"
      },
      "source": [
        "fruitData"
      ],
      "execution_count": null,
      "outputs": [
        {
          "output_type": "execute_result",
          "data": {
            "text/plain": [
              "{'fruitName': ['apple', 'banana', 'cherry', 'pear'],\n",
              " 'fruitPrice': [2500, 3800, 6000, 1200],\n",
              " 'num': [10, 5, 3, 8]}"
            ]
          },
          "metadata": {
            "tags": []
          },
          "execution_count": 57
        }
      ]
    },
    {
      "cell_type": "code",
      "metadata": {
        "id": "fTd_PzO3Ls_-"
      },
      "source": [
        "fruitName = fruitData['fruitName']"
      ],
      "execution_count": null,
      "outputs": []
    },
    {
      "cell_type": "code",
      "metadata": {
        "id": "v84Pv_VvL2Rs"
      },
      "source": [
        "fruitFrame = DataFrame(fruitData,\n",
        "                       index=fruitName,\n",
        "                       columns = ['fruitPrice','num'])"
      ],
      "execution_count": null,
      "outputs": []
    },
    {
      "cell_type": "code",
      "metadata": {
        "colab": {
          "base_uri": "https://localhost:8080/",
          "height": 173
        },
        "id": "ojTsj2U1MFWE",
        "outputId": "741ec46f-21cf-4415-d520-b435331809a4"
      },
      "source": [
        "fruitFrame"
      ],
      "execution_count": null,
      "outputs": [
        {
          "output_type": "execute_result",
          "data": {
            "text/html": [
              "<div>\n",
              "<style scoped>\n",
              "    .dataframe tbody tr th:only-of-type {\n",
              "        vertical-align: middle;\n",
              "    }\n",
              "\n",
              "    .dataframe tbody tr th {\n",
              "        vertical-align: top;\n",
              "    }\n",
              "\n",
              "    .dataframe thead th {\n",
              "        text-align: right;\n",
              "    }\n",
              "</style>\n",
              "<table border=\"1\" class=\"dataframe\">\n",
              "  <thead>\n",
              "    <tr style=\"text-align: right;\">\n",
              "      <th></th>\n",
              "      <th>fruitPrice</th>\n",
              "      <th>num</th>\n",
              "    </tr>\n",
              "  </thead>\n",
              "  <tbody>\n",
              "    <tr>\n",
              "      <th>apple</th>\n",
              "      <td>2500</td>\n",
              "      <td>10</td>\n",
              "    </tr>\n",
              "    <tr>\n",
              "      <th>banana</th>\n",
              "      <td>3800</td>\n",
              "      <td>5</td>\n",
              "    </tr>\n",
              "    <tr>\n",
              "      <th>cherry</th>\n",
              "      <td>6000</td>\n",
              "      <td>3</td>\n",
              "    </tr>\n",
              "    <tr>\n",
              "      <th>pear</th>\n",
              "      <td>1200</td>\n",
              "      <td>8</td>\n",
              "    </tr>\n",
              "  </tbody>\n",
              "</table>\n",
              "</div>"
            ],
            "text/plain": [
              "        fruitPrice  num\n",
              "apple         2500   10\n",
              "banana        3800    5\n",
              "cherry        6000    3\n",
              "pear          1200    8"
            ]
          },
          "metadata": {
            "tags": []
          },
          "execution_count": 63
        }
      ]
    },
    {
      "cell_type": "code",
      "metadata": {
        "id": "LcJvC17xMTA1"
      },
      "source": [
        "fruitFrame2 = fruitFrame.drop(['apple','cherry'])"
      ],
      "execution_count": null,
      "outputs": []
    },
    {
      "cell_type": "code",
      "metadata": {
        "colab": {
          "base_uri": "https://localhost:8080/",
          "height": 111
        },
        "id": "nxMxwqUzNcmE",
        "outputId": "1710570f-0118-4e89-88d4-e97a1142d719"
      },
      "source": [
        "fruitFrame2"
      ],
      "execution_count": null,
      "outputs": [
        {
          "output_type": "execute_result",
          "data": {
            "text/html": [
              "<div>\n",
              "<style scoped>\n",
              "    .dataframe tbody tr th:only-of-type {\n",
              "        vertical-align: middle;\n",
              "    }\n",
              "\n",
              "    .dataframe tbody tr th {\n",
              "        vertical-align: top;\n",
              "    }\n",
              "\n",
              "    .dataframe thead th {\n",
              "        text-align: right;\n",
              "    }\n",
              "</style>\n",
              "<table border=\"1\" class=\"dataframe\">\n",
              "  <thead>\n",
              "    <tr style=\"text-align: right;\">\n",
              "      <th></th>\n",
              "      <th>fruitPrice</th>\n",
              "      <th>num</th>\n",
              "    </tr>\n",
              "  </thead>\n",
              "  <tbody>\n",
              "    <tr>\n",
              "      <th>banana</th>\n",
              "      <td>3800</td>\n",
              "      <td>5</td>\n",
              "    </tr>\n",
              "    <tr>\n",
              "      <th>pear</th>\n",
              "      <td>1200</td>\n",
              "      <td>8</td>\n",
              "    </tr>\n",
              "  </tbody>\n",
              "</table>\n",
              "</div>"
            ],
            "text/plain": [
              "        fruitPrice  num\n",
              "banana        3800    5\n",
              "pear          1200    8"
            ]
          },
          "metadata": {
            "tags": []
          },
          "execution_count": 65
        }
      ]
    },
    {
      "cell_type": "code",
      "metadata": {
        "id": "7QmSUjokNgSJ"
      },
      "source": [
        "fruitFrame3 = fruitFrame.drop('num',axis=1)"
      ],
      "execution_count": null,
      "outputs": []
    },
    {
      "cell_type": "code",
      "metadata": {
        "colab": {
          "base_uri": "https://localhost:8080/",
          "height": 173
        },
        "id": "B4c2gnyKN7dp",
        "outputId": "7ca74ba0-11c2-479c-9ea3-cc4304060af2"
      },
      "source": [
        "fruitFrame"
      ],
      "execution_count": null,
      "outputs": [
        {
          "output_type": "execute_result",
          "data": {
            "text/html": [
              "<div>\n",
              "<style scoped>\n",
              "    .dataframe tbody tr th:only-of-type {\n",
              "        vertical-align: middle;\n",
              "    }\n",
              "\n",
              "    .dataframe tbody tr th {\n",
              "        vertical-align: top;\n",
              "    }\n",
              "\n",
              "    .dataframe thead th {\n",
              "        text-align: right;\n",
              "    }\n",
              "</style>\n",
              "<table border=\"1\" class=\"dataframe\">\n",
              "  <thead>\n",
              "    <tr style=\"text-align: right;\">\n",
              "      <th></th>\n",
              "      <th>fruitPrice</th>\n",
              "      <th>num</th>\n",
              "    </tr>\n",
              "  </thead>\n",
              "  <tbody>\n",
              "    <tr>\n",
              "      <th>apple</th>\n",
              "      <td>2500</td>\n",
              "      <td>10</td>\n",
              "    </tr>\n",
              "    <tr>\n",
              "      <th>banana</th>\n",
              "      <td>3800</td>\n",
              "      <td>5</td>\n",
              "    </tr>\n",
              "    <tr>\n",
              "      <th>cherry</th>\n",
              "      <td>6000</td>\n",
              "      <td>3</td>\n",
              "    </tr>\n",
              "    <tr>\n",
              "      <th>pear</th>\n",
              "      <td>1200</td>\n",
              "      <td>8</td>\n",
              "    </tr>\n",
              "  </tbody>\n",
              "</table>\n",
              "</div>"
            ],
            "text/plain": [
              "        fruitPrice  num\n",
              "apple         2500   10\n",
              "banana        3800    5\n",
              "cherry        6000    3\n",
              "pear          1200    8"
            ]
          },
          "metadata": {
            "tags": []
          },
          "execution_count": 69
        }
      ]
    },
    {
      "cell_type": "code",
      "metadata": {
        "colab": {
          "base_uri": "https://localhost:8080/",
          "height": 173
        },
        "id": "OY__7ge7N8aR",
        "outputId": "97bfbffc-5e21-41f3-c7a0-1fd2b51ddc03"
      },
      "source": [
        "fruitFrame3"
      ],
      "execution_count": null,
      "outputs": [
        {
          "output_type": "execute_result",
          "data": {
            "text/html": [
              "<div>\n",
              "<style scoped>\n",
              "    .dataframe tbody tr th:only-of-type {\n",
              "        vertical-align: middle;\n",
              "    }\n",
              "\n",
              "    .dataframe tbody tr th {\n",
              "        vertical-align: top;\n",
              "    }\n",
              "\n",
              "    .dataframe thead th {\n",
              "        text-align: right;\n",
              "    }\n",
              "</style>\n",
              "<table border=\"1\" class=\"dataframe\">\n",
              "  <thead>\n",
              "    <tr style=\"text-align: right;\">\n",
              "      <th></th>\n",
              "      <th>fruitPrice</th>\n",
              "    </tr>\n",
              "  </thead>\n",
              "  <tbody>\n",
              "    <tr>\n",
              "      <th>apple</th>\n",
              "      <td>2500</td>\n",
              "    </tr>\n",
              "    <tr>\n",
              "      <th>banana</th>\n",
              "      <td>3800</td>\n",
              "    </tr>\n",
              "    <tr>\n",
              "      <th>cherry</th>\n",
              "      <td>6000</td>\n",
              "    </tr>\n",
              "    <tr>\n",
              "      <th>pear</th>\n",
              "      <td>1200</td>\n",
              "    </tr>\n",
              "  </tbody>\n",
              "</table>\n",
              "</div>"
            ],
            "text/plain": [
              "        fruitPrice\n",
              "apple         2500\n",
              "banana        3800\n",
              "cherry        6000\n",
              "pear          1200"
            ]
          },
          "metadata": {
            "tags": []
          },
          "execution_count": 70
        }
      ]
    },
    {
      "cell_type": "markdown",
      "metadata": {
        "id": "4aQ4cNB1O2E2"
      },
      "source": [
        "#Slice"
      ]
    },
    {
      "cell_type": "code",
      "metadata": {
        "colab": {
          "base_uri": "https://localhost:8080/"
        },
        "id": "o02ttKmxOBkJ",
        "outputId": "0bb8ce50-d51b-469c-f8a3-33fef21c51cb"
      },
      "source": [
        "fruit"
      ],
      "execution_count": null,
      "outputs": [
        {
          "output_type": "execute_result",
          "data": {
            "text/plain": [
              "apple     2500\n",
              "banana    3800\n",
              "pear      1200\n",
              "cherry    6000\n",
              "dtype: int64"
            ]
          },
          "metadata": {
            "tags": []
          },
          "execution_count": 71
        }
      ]
    },
    {
      "cell_type": "code",
      "metadata": {
        "colab": {
          "base_uri": "https://localhost:8080/"
        },
        "id": "eTIIqKxKOx7W",
        "outputId": "10ae4610-2843-432d-a028-d6e2ffbbe103"
      },
      "source": [
        "fruit['apple':'pear']"
      ],
      "execution_count": null,
      "outputs": [
        {
          "output_type": "execute_result",
          "data": {
            "text/plain": [
              "apple     2500\n",
              "banana    3800\n",
              "pear      1200\n",
              "dtype: int64"
            ]
          },
          "metadata": {
            "tags": []
          },
          "execution_count": 73
        }
      ]
    },
    {
      "cell_type": "code",
      "metadata": {
        "colab": {
          "base_uri": "https://localhost:8080/"
        },
        "id": "zqwqAynHPLcO",
        "outputId": "7dd1c558-f93f-4e20-bb35-92030e50c04a"
      },
      "source": [
        "fruitData"
      ],
      "execution_count": null,
      "outputs": [
        {
          "output_type": "execute_result",
          "data": {
            "text/plain": [
              "{'fruitName': ['apple', 'banana', 'cherry', 'pear'],\n",
              " 'fruitPrice': [2500, 3800, 6000, 1200],\n",
              " 'num': [10, 5, 3, 8]}"
            ]
          },
          "metadata": {
            "tags": []
          },
          "execution_count": 74
        }
      ]
    },
    {
      "cell_type": "code",
      "metadata": {
        "id": "pUdx44EHPr_4"
      },
      "source": [
        "fruitName = fruitData['fruitName']"
      ],
      "execution_count": null,
      "outputs": []
    },
    {
      "cell_type": "code",
      "metadata": {
        "id": "pcqMmDTXPwr9"
      },
      "source": [
        "fruitFrame = DataFrame(fruitData,index=fruitName,columns=['fruitPrice','num'])"
      ],
      "execution_count": null,
      "outputs": []
    },
    {
      "cell_type": "code",
      "metadata": {
        "colab": {
          "base_uri": "https://localhost:8080/"
        },
        "id": "vZgOeoSiQC21",
        "outputId": "7bc64a7e-8b57-44f9-f007-2ed26b1b0ebf"
      },
      "source": [
        "fruitFrame['fruitPrice']"
      ],
      "execution_count": null,
      "outputs": [
        {
          "output_type": "execute_result",
          "data": {
            "text/plain": [
              "apple     2500\n",
              "banana    3800\n",
              "cherry    6000\n",
              "pear      1200\n",
              "Name: fruitPrice, dtype: int64"
            ]
          },
          "metadata": {
            "tags": []
          },
          "execution_count": 82
        }
      ]
    },
    {
      "cell_type": "code",
      "metadata": {
        "colab": {
          "base_uri": "https://localhost:8080/",
          "height": 111
        },
        "id": "bEchD7hcQELl",
        "outputId": "0ad2693f-f2ac-4b72-bb3b-1e1f06acf7d9"
      },
      "source": [
        "fruitFrame['apple':'banana']"
      ],
      "execution_count": null,
      "outputs": [
        {
          "output_type": "execute_result",
          "data": {
            "text/html": [
              "<div>\n",
              "<style scoped>\n",
              "    .dataframe tbody tr th:only-of-type {\n",
              "        vertical-align: middle;\n",
              "    }\n",
              "\n",
              "    .dataframe tbody tr th {\n",
              "        vertical-align: top;\n",
              "    }\n",
              "\n",
              "    .dataframe thead th {\n",
              "        text-align: right;\n",
              "    }\n",
              "</style>\n",
              "<table border=\"1\" class=\"dataframe\">\n",
              "  <thead>\n",
              "    <tr style=\"text-align: right;\">\n",
              "      <th></th>\n",
              "      <th>fruitPrice</th>\n",
              "      <th>num</th>\n",
              "    </tr>\n",
              "  </thead>\n",
              "  <tbody>\n",
              "    <tr>\n",
              "      <th>apple</th>\n",
              "      <td>2500</td>\n",
              "      <td>10</td>\n",
              "    </tr>\n",
              "    <tr>\n",
              "      <th>banana</th>\n",
              "      <td>3800</td>\n",
              "      <td>5</td>\n",
              "    </tr>\n",
              "  </tbody>\n",
              "</table>\n",
              "</div>"
            ],
            "text/plain": [
              "        fruitPrice  num\n",
              "apple         2500   10\n",
              "banana        3800    5"
            ]
          },
          "metadata": {
            "tags": []
          },
          "execution_count": 83
        }
      ]
    },
    {
      "cell_type": "markdown",
      "metadata": {
        "id": "uWJgoM0cQi5U"
      },
      "source": [
        "##데이터의 기본연산"
      ]
    },
    {
      "cell_type": "code",
      "metadata": {
        "id": "wsDj1VtZU54q"
      },
      "source": [
        "fruit1 = Series([5,9,10,3],index=['apple','banana','cherry','pear'])"
      ],
      "execution_count": null,
      "outputs": []
    },
    {
      "cell_type": "code",
      "metadata": {
        "id": "trdnWO0SVNn8"
      },
      "source": [
        "fruit2 = Series([3,2,9,5,10],index=['apple','orange','banana','cherry','mango'])"
      ],
      "execution_count": null,
      "outputs": []
    },
    {
      "cell_type": "code",
      "metadata": {
        "colab": {
          "base_uri": "https://localhost:8080/"
        },
        "id": "DTL5h4xTVb7k",
        "outputId": "804f02e7-a5cb-4b1d-f2a4-f2a30ece2881"
      },
      "source": [
        "print(fruit1,fruit2)"
      ],
      "execution_count": null,
      "outputs": [
        {
          "output_type": "stream",
          "text": [
            "apple      5\n",
            "banana     9\n",
            "cherry    10\n",
            "pear       3\n",
            "dtype: int64 apple      3\n",
            "orange     2\n",
            "banana     9\n",
            "cherry     5\n",
            "mango     10\n",
            "dtype: int64\n"
          ],
          "name": "stdout"
        }
      ]
    },
    {
      "cell_type": "code",
      "metadata": {
        "colab": {
          "base_uri": "https://localhost:8080/"
        },
        "id": "CwL7C-5WVkkF",
        "outputId": "a40a13c6-911b-458d-832d-db1c0c368635"
      },
      "source": [
        "fruit1 + fruit2"
      ],
      "execution_count": null,
      "outputs": [
        {
          "output_type": "execute_result",
          "data": {
            "text/plain": [
              "apple      8.0\n",
              "banana    18.0\n",
              "cherry    15.0\n",
              "mango      NaN\n",
              "orange     NaN\n",
              "pear       NaN\n",
              "dtype: float64"
            ]
          },
          "metadata": {
            "tags": []
          },
          "execution_count": 92
        }
      ]
    },
    {
      "cell_type": "code",
      "metadata": {
        "id": "zcUFKn2vV3L7"
      },
      "source": [
        ""
      ],
      "execution_count": null,
      "outputs": []
    }
  ]
}